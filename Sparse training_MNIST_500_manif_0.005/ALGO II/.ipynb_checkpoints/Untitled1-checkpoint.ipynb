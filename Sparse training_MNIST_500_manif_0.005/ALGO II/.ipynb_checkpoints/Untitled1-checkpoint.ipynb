{
 "cells": [
  {
   "cell_type": "code",
   "execution_count": 1,
   "metadata": {},
   "outputs": [],
   "source": [
    "import tensorflow as tf\n",
    "import numpy as np\n",
    "import pandas as pd\n",
    "from Utilities.get_image_data import load_data\n",
    "from Utilities.form_train_val_test_batches import form_train_val_test_batches\n",
    "from Utilities.NN_FC_layerwise import FCLayerwise\n",
    "from Utilities.NN_FC_layerwise_new import FCLayerwise_new\n",
    "from Utilities.Net import Final_Network\n",
    "from Utilities.Net_new import Final_Network_ALGO_II\n",
    "from Utilities.create_data import create_new\n",
    "from Utilities.loss_and_accuracies import data_loss_classification, accuracy_classification\n",
    "from Utilities.manifold_regularization import manifold_classification\n",
    "from Utilities.manifold_regularization_new import manifold_classification_new\n",
    "from Utilities.optimize_layerwise import optimize\n",
    "from Utilities.additive_output import net_output \n",
    "from Utilities.plot_and_save_figures_layerwise import plot_fig\n",
    "from joblib import Parallel, delayed\n",
    "from Utilities.optimize_step_II import optimize_step\n",
    "import multiprocessing\n",
    "import random"
   ]
  },
  {
   "cell_type": "code",
   "execution_count": null,
   "metadata": {},
   "outputs": [],
   "source": []
  },
  {
   "cell_type": "code",
   "execution_count": 2,
   "metadata": {},
   "outputs": [],
   "source": [
    "from decimal import Decimal # for filenames\n",
    "\n",
    "import pdb #Equivalent of keyboard in MATLAB, just add \"pdb.set_trace()\"\n",
    "\n",
    "import os\n",
    "import sys"
   ]
  },
  {
   "cell_type": "code",
   "execution_count": 3,
   "metadata": {},
   "outputs": [],
   "source": [
    "###############################################################################\n",
    "#                       HyperParameters and RunOptions                        #\n",
    "###############################################################################\n",
    "class Hyperparameters:\n",
    "    max_hidden_layers = 10 # For this architecture, need at least 2. One for the mapping to the feature space, one as a trainable hidden layer. EXCLUDES MAPPING BACK TO DATA SPACE\n",
    "    num_hidden_nodes  = 20 \n",
    "    activation        = 'elu'\n",
    "    classification_act= 'softmax'\n",
    "    regularization    = 0.001\n",
    "    manifold          = 0.003\n",
    "    node_TOL          = 1e-4\n",
    "    error_TOL         = 1e-4\n",
    "    batch_size        = 1000\n",
    "    num_epochs        = 100\n",
    "    \n",
    "    num_networks      = 6\n",
    "    "
   ]
  },
  {
   "cell_type": "code",
   "execution_count": null,
   "metadata": {},
   "outputs": [],
   "source": []
  },
  {
   "cell_type": "code",
   "execution_count": 4,
   "metadata": {},
   "outputs": [],
   "source": [
    "class Hyperparameters_new:\n",
    "    max_hidden_layers = 3 # For this architecture, need at least 2. One for the mapping to the feature space, one as a trainable hidden layer. EXCLUDES MAPPING BACK TO DATA SPACE\n",
    "    num_hidden_nodes  = 20\n",
    "    activation        = 'relu'\n",
    "    classification_act= 'linear'\n",
    "    regularization    = 0.000\n",
    "    manifold          = 0.000\n",
    "    node_TOL          = 1e-4\n",
    "    error_TOL         = 1e-4\n",
    "    batch_size        = 1000\n",
    "    num_epochs        = 50"
   ]
  },
  {
   "cell_type": "code",
   "execution_count": 5,
   "metadata": {},
   "outputs": [],
   "source": [
    "class RunOptions:\n",
    "    def __init__(self):    \n",
    "        #=== Choose Which GPU to Use ===#\n",
    "        self.which_gpu = '1'\n",
    "        \n",
    "        #=== Use L_1 Regularization ===#\n",
    "        self.use_L1 = 1\n",
    "        \n",
    "        #=== Choose Data Set ===#\n",
    "        self.data_MNIST = 1\n",
    "        self.data_CIFAR10 = 0 \n",
    "        self.data_CIFAR100 = 0\n",
    "        \n",
    "        #=== Random Seed ===#\n",
    "        self.random_seed = 1234\n"
   ]
  },
  {
   "cell_type": "code",
   "execution_count": 6,
   "metadata": {},
   "outputs": [],
   "source": [
    "###############################################################################\n",
    "#                                 File Paths                                  #\n",
    "###############################################################################         \n",
    "class FilePaths():    \n",
    "    def __init__(self, hyperp, run_options):  \n",
    "        #=== Declaring File Name Components ===# \n",
    "        self.NN_type = 'FC'\n",
    "        if run_options.data_MNIST == 1:\n",
    "            self.dataset = 'MNIST'\n",
    "        if run_options.data_CIFAR10 == 1:\n",
    "            self.dataset = 'CIFAR10'\n",
    "        if run_options.data_CIFAR100 == 1:\n",
    "            self.dataset = 'CIFAR100'\n",
    "        if hyperp.regularization >= 1:\n",
    "            hyperp.regularization = int(hyperp.regularization)\n",
    "            regularization_string = str(hyperp.regularization)\n",
    "        else:\n",
    "            regularization_string = str(hyperp.regularization)\n",
    "            regularization_string = 'pt' + regularization_string[2:]                        \n",
    "        node_TOL_string = str('%.2e' %Decimal(hyperp.node_TOL))\n",
    "        node_TOL_string = node_TOL_string[-1]\n",
    "        error_TOL_string = str('%.2e' %Decimal(hyperp.error_TOL))\n",
    "        error_TOL_string = error_TOL_string[-1]\n",
    "        \n",
    "        #=== File Name ===#\n",
    "        if run_options.use_L1 == 0:\n",
    "            self.filename = self.dataset + '_' + self.NN_type + '_mhl%d_hl%d_eTOL%s_b%d_e%d' %(hyperp.max_hidden_layers, hyperp.num_hidden_nodes, error_TOL_string, hyperp.batch_size, hyperp.num_epochs)\n",
    "        else:\n",
    "            self.filename = self.dataset + '_' + self.NN_type + '_L1_mhl%d_hl%d_r%s_nTOL%s_eTOL%s_b%d_e%d' %(hyperp.max_hidden_layers, hyperp.num_hidden_nodes, regularization_string, node_TOL_string, error_TOL_string, hyperp.batch_size, hyperp.num_epochs)\n",
    "\n",
    "        #=== Saving Trained Neural Network and Tensorboard ===#\n",
    "        #self.NN_savefile_directory = 'C:/Users/Chandradut/Desktop/Sparse training/Trained_NNs/' + self.filename # Since we need to save four different types of files to save a neural network model, we need to create a new folder for each model\n",
    "        self.NN_savefile_directory =  self.filename\n",
    "        self.NN_savefile_name = self.NN_savefile_directory + '/' + self.filename # The file path and name for the four files\n",
    "        #self.tensorboard_directory = 'C:/Users/Chandradut/Desktop/Sparse training/Tensorboard/' + self.filename\n",
    "\n",
    "###############################################################################\n",
    "\n"
   ]
  },
  {
   "cell_type": "code",
   "execution_count": 7,
   "metadata": {},
   "outputs": [
    {
     "name": "stderr",
     "output_type": "stream",
     "text": [
      "2021-09-14 15:44:24.617805: I tensorflow/core/platform/cpu_feature_guard.cc:145] This TensorFlow binary is optimized with Intel(R) MKL-DNN to use the following CPU instructions in performance critical operations:  SSE4.1 SSE4.2 AVX\n",
      "To enable them in non-MKL-DNN operations, rebuild TensorFlow with the appropriate compiler flags.\n",
      "2021-09-14 15:44:24.670067: I tensorflow/core/platform/profile_utils/cpu_utils.cc:94] CPU Frequency: 2593725000 Hz\n",
      "2021-09-14 15:44:24.673166: I tensorflow/compiler/xla/service/service.cc:168] XLA service 0x55b6a1575bb0 executing computations on platform Host. Devices:\n",
      "2021-09-14 15:44:24.673221: I tensorflow/compiler/xla/service/service.cc:175]   StreamExecutor device (0): Host, Default Version\n",
      "2021-09-14 15:44:24.731751: I tensorflow/core/common_runtime/process_util.cc:115] Creating new thread pool with default inter op setting: 2. Tune using inter_op_parallelism_threads for best performance.\n"
     ]
    },
    {
     "name": "stdout",
     "output_type": "stream",
     "text": [
      "WARNING:tensorflow:From /workspace/krish/anaconda/envs/tf/lib/python3.7/site-packages/tensorflow_core/python/ops/image_ops_impl.py:1518: div (from tensorflow.python.ops.math_ops) is deprecated and will be removed in a future version.\n",
      "Instructions for updating:\n",
      "Deprecated in favor of operator or tf.math.divide.\n",
      "ListWrapper([784, 20, 20, 10])\n",
      "Model: \"sequential\"\n",
      "_________________________________________________________________\n",
      "Layer (type)                 Output Shape              Param #   \n",
      "=================================================================\n",
      "dense (Dense)                (None, 20)                15700     \n",
      "_________________________________________________________________\n",
      "dense_1 (Dense)              (None, 20)                420       \n",
      "_________________________________________________________________\n",
      "dense_2 (Dense)              (None, 10)                210       \n",
      "=================================================================\n",
      "Total params: 16,330\n",
      "Trainable params: 16,330\n",
      "Non-trainable params: 0\n",
      "_________________________________________________________________\n",
      "Train on 60000 samples\n",
      "Epoch 1/100\n",
      "60000/60000 [==============================] - 3s 43us/sample - loss: 0.1327 - mean_squared_error: 0.1327\n",
      "Epoch 2/100\n",
      "60000/60000 [==============================] - 1s 22us/sample - loss: 0.0100 - mean_squared_error: 0.0100\n",
      "Epoch 3/100\n",
      "60000/60000 [==============================] - 1s 20us/sample - loss: 0.0064 - mean_squared_error: 0.0064\n",
      "Epoch 4/100\n",
      "60000/60000 [==============================] - 1s 20us/sample - loss: 0.0059 - mean_squared_error: 0.0059\n",
      "Epoch 5/100\n",
      "60000/60000 [==============================] - 1s 23us/sample - loss: 0.0056 - mean_squared_error: 0.0056\n",
      "Epoch 6/100\n",
      "60000/60000 [==============================] - 1s 24us/sample - loss: 0.0054 - mean_squared_error: 0.0054\n",
      "Epoch 7/100\n",
      "60000/60000 [==============================] - 1s 22us/sample - loss: 0.0053 - mean_squared_error: 0.0053\n",
      "Epoch 8/100\n",
      "60000/60000 [==============================] - 1s 22us/sample - loss: 0.0052 - mean_squared_error: 0.0052\n",
      "Epoch 9/100\n",
      "60000/60000 [==============================] - 1s 21us/sample - loss: 0.0051 - mean_squared_error: 0.0051\n",
      "Epoch 10/100\n",
      "60000/60000 [==============================] - 1s 19us/sample - loss: 0.0051 - mean_squared_error: 0.0051\n",
      "Epoch 11/100\n",
      "60000/60000 [==============================] - 1s 23us/sample - loss: 0.0051 - mean_squared_error: 0.0051\n",
      "Epoch 12/100\n",
      "60000/60000 [==============================] - 2s 25us/sample - loss: 0.0050 - mean_squared_error: 0.0050\n",
      "Epoch 13/100\n",
      "60000/60000 [==============================] - 2s 25us/sample - loss: 0.0050 - mean_squared_error: 0.0050\n",
      "Epoch 14/100\n",
      "60000/60000 [==============================] - 1s 18us/sample - loss: 0.0050 - mean_squared_error: 0.0050\n",
      "Epoch 15/100\n",
      "60000/60000 [==============================] - 2s 26us/sample - loss: 0.0050 - mean_squared_error: 0.0050\n",
      "Epoch 16/100\n",
      "60000/60000 [==============================] - 1s 23us/sample - loss: 0.0050 - mean_squared_error: 0.0050\n",
      "Epoch 17/100\n",
      "60000/60000 [==============================] - 2s 25us/sample - loss: 0.0049 - mean_squared_error: 0.0049\n",
      "Epoch 18/100\n",
      "60000/60000 [==============================] - 1s 21us/sample - loss: 0.0049 - mean_squared_error: 0.0049\n",
      "Epoch 19/100\n",
      "60000/60000 [==============================] - 1s 22us/sample - loss: 0.0049 - mean_squared_error: 0.0049\n",
      "Epoch 20/100\n",
      "60000/60000 [==============================] - 1s 21us/sample - loss: 0.0049 - mean_squared_error: 0.0049\n",
      "Epoch 21/100\n",
      "60000/60000 [==============================] - 1s 22us/sample - loss: 0.0049 - mean_squared_error: 0.0049\n",
      "Epoch 22/100\n",
      "60000/60000 [==============================] - 1s 23us/sample - loss: 0.0049 - mean_squared_error: 0.0049\n",
      "Epoch 23/100\n",
      "60000/60000 [==============================] - 1s 25us/sample - loss: 0.0049 - mean_squared_error: 0.0049\n",
      "Epoch 24/100\n",
      "60000/60000 [==============================] - 1s 22us/sample - loss: 0.0049 - mean_squared_error: 0.0049\n",
      "Epoch 25/100\n",
      "60000/60000 [==============================] - 1s 22us/sample - loss: 0.0049 - mean_squared_error: 0.0049\n",
      "Epoch 26/100\n",
      "60000/60000 [==============================] - 1s 22us/sample - loss: 0.0049 - mean_squared_error: 0.0049\n",
      "Epoch 27/100\n",
      "60000/60000 [==============================] - 1s 19us/sample - loss: 0.0049 - mean_squared_error: 0.0049\n",
      "Epoch 28/100\n",
      "60000/60000 [==============================] - 1s 18us/sample - loss: 0.0049 - mean_squared_error: 0.0049\n",
      "Epoch 29/100\n",
      "60000/60000 [==============================] - 1s 16us/sample - loss: 0.0049 - mean_squared_error: 0.0049\n",
      "Epoch 30/100\n",
      "60000/60000 [==============================] - 1s 21us/sample - loss: 0.0049 - mean_squared_error: 0.0049\n",
      "Epoch 31/100\n",
      "60000/60000 [==============================] - 1s 23us/sample - loss: 0.0049 - mean_squared_error: 0.0049\n",
      "Epoch 32/100\n",
      "60000/60000 [==============================] - 1s 23us/sample - loss: 0.0049 - mean_squared_error: 0.0049\n",
      "Epoch 33/100\n",
      "60000/60000 [==============================] - 1s 19us/sample - loss: 0.0049 - mean_squared_error: 0.0049\n",
      "Epoch 34/100\n",
      "60000/60000 [==============================] - 1s 22us/sample - loss: 0.0049 - mean_squared_error: 0.0049\n",
      "Epoch 35/100\n",
      "60000/60000 [==============================] - 1s 22us/sample - loss: 0.0049 - mean_squared_error: 0.0049\n",
      "Epoch 36/100\n",
      "60000/60000 [==============================] - 1s 23us/sample - loss: 0.0049 - mean_squared_error: 0.0049\n",
      "Epoch 37/100\n",
      "60000/60000 [==============================] - 1s 23us/sample - loss: 0.0049 - mean_squared_error: 0.0049\n",
      "Epoch 38/100\n",
      "60000/60000 [==============================] - 2s 26us/sample - loss: 0.0049 - mean_squared_error: 0.0049\n",
      "Epoch 39/100\n",
      "60000/60000 [==============================] - 1s 23us/sample - loss: 0.0049 - mean_squared_error: 0.0049\n",
      "Epoch 40/100\n",
      "60000/60000 [==============================] - 1s 22us/sample - loss: 0.0049 - mean_squared_error: 0.0049\n",
      "Epoch 41/100\n",
      "60000/60000 [==============================] - 1s 21us/sample - loss: 0.0049 - mean_squared_error: 0.0049\n",
      "Epoch 42/100\n",
      "60000/60000 [==============================] - 1s 22us/sample - loss: 0.0049 - mean_squared_error: 0.0049\n",
      "Epoch 43/100\n",
      "60000/60000 [==============================] - 1s 22us/sample - loss: 0.0049 - mean_squared_error: 0.0049\n",
      "Epoch 44/100\n",
      "60000/60000 [==============================] - 1s 21us/sample - loss: 0.0048 - mean_squared_error: 0.0048\n",
      "Epoch 45/100\n",
      "60000/60000 [==============================] - 1s 24us/sample - loss: 0.0048 - mean_squared_error: 0.0048\n",
      "Epoch 46/100\n",
      "60000/60000 [==============================] - 1s 20us/sample - loss: 0.0048 - mean_squared_error: 0.0048\n",
      "Epoch 47/100\n",
      "60000/60000 [==============================] - 1s 25us/sample - loss: 0.0048 - mean_squared_error: 0.0048\n",
      "Epoch 48/100\n",
      "60000/60000 [==============================] - 1s 21us/sample - loss: 0.0048 - mean_squared_error: 0.0048\n",
      "Epoch 49/100\n",
      "60000/60000 [==============================] - 1s 25us/sample - loss: 0.0048 - mean_squared_error: 0.0048\n",
      "Epoch 50/100\n",
      "60000/60000 [==============================] - 1s 24us/sample - loss: 0.0048 - mean_squared_error: 0.0048\n",
      "Epoch 51/100\n",
      "60000/60000 [==============================] - 1s 24us/sample - loss: 0.0048 - mean_squared_error: 0.0048\n",
      "Epoch 52/100\n",
      "60000/60000 [==============================] - 1s 21us/sample - loss: 0.0048 - mean_squared_error: 0.0048\n",
      "Epoch 53/100\n",
      "60000/60000 [==============================] - 2s 26us/sample - loss: 0.0048 - mean_squared_error: 0.0048\n",
      "Epoch 54/100\n",
      "60000/60000 [==============================] - 1s 20us/sample - loss: 0.0048 - mean_squared_error: 0.0048\n",
      "Epoch 55/100\n",
      "60000/60000 [==============================] - 1s 20us/sample - loss: 0.0048 - mean_squared_error: 0.0048\n",
      "Epoch 56/100\n",
      "60000/60000 [==============================] - 1s 20us/sample - loss: 0.0048 - mean_squared_error: 0.0048\n",
      "Epoch 57/100\n",
      "60000/60000 [==============================] - 1s 22us/sample - loss: 0.0048 - mean_squared_error: 0.0048\n",
      "Epoch 58/100\n",
      "60000/60000 [==============================] - 1s 20us/sample - loss: 0.0048 - mean_squared_error: 0.0048\n",
      "Epoch 59/100\n",
      "60000/60000 [==============================] - 1s 23us/sample - loss: 0.0048 - mean_squared_error: 0.0048\n",
      "Epoch 60/100\n"
     ]
    },
    {
     "name": "stdout",
     "output_type": "stream",
     "text": [
      "60000/60000 [==============================] - 1s 20us/sample - loss: 0.0048 - mean_squared_error: 0.0048\n",
      "Epoch 61/100\n",
      "60000/60000 [==============================] - 1s 20us/sample - loss: 0.0048 - mean_squared_error: 0.0048\n",
      "Epoch 62/100\n",
      "60000/60000 [==============================] - 1s 23us/sample - loss: 0.0048 - mean_squared_error: 0.0048\n",
      "Epoch 63/100\n",
      "60000/60000 [==============================] - 1s 20us/sample - loss: 0.0048 - mean_squared_error: 0.0048\n",
      "Epoch 64/100\n",
      "60000/60000 [==============================] - 1s 25us/sample - loss: 0.0048 - mean_squared_error: 0.0048\n",
      "Epoch 65/100\n",
      "60000/60000 [==============================] - 2s 25us/sample - loss: 0.0048 - mean_squared_error: 0.0048\n",
      "Epoch 66/100\n",
      "60000/60000 [==============================] - 1s 24us/sample - loss: 0.0048 - mean_squared_error: 0.0048\n",
      "Epoch 67/100\n",
      "60000/60000 [==============================] - 1s 17us/sample - loss: 0.0048 - mean_squared_error: 0.0048\n",
      "Epoch 68/100\n",
      "60000/60000 [==============================] - 1s 19us/sample - loss: 0.0048 - mean_squared_error: 0.0048\n",
      "Epoch 69/100\n",
      "60000/60000 [==============================] - 1s 19us/sample - loss: 0.0048 - mean_squared_error: 0.0048\n",
      "Epoch 70/100\n",
      "60000/60000 [==============================] - 1s 23us/sample - loss: 0.0048 - mean_squared_error: 0.0048\n",
      "Epoch 71/100\n",
      "60000/60000 [==============================] - 1s 18us/sample - loss: 0.0048 - mean_squared_error: 0.0048\n",
      "Epoch 72/100\n",
      "60000/60000 [==============================] - 1s 20us/sample - loss: 0.0048 - mean_squared_error: 0.0048\n",
      "Epoch 73/100\n",
      "60000/60000 [==============================] - 1s 24us/sample - loss: 0.0048 - mean_squared_error: 0.0048\n",
      "Epoch 74/100\n",
      "60000/60000 [==============================] - 1s 22us/sample - loss: 0.0048 - mean_squared_error: 0.0048\n",
      "Epoch 75/100\n",
      "60000/60000 [==============================] - 1s 22us/sample - loss: 0.0048 - mean_squared_error: 0.0048\n",
      "Epoch 76/100\n",
      "60000/60000 [==============================] - 1s 21us/sample - loss: 0.0048 - mean_squared_error: 0.0048\n",
      "Epoch 77/100\n",
      "60000/60000 [==============================] - 1s 25us/sample - loss: 0.0048 - mean_squared_error: 0.0048\n",
      "Epoch 78/100\n",
      "60000/60000 [==============================] - 1s 19us/sample - loss: 0.0048 - mean_squared_error: 0.0048\n",
      "Epoch 79/100\n",
      "60000/60000 [==============================] - 1s 21us/sample - loss: 0.0048 - mean_squared_error: 0.0048\n",
      "Epoch 80/100\n",
      "60000/60000 [==============================] - 1s 22us/sample - loss: 0.0048 - mean_squared_error: 0.0048\n",
      "Epoch 81/100\n",
      "60000/60000 [==============================] - 1s 21us/sample - loss: 0.0048 - mean_squared_error: 0.0048\n",
      "Epoch 82/100\n",
      "60000/60000 [==============================] - 1s 22us/sample - loss: 0.0048 - mean_squared_error: 0.0048\n",
      "Epoch 83/100\n",
      "60000/60000 [==============================] - 1s 21us/sample - loss: 0.0048 - mean_squared_error: 0.0048\n",
      "Epoch 84/100\n",
      "60000/60000 [==============================] - 1s 22us/sample - loss: 0.0048 - mean_squared_error: 0.0048\n",
      "Epoch 85/100\n",
      "60000/60000 [==============================] - 1s 22us/sample - loss: 0.0048 - mean_squared_error: 0.0048\n",
      "Epoch 86/100\n",
      "60000/60000 [==============================] - 1s 21us/sample - loss: 0.0048 - mean_squared_error: 0.0048\n",
      "Epoch 87/100\n",
      "60000/60000 [==============================] - 1s 23us/sample - loss: 0.0048 - mean_squared_error: 0.0048\n",
      "Epoch 88/100\n",
      "60000/60000 [==============================] - 1s 21us/sample - loss: 0.0048 - mean_squared_error: 0.0048\n",
      "Epoch 89/100\n",
      "60000/60000 [==============================] - 2s 26us/sample - loss: 0.0048 - mean_squared_error: 0.0048\n",
      "Epoch 90/100\n",
      "60000/60000 [==============================] - 1s 24us/sample - loss: 0.0048 - mean_squared_error: 0.0048\n",
      "Epoch 91/100\n",
      "60000/60000 [==============================] - 1s 19us/sample - loss: 0.0048 - mean_squared_error: 0.0048\n",
      "Epoch 92/100\n",
      "60000/60000 [==============================] - 1s 21us/sample - loss: 0.0048 - mean_squared_error: 0.0048\n",
      "Epoch 93/100\n",
      "60000/60000 [==============================] - 1s 22us/sample - loss: 0.0048 - mean_squared_error: 0.0048\n",
      "Epoch 94/100\n",
      "60000/60000 [==============================] - 1s 20us/sample - loss: 0.0048 - mean_squared_error: 0.0048\n",
      "Epoch 95/100\n",
      "60000/60000 [==============================] - 1s 18us/sample - loss: 0.0048 - mean_squared_error: 0.0048\n",
      "Epoch 96/100\n",
      "60000/60000 [==============================] - 1s 24us/sample - loss: 0.0048 - mean_squared_error: 0.0048\n",
      "Epoch 97/100\n",
      "60000/60000 [==============================] - 1s 22us/sample - loss: 0.0048 - mean_squared_error: 0.0048\n",
      "Epoch 98/100\n",
      "60000/60000 [==============================] - 1s 24us/sample - loss: 0.0048 - mean_squared_error: 0.0048\n",
      "Epoch 99/100\n",
      "60000/60000 [==============================] - 2s 27us/sample - loss: 0.0048 - mean_squared_error: 0.0048\n",
      "Epoch 100/100\n",
      "60000/60000 [==============================] - 1s 21us/sample - loss: 0.0048 - mean_squared_error: 0.0048\n",
      "ListWrapper([784, 20, 20, 10])\n",
      "Test Set:  Error: 0.945\n",
      "\n",
      "WARNING:tensorflow:From /workspace/krish/anaconda/envs/tf/lib/python3.7/site-packages/tensorflow_core/python/ops/resource_variable_ops.py:1781: calling BaseResourceVariable.__init__ (from tensorflow.python.ops.resource_variable_ops) with constraint is deprecated and will be removed in a future version.\n",
      "Instructions for updating:\n",
      "If using Keras pass *_constraint arguments to layers.\n"
     ]
    },
    {
     "name": "stderr",
     "output_type": "stream",
     "text": [
      "2021-09-14 15:46:58.404187: W tensorflow/python/util/util.cc:299] Sets are not currently considered sequences, but this may change in the future, so consider avoiding using them.\n"
     ]
    },
    {
     "name": "stdout",
     "output_type": "stream",
     "text": [
      "INFO:tensorflow:Assets written to: WEIGHTS/model10/assets\n"
     ]
    }
   ],
   "source": [
    "if __name__ == \"__main__\":     \n",
    "\n",
    "    #=== Hyperparameters and Run Options ===#    \n",
    "    hyperp = Hyperparameters()\n",
    "    hyperp_new=Hyperparameters_new()\n",
    "    run_options = RunOptions()\n",
    "    \n",
    "\n",
    "    #=== File Names ===#\n",
    "    file_paths = FilePaths(hyperp, run_options)\n",
    "    \n",
    "    #=== Load Data ===#       \n",
    "    data_train, labels_train,\\\n",
    "    data_test, labels_test,\\\n",
    "    data_input_shape, num_channels, label_dimensions\\\n",
    "    = load_data(file_paths.NN_type, file_paths.dataset, run_options.random_seed) \n",
    "    \n",
    "\n",
    "\n",
    "    \n",
    "    #for i in range(1,hyperp.num_networks):\n",
    "    for i in range(10,11):\n",
    "    #=== Initiate training ===#\n",
    "        #trainer(hyperp, run_options, file_paths,i) \n",
    "        \n",
    "\n",
    "    \n",
    "            \n",
    "        \n",
    "        \n",
    "        \n",
    "        \n",
    "            #=== GPU Settings ===#\n",
    "        os.environ[\"CUDA_DEVICE_ORDER\"] = \"PCI_BUS_ID\" \n",
    "        os.environ[\"CUDA_VISIBLE_DEVICES\"] = run_options.which_gpu\n",
    "    \n",
    "            #=== Neural Network ===#\n",
    "        if run_options.use_L1 == 0:\n",
    "            kernel_regularizer = None\n",
    "            bias_regularizer = None  \n",
    "        else:\n",
    "            kernel_regularizer = tf.keras.regularizers.l1(hyperp.regularization)\n",
    "            bias_regularizer = tf.keras.regularizers.l1(hyperp.regularization)\n",
    "\n",
    "        data_train,new_label,labels_train=create_new(data_train, labels_train,hyperp,hyperp_new, run_options, data_input_shape, label_dimensions,i)\n",
    "        \n",
    "        #=== Construct Validation Set and Batches ===# \n",
    "        #data_and_labels_train, data_and_labels_val, data_and_labels_test,\\\n",
    "        #num_data_train, num_data_val, num_data_test,\\\n",
    "        #num_batches_train, num_batches_val, num_batches_test,data_and_labels_train_new\\\n",
    "        #= form_train_val_test_batches(data_train, labels_train, \\\n",
    "                                  #data_test, labels_test, \\\n",
    "                                  #hyperp.batch_size, new_label, run_options.random_seed)\n",
    "        \n",
    "        \n",
    "        if i==1:\n",
    "            NN = FCLayerwise(hyperp, run_options, data_input_shape, label_dimensions,kernel_regularizer, bias_regularizer)    \n",
    "\n",
    "    #                                 Training                                    #\n",
    "###############################################################################\n",
    "\n",
    "        if i==1:\n",
    "            hyperp_n=hyperp\n",
    "            optimize(hyperp,hyperp_n, run_options, file_paths, NN, data_loss_classification, accuracy_classification, data_and_labels_train, data_and_labels_val, data_and_labels_test, label_dimensions, num_batches_train,data_and_labels_train_new,manifold_classification,hyperp.batch_size,run_options.random_seed,num_data_train,i,data_input_shape)   \n",
    "        \n",
    "        if i>1:\n",
    "            hyperp_n=Hyperparameters_new()\n",
    "            optimize_step(data_train,new_label,data_test, labels_test,i,label_dimensions,hyperp,hyperp_new,run_options,data_input_shape,accuracy_classification)\n",
    "        \n",
    "        \n",
    "        if i==1:\n",
    "            plot_fig(hyperp, run_options, file_paths,i)\n",
    "            \n",
    "       # if i>1:\n",
    "           # plot_fig(hyperp_new, run_options, file_paths,i)\n",
    "        \n",
    "        \n",
    "\n",
    "        \n",
    "        \n",
    "        \n",
    "        \n",
    "        \n",
    "        \n",
    "        \n",
    "        "
   ]
  },
  {
   "cell_type": "code",
   "execution_count": 16,
   "metadata": {},
   "outputs": [
    {
     "name": "stdout",
     "output_type": "stream",
     "text": [
      "Model: \"sequential_3\"\n",
      "_________________________________________________________________\n",
      "Layer (type)                 Output Shape              Param #   \n",
      "=================================================================\n",
      "dense_9 (Dense)              (None, 5)                 3925      \n",
      "_________________________________________________________________\n",
      "dense_10 (Dense)             (None, 5)                 30        \n",
      "_________________________________________________________________\n",
      "dense_11 (Dense)             (None, 10)                60        \n",
      "=================================================================\n",
      "Total params: 4,015\n",
      "Trainable params: 4,015\n",
      "Non-trainable params: 0\n",
      "_________________________________________________________________\n"
     ]
    }
   ],
   "source": [
    "from tensorflow import keras\n",
    "from tensorflow.keras import layers\n",
    "model = keras.Sequential()\n",
    "model.add(layers.Dense(5, activation='relu', input_shape=(784,)))\n",
    "model.add(layers.Dense(5, activation='relu'))\n",
    "model.add(layers.Dense(10, activation='linear'))\n",
    "model.summary()"
   ]
  },
  {
   "cell_type": "code",
   "execution_count": 7,
   "metadata": {},
   "outputs": [
    {
     "name": "stderr",
     "output_type": "stream",
     "text": [
      "2021-09-11 18:34:08.968718: I tensorflow/core/platform/cpu_feature_guard.cc:145] This TensorFlow binary is optimized with Intel(R) MKL-DNN to use the following CPU instructions in performance critical operations:  SSE4.1 SSE4.2 AVX\n",
      "To enable them in non-MKL-DNN operations, rebuild TensorFlow with the appropriate compiler flags.\n",
      "2021-09-11 18:34:09.021620: I tensorflow/core/platform/profile_utils/cpu_utils.cc:94] CPU Frequency: 2593725000 Hz\n",
      "2021-09-11 18:34:09.023245: I tensorflow/compiler/xla/service/service.cc:168] XLA service 0x5575a5fb1730 executing computations on platform Host. Devices:\n",
      "2021-09-11 18:34:09.023283: I tensorflow/compiler/xla/service/service.cc:175]   StreamExecutor device (0): Host, Default Version\n",
      "2021-09-11 18:34:09.075745: I tensorflow/core/common_runtime/process_util.cc:115] Creating new thread pool with default inter op setting: 2. Tune using inter_op_parallelism_threads for best performance.\n"
     ]
    },
    {
     "name": "stdout",
     "output_type": "stream",
     "text": [
      "WARNING:tensorflow:From /workspace/krish/anaconda/envs/tf/lib/python3.7/site-packages/tensorflow_core/python/ops/image_ops_impl.py:1518: div (from tensorflow.python.ops.math_ops) is deprecated and will be removed in a future version.\n",
      "Instructions for updating:\n",
      "Deprecated in favor of operator or tf.math.divide.\n"
     ]
    }
   ],
   "source": [
    "    hyperp = Hyperparameters()\n",
    "    hyperp_new=Hyperparameters_new()\n",
    "    run_options = RunOptions()\n",
    "    \n",
    "\n",
    "    #=== File Names ===#\n",
    "    file_paths = FilePaths(hyperp, run_options)\n",
    "    \n",
    "    #=== Load Data ===#       \n",
    "    data_train, labels_train,\\\n",
    "    data_test, labels_test,\\\n",
    "    data_input_shape, num_channels, label_dimensions\\\n",
    "    = load_data(file_paths.NN_type, file_paths.dataset, run_options.random_seed) "
   ]
  },
  {
   "cell_type": "code",
   "execution_count": 8,
   "metadata": {},
   "outputs": [
    {
     "name": "stdout",
     "output_type": "stream",
     "text": [
      "ListWrapper([784, 20, 20, 10])\n"
     ]
    },
    {
     "data": {
      "text/plain": [
       "<tensorflow.python.training.tracking.util.CheckpointLoadStatus at 0x7f3ac6c0d0f0>"
      ]
     },
     "execution_count": 8,
     "metadata": {},
     "output_type": "execute_result"
    }
   ],
   "source": [
    "Network=Final_Network( hyperp,run_options, data_input_shape, label_dimensions) \n",
    "                #NNN._set_inputs( data)\n",
    "            #Network.load_weights(\"WEIGHTS\"+'/'+\"model_weights\"+str(j-1)+'.hdf5').expect_partial()\n",
    "                #NNN.save(\"WEIGHTS\"+'/'+\"model\"+str(i_net-1))\n",
    "                #Network.load_weights(\"WEIGHTS\"+'/'+\"model_weights\"+str(i_net-1)+'.hdf5').expect_partial()\n",
    "                #Network=tf.keras.models.load_model(\"WEIGHTS\"+'/'+\"model\"+str(i_net-1))\n",
    "Network.load_weights(\"WEIGHTS\"+'/'+\"model_weights\"+str(2-1)).expect_partial()\n"
   ]
  },
  {
   "cell_type": "code",
   "execution_count": 9,
   "metadata": {},
   "outputs": [],
   "source": [
    "y=Network(data_test)"
   ]
  },
  {
   "cell_type": "code",
   "execution_count": 10,
   "metadata": {},
   "outputs": [
    {
     "data": {
      "text/plain": [
       "<tf.Tensor: id=443, shape=(), dtype=float32, numpy=0.8539>"
      ]
     },
     "execution_count": 10,
     "metadata": {},
     "output_type": "execute_result"
    }
   ],
   "source": [
    "mean_accuracy_test = tf.keras.metrics.Mean()\n",
    "mean_accuracy_test(accuracy_classification(y, labels_test))"
   ]
  },
  {
   "cell_type": "code",
   "execution_count": null,
   "metadata": {},
   "outputs": [],
   "source": []
  },
  {
   "cell_type": "code",
   "execution_count": 19,
   "metadata": {},
   "outputs": [],
   "source": [
    "        data_train,new_label,labels_train=create_new(data_train, labels_train,hyperp,hyperp_new, run_options, data_input_shape, label_dimensions,1)\n",
    "        \n",
    "        #=== Construct Validation Set and Batches ===# \n",
    "        data_and_labels_train, data_and_labels_val, data_and_labels_test,\\\n",
    "        num_data_train, num_data_val, num_data_test,\\\n",
    "        num_batches_train, num_batches_val, num_batches_test,data_and_labels_train_new\\\n",
    "        = form_train_val_test_batches(data_train, labels_train, \\\n",
    "                                  data_test, labels_test, \\\n",
    "                                  hyperp.batch_size, new_label, run_options.random_seed)\n"
   ]
  },
  {
   "cell_type": "code",
   "execution_count": 20,
   "metadata": {},
   "outputs": [],
   "source": [
    "for batch_num_num, (batch_data_val, batch_labels_val,labels_val) in data_and_labels_val.enumerate():\n",
    "    batch_data_val"
   ]
  },
  {
   "cell_type": "code",
   "execution_count": null,
   "metadata": {},
   "outputs": [],
   "source": []
  },
  {
   "cell_type": "code",
   "execution_count": 18,
   "metadata": {},
   "outputs": [],
   "source": [
    "new=batch_data_val"
   ]
  },
  {
   "cell_type": "code",
   "execution_count": 21,
   "metadata": {},
   "outputs": [
    {
     "data": {
      "text/plain": [
       "<tf.Tensor: id=987, shape=(), dtype=float32, numpy=0.0>"
      ]
     },
     "execution_count": 21,
     "metadata": {},
     "output_type": "execute_result"
    }
   ],
   "source": [
    "tf.norm(batch_data_val-new)"
   ]
  },
  {
   "cell_type": "code",
   "execution_count": 28,
   "metadata": {},
   "outputs": [
    {
     "data": {
      "text/plain": [
       "array([6, 9, 9, ..., 9, 1, 1], dtype=uint8)"
      ]
     },
     "execution_count": 28,
     "metadata": {},
     "output_type": "execute_result"
    }
   ],
   "source": [
    "labels_train=np.squeeze(labels_train,axis=1)"
   ]
  },
  {
   "cell_type": "code",
   "execution_count": 8,
   "metadata": {},
   "outputs": [
    {
     "name": "stdout",
     "output_type": "stream",
     "text": [
      "ListWrapper([28, 10, 10, 10])\n"
     ]
    }
   ],
   "source": [
    "Network=Final_Network(hyperp, run_options, data_input_shape, label_dimensions,\n",
    "                      kernel_regularizer, bias_regularizer) "
   ]
  },
  {
   "cell_type": "code",
   "execution_count": 9,
   "metadata": {},
   "outputs": [
    {
     "data": {
      "text/plain": [
       "<tensorflow.python.training.tracking.util.CheckpointLoadStatus at 0x22219c575f8>"
      ]
     },
     "execution_count": 9,
     "metadata": {},
     "output_type": "execute_result"
    }
   ],
   "source": [
    "Network.load_weights(\"WEIGHTS\"+'/'+\"model_weights1\")"
   ]
  },
  {
   "cell_type": "code",
   "execution_count": null,
   "metadata": {},
   "outputs": [],
   "source": []
  },
  {
   "cell_type": "code",
   "execution_count": 10,
   "metadata": {},
   "outputs": [],
   "source": [
    "(data_train, labels_train), (data_test, labels_test) = datasets.mnist.load_data()\n",
    "data_train = data_train.reshape(data_train.shape[0], 28, 28, 1)\n",
    "data_test = data_test.reshape(data_test.shape[0], 28, 28, 1)\n",
    "label_dimensions = 10\n",
    "data_input_shape = data_train.shape[1:]\n",
    "\n",
    "#=== Casting as float32 ===#\n",
    "data_train = tf.cast(data_train,tf.float32)\n",
    "labels_train = tf.cast(labels_train, tf.int32)\n",
    "data_test = tf.cast(data_test, tf.float32)\n",
    "labels_test = tf.cast(labels_test, tf.int32)\n",
    "    \n",
    "#=== Normalize Data ===#\n",
    "data_train, data_test = data_train/255.0, data_test/255.0\n",
    "data_train = tf.image.per_image_standardization(data_train) # Linearly scales each image to have mean 0 and variance 1\n",
    "data_test = tf.image.per_image_standardization(data_test)   # Linearly scales each image to have mean 0 and variance 1\n",
    "\n",
    "data_train = tf.reshape(data_train, (len(data_train), 28*28))\n",
    "data_test = tf.reshape(data_test, (len(data_test), 28*28))\n",
    "\n",
    "num_data_train = len(data_train)\n",
    "num_data_test = len(data_test)\n",
    "random_seed=1234\n",
    "batch_size        = 1000\n",
    "\n",
    "data_and_labels_train_full = tf.data.Dataset.from_tensor_slices((data_train, labels_train)).shuffle(num_data_train, seed=random_seed)\n",
    "data_and_labels_test = tf.data.Dataset.from_tensor_slices((data_test, labels_test)).batch(batch_size)\n",
    "num_batches_test = len(list(data_and_labels_test))\n",
    "\n",
    "#=== Partitioning Out Validation Set and Constructing Batches ===#\n",
    "current_num_data_train = num_data_train\n",
    "num_data_train = int(0.8 * num_data_train)\n",
    "num_data_val = current_num_data_train - num_data_train\n",
    "data_and_labels_train_full = tf.data.Dataset.from_tensor_slices((data_train, labels_train)).shuffle(num_data_train, seed=random_seed)\n",
    "data_and_labels_train = data_and_labels_train_full.take(num_data_train).batch(batch_size)\n",
    "data_and_labels_val = data_and_labels_train_full.skip(num_data_train).batch(batch_size)    \n",
    "num_batches_train = len(list(data_and_labels_train))\n",
    "num_batches_val = len(list(data_and_labels_val))"
   ]
  },
  {
   "cell_type": "code",
   "execution_count": 23,
   "metadata": {},
   "outputs": [],
   "source": [
    "(data_train, labels_train), (data_test, labels_test) = datasets.mnist.load_data()\n",
    "data_train = data_train.reshape(data_train.shape[0], 28, 28, 1)\n",
    "data_test = data_test.reshape(data_test.shape[0], 28, 28, 1)\n",
    "label_dimensions = 10\n",
    "data_input_shape = data_train.shape[1:]\n",
    "\n",
    "#=== Casting as float32 ===#\n",
    "data_train = tf.cast(data_train,tf.float32)\n",
    "labels_train = tf.cast(labels_train, tf.int32)\n",
    "data_test = tf.cast(data_test, tf.float32)\n",
    "labels_test = tf.cast(labels_test, tf.int32)\n",
    "    \n",
    "#=== Normalize Data ===#\n",
    "data_train, data_test = data_train/255.0, data_test/255.0\n",
    "data_train = tf.image.per_image_standardization(data_train) # Linearly scales each image to have mean 0 and variance 1\n",
    "data_test = tf.image.per_image_standardization(data_test)   # Linearly scales each image to have mean 0 and variance 1\n",
    "\n",
    "data_train = tf.reshape(data_train, (len(data_train), 28*28))\n",
    "data_test = tf.reshape(data_test, (len(data_test), 28*28))\n",
    "\n",
    "num_data_train = len(data_train)\n",
    "num_data_test = len(data_test)\n",
    "random_seed=1234\n",
    "batch_size        = 1000"
   ]
  },
  {
   "cell_type": "code",
   "execution_count": 24,
   "metadata": {},
   "outputs": [],
   "source": [
    "labels=tf.one_hot(tf.cast(labels_train,tf.int64), label_dimensions, dtype=tf.float32)"
   ]
  },
  {
   "cell_type": "code",
   "execution_count": 25,
   "metadata": {},
   "outputs": [],
   "source": [
    "data_and_labels_train_full = tf.data.Dataset.from_tensor_slices((data_train, labels_train,labels)).shuffle(num_data_train, seed=random_seed)"
   ]
  },
  {
   "cell_type": "code",
   "execution_count": 26,
   "metadata": {},
   "outputs": [],
   "source": [
    "data_and_labels_train = data_and_labels_train_full.take(num_data_train).batch(batch_size)\n",
    "data_and_labels_val = data_and_labels_train_full.skip(num_data_train).batch(batch_size)    \n",
    "num_batches_train = len(list(data_and_labels_train))\n",
    "num_batches_val = len(list(data_and_labels_val))"
   ]
  },
  {
   "cell_type": "code",
   "execution_count": null,
   "metadata": {},
   "outputs": [],
   "source": []
  },
  {
   "cell_type": "code",
   "execution_count": null,
   "metadata": {},
   "outputs": [],
   "source": []
  },
  {
   "cell_type": "code",
   "execution_count": 32,
   "metadata": {},
   "outputs": [],
   "source": [
    "for batch_num, (batch_data_train, batch_labels_train,labels) in data_and_labels_train.enumerate():\n",
    "    batch=batch_num\n",
    "    batch_data_train = batch_data_train\n",
    "    batch_labels_train=batch_labels_train\n",
    "    lab=labels"
   ]
  },
  {
   "cell_type": "code",
   "execution_count": 36,
   "metadata": {},
   "outputs": [
    {
     "data": {
      "text/plain": [
       "<tf.Tensor: shape=(1000, 10), dtype=float32, numpy=\n",
       "array([[0., 0., 0., ..., 0., 0., 0.],\n",
       "       [0., 0., 0., ..., 0., 1., 0.],\n",
       "       [0., 1., 0., ..., 0., 0., 0.],\n",
       "       ...,\n",
       "       [1., 0., 0., ..., 0., 0., 0.],\n",
       "       [0., 0., 0., ..., 0., 0., 0.],\n",
       "       [0., 0., 0., ..., 0., 0., 0.]], dtype=float32)>"
      ]
     },
     "execution_count": 36,
     "metadata": {},
     "output_type": "execute_result"
    }
   ],
   "source": [
    "lab\n"
   ]
  },
  {
   "cell_type": "code",
   "execution_count": 20,
   "metadata": {},
   "outputs": [],
   "source": [
    "y_true = tf.one_hot(tf.cast(labels_train,tf.int64), label_dimensions, dtype=tf.float32)"
   ]
  },
  {
   "cell_type": "code",
   "execution_count": 21,
   "metadata": {},
   "outputs": [
    {
     "data": {
      "text/plain": [
       "<tf.Tensor: shape=(60000, 10), dtype=float32, numpy=\n",
       "array([[0., 0., 0., ..., 0., 0., 0.],\n",
       "       [1., 0., 0., ..., 0., 0., 0.],\n",
       "       [0., 0., 0., ..., 0., 0., 0.],\n",
       "       ...,\n",
       "       [0., 0., 0., ..., 0., 0., 0.],\n",
       "       [0., 0., 0., ..., 0., 0., 0.],\n",
       "       [0., 0., 0., ..., 0., 1., 0.]], dtype=float32)>"
      ]
     },
     "execution_count": 21,
     "metadata": {},
     "output_type": "execute_result"
    }
   ],
   "source": [
    "y_true"
   ]
  },
  {
   "cell_type": "code",
   "execution_count": 37,
   "metadata": {},
   "outputs": [
    {
     "data": {
      "text/plain": [
       "1.9269863"
      ]
     },
     "execution_count": 37,
     "metadata": {},
     "output_type": "execute_result"
    }
   ],
   "source": [
    "np.mean(tf.keras.losses.mean_squared_error(new_one, val[0:dimension[0]-1]))"
   ]
  },
  {
   "cell_type": "code",
   "execution_count": 24,
   "metadata": {},
   "outputs": [
    {
     "data": {
      "text/plain": [
       "array([4, 6, 6, ..., 7, 2, 5])"
      ]
     },
     "execution_count": 24,
     "metadata": {},
     "output_type": "execute_result"
    }
   ],
   "source": []
  },
  {
   "cell_type": "code",
   "execution_count": 23,
   "metadata": {},
   "outputs": [],
   "source": []
  },
  {
   "cell_type": "code",
   "execution_count": 19,
   "metadata": {},
   "outputs": [],
   "source": [
    "\n",
    "x_train_new = batch_data_train[batch_labels_train == 1]\n",
    "batch_pred_train,val=NN(x_train_new)\n",
    "\n"
   ]
  },
  {
   "cell_type": "code",
   "execution_count": 16,
   "metadata": {},
   "outputs": [],
   "source": [
    "y_true = tf.one_hot(tf.cast(y_true,tf.int64), label_dimensions, dtype=tf.float32)"
   ]
  },
  {
   "cell_type": "code",
   "execution_count": 45,
   "metadata": {},
   "outputs": [
    {
     "data": {
      "text/plain": [
       "<tf.Tensor: shape=(), dtype=float32, numpy=1.6097095>"
      ]
     },
     "execution_count": 45,
     "metadata": {},
     "output_type": "execute_result"
    }
   ],
   "source": [
    "loss"
   ]
  },
  {
   "cell_type": "code",
   "execution_count": 48,
   "metadata": {},
   "outputs": [
    {
     "data": {
      "text/plain": [
       "2.567157"
      ]
     },
     "execution_count": 48,
     "metadata": {},
     "output_type": "execute_result"
    }
   ],
   "source": [
    "np.linalg.norm(val[0]-val[1])"
   ]
  },
  {
   "cell_type": "code",
   "execution_count": null,
   "metadata": {},
   "outputs": [],
   "source": []
  }
 ],
 "metadata": {
  "kernelspec": {
   "display_name": "Python 3",
   "language": "python",
   "name": "python3"
  },
  "language_info": {
   "codemirror_mode": {
    "name": "ipython",
    "version": 3
   },
   "file_extension": ".py",
   "mimetype": "text/x-python",
   "name": "python",
   "nbconvert_exporter": "python",
   "pygments_lexer": "ipython3",
   "version": "3.7.0"
  }
 },
 "nbformat": 4,
 "nbformat_minor": 4
}
