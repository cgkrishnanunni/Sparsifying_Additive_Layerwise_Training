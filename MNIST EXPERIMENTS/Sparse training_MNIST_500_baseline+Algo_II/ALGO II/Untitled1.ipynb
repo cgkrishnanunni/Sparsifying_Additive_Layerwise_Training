{
 "cells": [
  {
   "cell_type": "code",
   "execution_count": 1,
   "metadata": {},
   "outputs": [],
   "source": [
    "import tensorflow as tf\n",
    "import numpy as np\n",
    "import pandas as pd\n",
    "from Utilities.get_image_data import load_data\n",
    "from Utilities.form_train_val_test_batches import form_train_val_test_batches\n",
    "from Utilities.NN_FC_layerwise import FCLayerwise\n",
    "from Utilities.NN_FC_layerwise_new import FCLayerwise_new\n",
    "from Utilities.Net import Final_Network\n",
    "from Utilities.Net_new import Final_Network_ALGO_II\n",
    "from Utilities.create_data import create_new\n",
    "from Utilities.loss_and_accuracies import data_loss_classification, accuracy_classification\n",
    "from Utilities.manifold_regularization import manifold_classification\n",
    "from Utilities.manifold_regularization_new import manifold_classification_new\n",
    "from Utilities.optimize_layerwise import optimize\n",
    "from Utilities.additive_output import net_output \n",
    "from Utilities.plot_and_save_figures_layerwise import plot_fig\n",
    "from joblib import Parallel, delayed\n",
    "from Utilities.optimize_step_II import optimize_step\n",
    "import multiprocessing\n",
    "import random"
   ]
  },
  {
   "cell_type": "code",
   "execution_count": null,
   "metadata": {},
   "outputs": [],
   "source": []
  },
  {
   "cell_type": "code",
   "execution_count": 2,
   "metadata": {},
   "outputs": [],
   "source": [
    "from decimal import Decimal # for filenames\n",
    "\n",
    "import pdb #Equivalent of keyboard in MATLAB, just add \"pdb.set_trace()\"\n",
    "\n",
    "import os\n",
    "import sys"
   ]
  },
  {
   "cell_type": "code",
   "execution_count": 3,
   "metadata": {},
   "outputs": [],
   "source": [
    "###############################################################################\n",
    "#                       HyperParameters and RunOptions                        #\n",
    "###############################################################################\n",
    "class Hyperparameters:\n",
    "    max_hidden_layers = 5 # For this architecture, need at least 2. One for the mapping to the feature space, one as a trainable hidden layer. EXCLUDES MAPPING BACK TO DATA SPACE\n",
    "    num_hidden_nodes  = 500 \n",
    "    activation        = 'elu'\n",
    "    classification_act= 'softmax'\n",
    "    regularization    = 0.001\n",
    "    manifold          = 0.003\n",
    "    node_TOL          = 1e-4\n",
    "    error_TOL         = 1e-4\n",
    "    batch_size        = 1000\n",
    "    num_epochs        = 100\n",
    "    \n",
    "    num_networks      = 6\n",
    "    "
   ]
  },
  {
   "cell_type": "code",
   "execution_count": null,
   "metadata": {},
   "outputs": [],
   "source": []
  },
  {
   "cell_type": "code",
   "execution_count": 4,
   "metadata": {},
   "outputs": [],
   "source": [
    "class Hyperparameters_new:\n",
    "    max_hidden_layers = 3 # For this architecture, need at least 2. One for the mapping to the feature space, one as a trainable hidden layer. EXCLUDES MAPPING BACK TO DATA SPACE\n",
    "    num_hidden_nodes  = 20\n",
    "    activation        = 'relu'\n",
    "    classification_act= 'linear'\n",
    "    regularization    = 0.000\n",
    "    manifold          = 0.000\n",
    "    node_TOL          = 1e-4\n",
    "    error_TOL         = 1e-4\n",
    "    batch_size        = 1000\n",
    "    num_epochs        = 50"
   ]
  },
  {
   "cell_type": "code",
   "execution_count": 5,
   "metadata": {},
   "outputs": [],
   "source": [
    "class RunOptions:\n",
    "    def __init__(self):    \n",
    "        #=== Choose Which GPU to Use ===#\n",
    "        self.which_gpu = '1'\n",
    "        \n",
    "        #=== Use L_1 Regularization ===#\n",
    "        self.use_L1 = 1\n",
    "        \n",
    "        #=== Choose Data Set ===#\n",
    "        self.data_MNIST = 1\n",
    "        self.data_CIFAR10 = 0 \n",
    "        self.data_CIFAR100 = 0\n",
    "        \n",
    "        #=== Random Seed ===#\n",
    "        self.random_seed = 1234\n"
   ]
  },
  {
   "cell_type": "code",
   "execution_count": 6,
   "metadata": {},
   "outputs": [],
   "source": [
    "###############################################################################\n",
    "#                                 File Paths                                  #\n",
    "###############################################################################         \n",
    "class FilePaths():    \n",
    "    def __init__(self, hyperp, run_options):  \n",
    "        #=== Declaring File Name Components ===# \n",
    "        self.NN_type = 'FC'\n",
    "        if run_options.data_MNIST == 1:\n",
    "            self.dataset = 'MNIST'\n",
    "        if run_options.data_CIFAR10 == 1:\n",
    "            self.dataset = 'CIFAR10'\n",
    "        if run_options.data_CIFAR100 == 1:\n",
    "            self.dataset = 'CIFAR100'\n",
    "        if hyperp.regularization >= 1:\n",
    "            hyperp.regularization = int(hyperp.regularization)\n",
    "            regularization_string = str(hyperp.regularization)\n",
    "        else:\n",
    "            regularization_string = str(hyperp.regularization)\n",
    "            regularization_string = 'pt' + regularization_string[2:]                        \n",
    "        node_TOL_string = str('%.2e' %Decimal(hyperp.node_TOL))\n",
    "        node_TOL_string = node_TOL_string[-1]\n",
    "        error_TOL_string = str('%.2e' %Decimal(hyperp.error_TOL))\n",
    "        error_TOL_string = error_TOL_string[-1]\n",
    "        \n",
    "        #=== File Name ===#\n",
    "        if run_options.use_L1 == 0:\n",
    "            self.filename = self.dataset + '_' + self.NN_type + '_mhl%d_hl%d_eTOL%s_b%d_e%d' %(hyperp.max_hidden_layers, hyperp.num_hidden_nodes, error_TOL_string, hyperp.batch_size, hyperp.num_epochs)\n",
    "        else:\n",
    "            self.filename = self.dataset + '_' + self.NN_type + '_L1_mhl%d_hl%d_r%s_nTOL%s_eTOL%s_b%d_e%d' %(hyperp.max_hidden_layers, hyperp.num_hidden_nodes, regularization_string, node_TOL_string, error_TOL_string, hyperp.batch_size, hyperp.num_epochs)\n",
    "\n",
    "        #=== Saving Trained Neural Network and Tensorboard ===#\n",
    "        #self.NN_savefile_directory = 'C:/Users/Chandradut/Desktop/Sparse training/Trained_NNs/' + self.filename # Since we need to save four different types of files to save a neural network model, we need to create a new folder for each model\n",
    "        self.NN_savefile_directory =  self.filename\n",
    "        self.NN_savefile_name = self.NN_savefile_directory + '/' + self.filename # The file path and name for the four files\n",
    "        #self.tensorboard_directory = 'C:/Users/Chandradut/Desktop/Sparse training/Tensorboard/' + self.filename\n",
    "\n",
    "###############################################################################\n",
    "\n"
   ]
  },
  {
   "cell_type": "code",
   "execution_count": 7,
   "metadata": {},
   "outputs": [
    {
     "name": "stdout",
     "output_type": "stream",
     "text": [
      "Model: \"sequential\"\n",
      "_________________________________________________________________\n",
      "Layer (type)                 Output Shape              Param #   \n",
      "=================================================================\n",
      "dense (Dense)                (None, 500)               392500    \n",
      "_________________________________________________________________\n",
      "dense_1 (Dense)              (None, 500)               250500    \n",
      "_________________________________________________________________\n",
      "dense_2 (Dense)              (None, 10)                5010      \n",
      "=================================================================\n",
      "Total params: 648,010\n",
      "Trainable params: 648,010\n",
      "Non-trainable params: 0\n",
      "_________________________________________________________________\n",
      "Epoch 1/20\n",
      "67/67 [==============================] - 1s 5ms/step - loss: 0.2501 - mean_squared_error: 0.2501\n",
      "Epoch 2/20\n",
      "67/67 [==============================] - 0s 5ms/step - loss: 0.0151 - mean_squared_error: 0.0151\n",
      "Epoch 3/20\n",
      "67/67 [==============================] - 0s 5ms/step - loss: 0.0087 - mean_squared_error: 0.0087\n",
      "Epoch 4/20\n",
      "67/67 [==============================] - 0s 5ms/step - loss: 0.0060 - mean_squared_error: 0.0060\n",
      "Epoch 5/20\n",
      "67/67 [==============================] - 0s 5ms/step - loss: 0.0044 - mean_squared_error: 0.0044\n",
      "Epoch 6/20\n",
      "67/67 [==============================] - 0s 5ms/step - loss: 0.0037 - mean_squared_error: 0.0037\n",
      "Epoch 7/20\n",
      "67/67 [==============================] - 0s 5ms/step - loss: 0.0034 - mean_squared_error: 0.0034\n",
      "Epoch 8/20\n",
      "67/67 [==============================] - 0s 6ms/step - loss: 0.0027 - mean_squared_error: 0.0027\n",
      "Epoch 9/20\n",
      "67/67 [==============================] - 0s 5ms/step - loss: 0.0023 - mean_squared_error: 0.0023\n",
      "Epoch 10/20\n",
      "67/67 [==============================] - 0s 5ms/step - loss: 0.0025 - mean_squared_error: 0.0025\n",
      "Epoch 11/20\n",
      "67/67 [==============================] - 0s 5ms/step - loss: 0.0017 - mean_squared_error: 0.0017\n",
      "Epoch 12/20\n",
      "67/67 [==============================] - 0s 5ms/step - loss: 0.0021 - mean_squared_error: 0.0021\n",
      "Epoch 13/20\n",
      "67/67 [==============================] - 0s 5ms/step - loss: 0.0018 - mean_squared_error: 0.0018\n",
      "Epoch 14/20\n",
      "67/67 [==============================] - 0s 5ms/step - loss: 0.0013 - mean_squared_error: 0.0013\n",
      "Epoch 15/20\n",
      "67/67 [==============================] - 0s 5ms/step - loss: 0.0015 - mean_squared_error: 0.0015\n",
      "Epoch 16/20\n",
      "67/67 [==============================] - 0s 6ms/step - loss: 0.0013 - mean_squared_error: 0.0013\n",
      "Epoch 17/20\n",
      "67/67 [==============================] - 0s 7ms/step - loss: 0.0024 - mean_squared_error: 0.0024\n",
      "Epoch 18/20\n",
      "67/67 [==============================] - 0s 5ms/step - loss: 7.3701e-04 - mean_squared_error: 7.3701e-04\n",
      "Epoch 19/20\n",
      "67/67 [==============================] - 0s 5ms/step - loss: 0.0015 - mean_squared_error: 0.0015\n",
      "Epoch 20/20\n",
      "67/67 [==============================] - 0s 5ms/step - loss: 7.0938e-04 - mean_squared_error: 7.0938e-04\n",
      "Test Set:  Error: 0.9822\n",
      "\n",
      "INFO:tensorflow:Assets written to: WEIGHTS/model2/assets\n"
     ]
    }
   ],
   "source": [
    "if __name__ == \"__main__\":     \n",
    "\n",
    "    #=== Hyperparameters and Run Options ===#    \n",
    "    hyperp = Hyperparameters()\n",
    "    hyperp_new=Hyperparameters_new()\n",
    "    run_options = RunOptions()\n",
    "    \n",
    "\n",
    "    #=== File Names ===#\n",
    "    file_paths = FilePaths(hyperp, run_options)\n",
    "    \n",
    "    #=== Load Data ===#       \n",
    "    data_train, labels_train,\\\n",
    "    data_test, labels_test,\\\n",
    "    data_input_shape, num_channels, label_dimensions\\\n",
    "    = load_data(file_paths.NN_type, file_paths.dataset, run_options.random_seed) \n",
    "    \n",
    "\n",
    "\n",
    "    \n",
    "    #for i in range(1,hyperp.num_networks):\n",
    "    for i in range(2,3):\n",
    "    #=== Initiate training ===#\n",
    "        #trainer(hyperp, run_options, file_paths,i) \n",
    "        \n",
    "\n",
    "    \n",
    "            \n",
    "        \n",
    "        \n",
    "        \n",
    "        \n",
    "            #=== GPU Settings ===#\n",
    "        os.environ[\"CUDA_DEVICE_ORDER\"] = \"PCI_BUS_ID\" \n",
    "        os.environ[\"CUDA_VISIBLE_DEVICES\"] = run_options.which_gpu\n",
    "    \n",
    "            #=== Neural Network ===#\n",
    "        if run_options.use_L1 == 0:\n",
    "            kernel_regularizer = None\n",
    "            bias_regularizer = None  \n",
    "        else:\n",
    "            kernel_regularizer = tf.keras.regularizers.l1(hyperp.regularization)\n",
    "            bias_regularizer = tf.keras.regularizers.l1(hyperp.regularization)\n",
    "\n",
    "        data_train,new_label,labels_train=create_new(data_train, labels_train,hyperp,hyperp_new, run_options, data_input_shape, label_dimensions,i)\n",
    "        \n",
    "        #=== Construct Validation Set and Batches ===# \n",
    "        #data_and_labels_train, data_and_labels_val, data_and_labels_test,\\\n",
    "        #num_data_train, num_data_val, num_data_test,\\\n",
    "        #num_batches_train, num_batches_val, num_batches_test,data_and_labels_train_new\\\n",
    "        #= form_train_val_test_batches(data_train, labels_train, \\\n",
    "                                  #data_test, labels_test, \\\n",
    "                                  #hyperp.batch_size, new_label, run_options.random_seed)\n",
    "        \n",
    "        \n",
    "        if i==1:\n",
    "            NN = FCLayerwise(hyperp, run_options, data_input_shape, label_dimensions,kernel_regularizer, bias_regularizer)    \n",
    "\n",
    "    #                                 Training                                    #\n",
    "###############################################################################\n",
    "\n",
    "        if i==1:\n",
    "            hyperp_n=hyperp\n",
    "            optimize(hyperp,hyperp_n, run_options, file_paths, NN, data_loss_classification, accuracy_classification, data_and_labels_train, data_and_labels_val, data_and_labels_test, label_dimensions, num_batches_train,data_and_labels_train_new,manifold_classification,hyperp.batch_size,run_options.random_seed,num_data_train,i,data_input_shape)   \n",
    "        \n",
    "        if i>1:\n",
    "            hyperp_n=Hyperparameters_new()\n",
    "            optimize_step(data_train,new_label,data_test, labels_test,i,label_dimensions,hyperp,hyperp_new,run_options,data_input_shape,accuracy_classification)\n",
    "        \n",
    "        \n",
    "        if i==1:\n",
    "            plot_fig(hyperp, run_options, file_paths,i)\n",
    "            \n",
    "       # if i>1:\n",
    "           # plot_fig(hyperp_new, run_options, file_paths,i)\n",
    "        \n",
    "        \n",
    "\n",
    "        \n",
    "        \n",
    "        \n",
    "        \n",
    "        \n",
    "        \n",
    "        \n",
    "        "
   ]
  },
  {
   "cell_type": "code",
   "execution_count": 16,
   "metadata": {},
   "outputs": [
    {
     "name": "stdout",
     "output_type": "stream",
     "text": [
      "Model: \"sequential_3\"\n",
      "_________________________________________________________________\n",
      "Layer (type)                 Output Shape              Param #   \n",
      "=================================================================\n",
      "dense_9 (Dense)              (None, 5)                 3925      \n",
      "_________________________________________________________________\n",
      "dense_10 (Dense)             (None, 5)                 30        \n",
      "_________________________________________________________________\n",
      "dense_11 (Dense)             (None, 10)                60        \n",
      "=================================================================\n",
      "Total params: 4,015\n",
      "Trainable params: 4,015\n",
      "Non-trainable params: 0\n",
      "_________________________________________________________________\n"
     ]
    }
   ],
   "source": [
    " for i in range(14,15):"
   ]
  },
  {
   "cell_type": "code",
   "execution_count": 7,
   "metadata": {},
   "outputs": [
    {
     "name": "stderr",
     "output_type": "stream",
     "text": [
      "2021-09-11 18:34:08.968718: I tensorflow/core/platform/cpu_feature_guard.cc:145] This TensorFlow binary is optimized with Intel(R) MKL-DNN to use the following CPU instructions in performance critical operations:  SSE4.1 SSE4.2 AVX\n",
      "To enable them in non-MKL-DNN operations, rebuild TensorFlow with the appropriate compiler flags.\n",
      "2021-09-11 18:34:09.021620: I tensorflow/core/platform/profile_utils/cpu_utils.cc:94] CPU Frequency: 2593725000 Hz\n",
      "2021-09-11 18:34:09.023245: I tensorflow/compiler/xla/service/service.cc:168] XLA service 0x5575a5fb1730 executing computations on platform Host. Devices:\n",
      "2021-09-11 18:34:09.023283: I tensorflow/compiler/xla/service/service.cc:175]   StreamExecutor device (0): Host, Default Version\n",
      "2021-09-11 18:34:09.075745: I tensorflow/core/common_runtime/process_util.cc:115] Creating new thread pool with default inter op setting: 2. Tune using inter_op_parallelism_threads for best performance.\n"
     ]
    },
    {
     "name": "stdout",
     "output_type": "stream",
     "text": [
      "WARNING:tensorflow:From /workspace/krish/anaconda/envs/tf/lib/python3.7/site-packages/tensorflow_core/python/ops/image_ops_impl.py:1518: div (from tensorflow.python.ops.math_ops) is deprecated and will be removed in a future version.\n",
      "Instructions for updating:\n",
      "Deprecated in favor of operator or tf.math.divide.\n"
     ]
    }
   ],
   "source": []
  },
  {
   "cell_type": "code",
   "execution_count": 21,
   "metadata": {},
   "outputs": [
    {
     "name": "stdout",
     "output_type": "stream",
     "text": [
      "Model: \"sequential_8\"\n",
      "_________________________________________________________________\n",
      "Layer (type)                 Output Shape              Param #   \n",
      "=================================================================\n",
      "dense_32 (Dense)             (None, 500)               392500    \n",
      "_________________________________________________________________\n",
      "dense_33 (Dense)             (None, 500)               250500    \n",
      "_________________________________________________________________\n",
      "dense_34 (Dense)             (None, 500)               250500    \n",
      "_________________________________________________________________\n",
      "dense_35 (Dense)             (None, 500)               250500    \n",
      "_________________________________________________________________\n",
      "dense_36 (Dense)             (None, 10)                5010      \n",
      "=================================================================\n",
      "Total params: 1,149,010\n",
      "Trainable params: 1,149,010\n",
      "Non-trainable params: 0\n",
      "_________________________________________________________________\n",
      "Epoch 1/50\n",
      "60/60 [==============================] - 1s 12ms/step - loss: 0.6329 - accuracy: 0.8085 - val_loss: 0.2895 - val_accuracy: 0.9164\n",
      "Epoch 2/50\n",
      "60/60 [==============================] - 1s 11ms/step - loss: 0.2560 - accuracy: 0.9256 - val_loss: 0.2162 - val_accuracy: 0.9355\n",
      "Epoch 3/50\n",
      "60/60 [==============================] - 1s 11ms/step - loss: 0.1942 - accuracy: 0.9444 - val_loss: 0.1759 - val_accuracy: 0.9496\n",
      "Epoch 4/50\n",
      "60/60 [==============================] - 1s 11ms/step - loss: 0.1564 - accuracy: 0.9549 - val_loss: 0.1475 - val_accuracy: 0.9558\n",
      "Epoch 5/50\n",
      "60/60 [==============================] - 1s 10ms/step - loss: 0.1300 - accuracy: 0.9627 - val_loss: 0.1267 - val_accuracy: 0.9620\n",
      "Epoch 6/50\n",
      "60/60 [==============================] - 1s 10ms/step - loss: 0.1097 - accuracy: 0.9685 - val_loss: 0.1118 - val_accuracy: 0.9665\n",
      "Epoch 7/50\n",
      "60/60 [==============================] - 1s 10ms/step - loss: 0.0944 - accuracy: 0.9728 - val_loss: 0.1015 - val_accuracy: 0.9702\n",
      "Epoch 8/50\n",
      "60/60 [==============================] - 1s 10ms/step - loss: 0.0824 - accuracy: 0.9764 - val_loss: 0.0927 - val_accuracy: 0.9720\n",
      "Epoch 9/50\n",
      "60/60 [==============================] - 1s 10ms/step - loss: 0.0719 - accuracy: 0.9794 - val_loss: 0.0872 - val_accuracy: 0.9734\n",
      "Epoch 10/50\n",
      "60/60 [==============================] - 1s 10ms/step - loss: 0.0644 - accuracy: 0.9816 - val_loss: 0.0831 - val_accuracy: 0.9743\n",
      "Epoch 11/50\n",
      "60/60 [==============================] - 1s 11ms/step - loss: 0.0567 - accuracy: 0.9839 - val_loss: 0.0808 - val_accuracy: 0.9755\n",
      "Epoch 12/50\n",
      "60/60 [==============================] - 1s 10ms/step - loss: 0.0507 - accuracy: 0.9855 - val_loss: 0.0740 - val_accuracy: 0.9776\n",
      "Epoch 13/50\n",
      "60/60 [==============================] - 1s 10ms/step - loss: 0.0449 - accuracy: 0.9877 - val_loss: 0.0734 - val_accuracy: 0.9778\n",
      "Epoch 14/50\n",
      "60/60 [==============================] - 1s 10ms/step - loss: 0.0404 - accuracy: 0.9888 - val_loss: 0.0697 - val_accuracy: 0.9781\n",
      "Epoch 15/50\n",
      "60/60 [==============================] - 1s 10ms/step - loss: 0.0364 - accuracy: 0.9901 - val_loss: 0.0682 - val_accuracy: 0.9790\n",
      "Epoch 16/50\n",
      "60/60 [==============================] - 1s 11ms/step - loss: 0.0325 - accuracy: 0.9917 - val_loss: 0.0714 - val_accuracy: 0.9778\n",
      "Epoch 17/50\n",
      "60/60 [==============================] - 1s 10ms/step - loss: 0.0295 - accuracy: 0.9922 - val_loss: 0.0665 - val_accuracy: 0.9793\n",
      "Epoch 18/50\n",
      "60/60 [==============================] - 1s 10ms/step - loss: 0.0261 - accuracy: 0.9935 - val_loss: 0.0651 - val_accuracy: 0.9786\n",
      "Epoch 19/50\n",
      "60/60 [==============================] - 1s 11ms/step - loss: 0.0235 - accuracy: 0.9940 - val_loss: 0.0638 - val_accuracy: 0.9806\n",
      "Epoch 20/50\n",
      "60/60 [==============================] - 1s 10ms/step - loss: 0.0208 - accuracy: 0.9952 - val_loss: 0.0652 - val_accuracy: 0.9791\n",
      "Epoch 21/50\n",
      "60/60 [==============================] - 1s 10ms/step - loss: 0.0189 - accuracy: 0.9959 - val_loss: 0.0654 - val_accuracy: 0.9803\n",
      "Epoch 22/50\n",
      "60/60 [==============================] - 1s 10ms/step - loss: 0.0166 - accuracy: 0.9967 - val_loss: 0.0627 - val_accuracy: 0.9803\n",
      "Epoch 23/50\n",
      "60/60 [==============================] - 1s 10ms/step - loss: 0.0154 - accuracy: 0.9971 - val_loss: 0.0645 - val_accuracy: 0.9795\n",
      "Epoch 24/50\n",
      "60/60 [==============================] - 1s 10ms/step - loss: 0.0130 - accuracy: 0.9977 - val_loss: 0.0652 - val_accuracy: 0.9794\n",
      "Epoch 25/50\n",
      "60/60 [==============================] - 1s 10ms/step - loss: 0.0117 - accuracy: 0.9983 - val_loss: 0.0609 - val_accuracy: 0.9820\n",
      "Epoch 26/50\n",
      "60/60 [==============================] - 1s 10ms/step - loss: 0.0106 - accuracy: 0.9984 - val_loss: 0.0638 - val_accuracy: 0.9805\n",
      "Epoch 27/50\n",
      "60/60 [==============================] - 1s 11ms/step - loss: 0.0094 - accuracy: 0.9989 - val_loss: 0.0623 - val_accuracy: 0.9816\n",
      "Epoch 28/50\n",
      "60/60 [==============================] - 1s 11ms/step - loss: 0.0083 - accuracy: 0.9990 - val_loss: 0.0641 - val_accuracy: 0.9809\n",
      "Epoch 29/50\n",
      "60/60 [==============================] - 1s 11ms/step - loss: 0.0073 - accuracy: 0.9992 - val_loss: 0.0648 - val_accuracy: 0.9806\n",
      "Epoch 30/50\n",
      "60/60 [==============================] - 1s 10ms/step - loss: 0.0065 - accuracy: 0.9994 - val_loss: 0.0659 - val_accuracy: 0.9808\n",
      "Epoch 31/50\n",
      "60/60 [==============================] - 1s 10ms/step - loss: 0.0058 - accuracy: 0.9995 - val_loss: 0.0645 - val_accuracy: 0.9808\n",
      "Epoch 32/50\n",
      "60/60 [==============================] - 1s 10ms/step - loss: 0.0053 - accuracy: 0.9995 - val_loss: 0.0676 - val_accuracy: 0.9808\n",
      "Epoch 33/50\n",
      "60/60 [==============================] - 1s 11ms/step - loss: 0.0049 - accuracy: 0.9995 - val_loss: 0.0689 - val_accuracy: 0.9794\n",
      "Epoch 34/50\n",
      "60/60 [==============================] - 1s 10ms/step - loss: 0.0045 - accuracy: 0.9997 - val_loss: 0.0688 - val_accuracy: 0.9815\n",
      "Epoch 35/50\n",
      "60/60 [==============================] - 1s 10ms/step - loss: 0.0039 - accuracy: 0.9998 - val_loss: 0.0681 - val_accuracy: 0.9811\n",
      "Epoch 36/50\n",
      "60/60 [==============================] - 1s 10ms/step - loss: 0.0032 - accuracy: 0.9999 - val_loss: 0.0695 - val_accuracy: 0.9806\n",
      "Epoch 37/50\n",
      "60/60 [==============================] - 1s 10ms/step - loss: 0.0029 - accuracy: 0.9999 - val_loss: 0.0687 - val_accuracy: 0.9814\n",
      "Epoch 38/50\n",
      "60/60 [==============================] - 1s 10ms/step - loss: 0.0026 - accuracy: 0.9999 - val_loss: 0.0706 - val_accuracy: 0.9817\n",
      "Epoch 39/50\n",
      "60/60 [==============================] - 1s 10ms/step - loss: 0.0024 - accuracy: 0.9999 - val_loss: 0.0701 - val_accuracy: 0.9816\n",
      "Epoch 40/50\n",
      "60/60 [==============================] - 1s 11ms/step - loss: 0.0021 - accuracy: 1.0000 - val_loss: 0.0698 - val_accuracy: 0.9816\n",
      "Epoch 41/50\n",
      "60/60 [==============================] - 1s 10ms/step - loss: 0.0019 - accuracy: 1.0000 - val_loss: 0.0717 - val_accuracy: 0.9818\n",
      "Epoch 42/50\n",
      "60/60 [==============================] - 1s 10ms/step - loss: 0.0017 - accuracy: 1.0000 - val_loss: 0.0702 - val_accuracy: 0.9817\n",
      "Epoch 43/50\n",
      "60/60 [==============================] - 1s 10ms/step - loss: 0.0017 - accuracy: 1.0000 - val_loss: 0.0709 - val_accuracy: 0.9824\n",
      "Epoch 44/50\n",
      "60/60 [==============================] - 1s 11ms/step - loss: 0.0015 - accuracy: 1.0000 - val_loss: 0.0721 - val_accuracy: 0.9815\n",
      "Epoch 45/50\n",
      "60/60 [==============================] - 1s 10ms/step - loss: 0.0013 - accuracy: 1.0000 - val_loss: 0.0763 - val_accuracy: 0.9812\n",
      "Epoch 46/50\n",
      "60/60 [==============================] - 1s 10ms/step - loss: 0.0012 - accuracy: 1.0000 - val_loss: 0.0730 - val_accuracy: 0.9821\n",
      "Epoch 47/50\n",
      "60/60 [==============================] - 1s 10ms/step - loss: 0.0011 - accuracy: 1.0000 - val_loss: 0.0733 - val_accuracy: 0.9821\n",
      "Epoch 48/50\n",
      "60/60 [==============================] - 1s 10ms/step - loss: 0.0010 - accuracy: 1.0000 - val_loss: 0.0748 - val_accuracy: 0.9818\n",
      "Epoch 49/50\n",
      "60/60 [==============================] - 1s 10ms/step - loss: 9.5514e-04 - accuracy: 1.0000 - val_loss: 0.0759 - val_accuracy: 0.9820\n",
      "Epoch 50/50\n",
      "60/60 [==============================] - 1s 10ms/step - loss: 8.9173e-04 - accuracy: 1.0000 - val_loss: 0.0761 - val_accuracy: 0.9816\n",
      "INFO:tensorflow:Assets written to: WEIGHTS/model1/assets\n"
     ]
    },
    {
     "data": {
      "image/png": "[encoded data removed]",
      "text/plain": [
       "<Figure size 640x480 with 1 Axes>"
      ]
     },
     "metadata": {},
     "output_type": "display_data"
    }
   ],
   "source": [
    "import matplotlib.pyplot as plt\n",
    "from tensorflow import keras\n",
    "from tensorflow.keras import layers\n",
    "#=== Hyperparameters and Run Options ===#    \n",
    "hyperp = Hyperparameters()\n",
    "hyperp_new=Hyperparameters_new()\n",
    "run_options = RunOptions()\n",
    "    \n",
    "\n",
    "    #=== File Names ===#\n",
    "file_paths = FilePaths(hyperp, run_options)\n",
    "    \n",
    "\n",
    "data_train, labels_train,\\\n",
    "data_test, labels_test,\\\n",
    "data_input_shape, num_channels, label_dimensions\\\n",
    "= load_data(file_paths.NN_type, file_paths.dataset, run_options.random_seed)    \n",
    "    \n",
    "model = keras.Sequential()\n",
    "model.add(layers.Dense(500, activation='linear', input_shape=(784,)))\n",
    "model.add(layers.Dense(500, activation='elu'))\n",
    "model.add(layers.Dense(500, activation='elu'))\n",
    "model.add(layers.Dense(500, activation='elu'))\n",
    "\n",
    "model.add(layers.Dense(10, activation='softmax'))\n",
    "model.summary()\n",
    "#loss_fn=tf.nn.softmax_cross_entropy_with_logits\n",
    "loss_fn = tf.keras.losses.SparseCategoricalCrossentropy()\n",
    "opt = keras.optimizers.Adam(learning_rate=0.0001)\n",
    "model.compile(loss=loss_fn, optimizer=opt, metrics=['accuracy'])\n",
    "history=model.fit(data_train,labels_train,batch_size=1000,epochs=50,verbose=1,validation_data=(data_test, labels_test))\n",
    "\n",
    "\n",
    "#model.save(\"WEIGHTS\"+'/'+\"model\"+str(1))\n",
    "batch_pred_test = model(data_test)\n",
    "mean_accuracy_test = tf.keras.metrics.Mean()\n",
    "            \n",
    "mean_accuracy_test(accuracy_classification(batch_pred_test, labels_test))\n",
    "\n",
    "plt.plot(history.history['val_accuracy'])\n",
    "plt.show()\n"
   ]
  },
  {
   "cell_type": "code",
   "execution_count": 11,
   "metadata": {},
   "outputs": [
    {
     "data": {
      "text/plain": [
       "dict_keys(['loss', 'accuracy', 'val_loss', 'val_accuracy'])"
      ]
     },
     "execution_count": 11,
     "metadata": {},
     "output_type": "execute_result"
    }
   ],
   "source": [
    "history.history.keys()\n"
   ]
  },
  {
   "cell_type": "code",
   "execution_count": 9,
   "metadata": {},
   "outputs": [],
   "source": [
    "y=Network(data_test)"
   ]
  },
  {
   "cell_type": "code",
   "execution_count": 10,
   "metadata": {},
   "outputs": [
    {
     "data": {
      "text/plain": [
       "<tf.Tensor: id=443, shape=(), dtype=float32, numpy=0.8539>"
      ]
     },
     "execution_count": 10,
     "metadata": {},
     "output_type": "execute_result"
    }
   ],
   "source": [
    "mean_accuracy_test = tf.keras.metrics.Mean()\n",
    "mean_accuracy_test(accuracy_classification(y, labels_test))"
   ]
  },
  {
   "cell_type": "code",
   "execution_count": null,
   "metadata": {},
   "outputs": [],
   "source": []
  },
  {
   "cell_type": "code",
   "execution_count": 19,
   "metadata": {},
   "outputs": [],
   "source": [
    "        data_train,new_label,labels_train=create_new(data_train, labels_train,hyperp,hyperp_new, run_options, data_input_shape, label_dimensions,1)\n",
    "        \n",
    "        #=== Construct Validation Set and Batches ===# \n",
    "        data_and_labels_train, data_and_labels_val, data_and_labels_test,\\\n",
    "        num_data_train, num_data_val, num_data_test,\\\n",
    "        num_batches_train, num_batches_val, num_batches_test,data_and_labels_train_new\\\n",
    "        = form_train_val_test_batches(data_train, labels_train, \\\n",
    "                                  data_test, labels_test, \\\n",
    "                                  hyperp.batch_size, new_label, run_options.random_seed)\n"
   ]
  },
  {
   "cell_type": "code",
   "execution_count": 20,
   "metadata": {},
   "outputs": [],
   "source": [
    "for batch_num_num, (batch_data_val, batch_labels_val,labels_val) in data_and_labels_val.enumerate():\n",
    "    batch_data_val"
   ]
  },
  {
   "cell_type": "code",
   "execution_count": null,
   "metadata": {},
   "outputs": [],
   "source": []
  },
  {
   "cell_type": "code",
   "execution_count": 18,
   "metadata": {},
   "outputs": [],
   "source": [
    "new=batch_data_val"
   ]
  },
  {
   "cell_type": "code",
   "execution_count": 21,
   "metadata": {},
   "outputs": [
    {
     "data": {
      "text/plain": [
       "<tf.Tensor: id=987, shape=(), dtype=float32, numpy=0.0>"
      ]
     },
     "execution_count": 21,
     "metadata": {},
     "output_type": "execute_result"
    }
   ],
   "source": [
    "tf.norm(batch_data_val-new)"
   ]
  },
  {
   "cell_type": "code",
   "execution_count": 28,
   "metadata": {},
   "outputs": [
    {
     "data": {
      "text/plain": [
       "array([6, 9, 9, ..., 9, 1, 1], dtype=uint8)"
      ]
     },
     "execution_count": 28,
     "metadata": {},
     "output_type": "execute_result"
    }
   ],
   "source": [
    "labels_train=np.squeeze(labels_train,axis=1)"
   ]
  },
  {
   "cell_type": "code",
   "execution_count": 8,
   "metadata": {},
   "outputs": [
    {
     "name": "stdout",
     "output_type": "stream",
     "text": [
      "ListWrapper([28, 10, 10, 10])\n"
     ]
    }
   ],
   "source": [
    "Network=Final_Network(hyperp, run_options, data_input_shape, label_dimensions,\n",
    "                      kernel_regularizer, bias_regularizer) "
   ]
  },
  {
   "cell_type": "code",
   "execution_count": 9,
   "metadata": {},
   "outputs": [
    {
     "data": {
      "text/plain": [
       "<tensorflow.python.training.tracking.util.CheckpointLoadStatus at 0x22219c575f8>"
      ]
     },
     "execution_count": 9,
     "metadata": {},
     "output_type": "execute_result"
    }
   ],
   "source": [
    "Network.load_weights(\"WEIGHTS\"+'/'+\"model_weights1\")"
   ]
  },
  {
   "cell_type": "code",
   "execution_count": null,
   "metadata": {},
   "outputs": [],
   "source": []
  },
  {
   "cell_type": "code",
   "execution_count": 10,
   "metadata": {},
   "outputs": [],
   "source": [
    "(data_train, labels_train), (data_test, labels_test) = datasets.mnist.load_data()\n",
    "data_train = data_train.reshape(data_train.shape[0], 28, 28, 1)\n",
    "data_test = data_test.reshape(data_test.shape[0], 28, 28, 1)\n",
    "label_dimensions = 10\n",
    "data_input_shape = data_train.shape[1:]\n",
    "\n",
    "#=== Casting as float32 ===#\n",
    "data_train = tf.cast(data_train,tf.float32)\n",
    "labels_train = tf.cast(labels_train, tf.int32)\n",
    "data_test = tf.cast(data_test, tf.float32)\n",
    "labels_test = tf.cast(labels_test, tf.int32)\n",
    "    \n",
    "#=== Normalize Data ===#\n",
    "data_train, data_test = data_train/255.0, data_test/255.0\n",
    "data_train = tf.image.per_image_standardization(data_train) # Linearly scales each image to have mean 0 and variance 1\n",
    "data_test = tf.image.per_image_standardization(data_test)   # Linearly scales each image to have mean 0 and variance 1\n",
    "\n",
    "data_train = tf.reshape(data_train, (len(data_train), 28*28))\n",
    "data_test = tf.reshape(data_test, (len(data_test), 28*28))\n",
    "\n",
    "num_data_train = len(data_train)\n",
    "num_data_test = len(data_test)\n",
    "random_seed=1234\n",
    "batch_size        = 1000\n",
    "\n",
    "data_and_labels_train_full = tf.data.Dataset.from_tensor_slices((data_train, labels_train)).shuffle(num_data_train, seed=random_seed)\n",
    "data_and_labels_test = tf.data.Dataset.from_tensor_slices((data_test, labels_test)).batch(batch_size)\n",
    "num_batches_test = len(list(data_and_labels_test))\n",
    "\n",
    "#=== Partitioning Out Validation Set and Constructing Batches ===#\n",
    "current_num_data_train = num_data_train\n",
    "num_data_train = int(0.8 * num_data_train)\n",
    "num_data_val = current_num_data_train - num_data_train\n",
    "data_and_labels_train_full = tf.data.Dataset.from_tensor_slices((data_train, labels_train)).shuffle(num_data_train, seed=random_seed)\n",
    "data_and_labels_train = data_and_labels_train_full.take(num_data_train).batch(batch_size)\n",
    "data_and_labels_val = data_and_labels_train_full.skip(num_data_train).batch(batch_size)    \n",
    "num_batches_train = len(list(data_and_labels_train))\n",
    "num_batches_val = len(list(data_and_labels_val))"
   ]
  },
  {
   "cell_type": "code",
   "execution_count": 23,
   "metadata": {},
   "outputs": [],
   "source": [
    "(data_train, labels_train), (data_test, labels_test) = datasets.mnist.load_data()\n",
    "data_train = data_train.reshape(data_train.shape[0], 28, 28, 1)\n",
    "data_test = data_test.reshape(data_test.shape[0], 28, 28, 1)\n",
    "label_dimensions = 10\n",
    "data_input_shape = data_train.shape[1:]\n",
    "\n",
    "#=== Casting as float32 ===#\n",
    "data_train = tf.cast(data_train,tf.float32)\n",
    "labels_train = tf.cast(labels_train, tf.int32)\n",
    "data_test = tf.cast(data_test, tf.float32)\n",
    "labels_test = tf.cast(labels_test, tf.int32)\n",
    "    \n",
    "#=== Normalize Data ===#\n",
    "data_train, data_test = data_train/255.0, data_test/255.0\n",
    "data_train = tf.image.per_image_standardization(data_train) # Linearly scales each image to have mean 0 and variance 1\n",
    "data_test = tf.image.per_image_standardization(data_test)   # Linearly scales each image to have mean 0 and variance 1\n",
    "\n",
    "data_train = tf.reshape(data_train, (len(data_train), 28*28))\n",
    "data_test = tf.reshape(data_test, (len(data_test), 28*28))\n",
    "\n",
    "num_data_train = len(data_train)\n",
    "num_data_test = len(data_test)\n",
    "random_seed=1234\n",
    "batch_size        = 1000"
   ]
  },
  {
   "cell_type": "code",
   "execution_count": 24,
   "metadata": {},
   "outputs": [],
   "source": [
    "labels=tf.one_hot(tf.cast(labels_train,tf.int64), label_dimensions, dtype=tf.float32)"
   ]
  },
  {
   "cell_type": "code",
   "execution_count": 25,
   "metadata": {},
   "outputs": [],
   "source": [
    "data_and_labels_train_full = tf.data.Dataset.from_tensor_slices((data_train, labels_train,labels)).shuffle(num_data_train, seed=random_seed)"
   ]
  },
  {
   "cell_type": "code",
   "execution_count": 26,
   "metadata": {},
   "outputs": [],
   "source": [
    "data_and_labels_train = data_and_labels_train_full.take(num_data_train).batch(batch_size)\n",
    "data_and_labels_val = data_and_labels_train_full.skip(num_data_train).batch(batch_size)    \n",
    "num_batches_train = len(list(data_and_labels_train))\n",
    "num_batches_val = len(list(data_and_labels_val))"
   ]
  },
  {
   "cell_type": "code",
   "execution_count": null,
   "metadata": {},
   "outputs": [],
   "source": []
  },
  {
   "cell_type": "code",
   "execution_count": null,
   "metadata": {},
   "outputs": [],
   "source": []
  },
  {
   "cell_type": "code",
   "execution_count": 32,
   "metadata": {},
   "outputs": [],
   "source": [
    "for batch_num, (batch_data_train, batch_labels_train,labels) in data_and_labels_train.enumerate():\n",
    "    batch=batch_num\n",
    "    batch_data_train = batch_data_train\n",
    "    batch_labels_train=batch_labels_train\n",
    "    lab=labels"
   ]
  },
  {
   "cell_type": "code",
   "execution_count": 36,
   "metadata": {},
   "outputs": [
    {
     "data": {
      "text/plain": [
       "<tf.Tensor: shape=(1000, 10), dtype=float32, numpy=\n",
       "array([[0., 0., 0., ..., 0., 0., 0.],\n",
       "       [0., 0., 0., ..., 0., 1., 0.],\n",
       "       [0., 1., 0., ..., 0., 0., 0.],\n",
       "       ...,\n",
       "       [1., 0., 0., ..., 0., 0., 0.],\n",
       "       [0., 0., 0., ..., 0., 0., 0.],\n",
       "       [0., 0., 0., ..., 0., 0., 0.]], dtype=float32)>"
      ]
     },
     "execution_count": 36,
     "metadata": {},
     "output_type": "execute_result"
    }
   ],
   "source": [
    "lab\n"
   ]
  },
  {
   "cell_type": "code",
   "execution_count": 20,
   "metadata": {},
   "outputs": [],
   "source": [
    "y_true = tf.one_hot(tf.cast(labels_train,tf.int64), label_dimensions, dtype=tf.float32)"
   ]
  },
  {
   "cell_type": "code",
   "execution_count": 21,
   "metadata": {},
   "outputs": [
    {
     "data": {
      "text/plain": [
       "<tf.Tensor: shape=(60000, 10), dtype=float32, numpy=\n",
       "array([[0., 0., 0., ..., 0., 0., 0.],\n",
       "       [1., 0., 0., ..., 0., 0., 0.],\n",
       "       [0., 0., 0., ..., 0., 0., 0.],\n",
       "       ...,\n",
       "       [0., 0., 0., ..., 0., 0., 0.],\n",
       "       [0., 0., 0., ..., 0., 0., 0.],\n",
       "       [0., 0., 0., ..., 0., 1., 0.]], dtype=float32)>"
      ]
     },
     "execution_count": 21,
     "metadata": {},
     "output_type": "execute_result"
    }
   ],
   "source": [
    "y_true"
   ]
  },
  {
   "cell_type": "code",
   "execution_count": 37,
   "metadata": {},
   "outputs": [
    {
     "data": {
      "text/plain": [
       "1.9269863"
      ]
     },
     "execution_count": 37,
     "metadata": {},
     "output_type": "execute_result"
    }
   ],
   "source": [
    "np.mean(tf.keras.losses.mean_squared_error(new_one, val[0:dimension[0]-1]))"
   ]
  },
  {
   "cell_type": "code",
   "execution_count": 24,
   "metadata": {},
   "outputs": [
    {
     "data": {
      "text/plain": [
       "array([4, 6, 6, ..., 7, 2, 5])"
      ]
     },
     "execution_count": 24,
     "metadata": {},
     "output_type": "execute_result"
    }
   ],
   "source": []
  },
  {
   "cell_type": "code",
   "execution_count": 23,
   "metadata": {},
   "outputs": [],
   "source": []
  },
  {
   "cell_type": "code",
   "execution_count": 19,
   "metadata": {},
   "outputs": [],
   "source": [
    "\n",
    "x_train_new = batch_data_train[batch_labels_train == 1]\n",
    "batch_pred_train,val=NN(x_train_new)\n",
    "\n"
   ]
  },
  {
   "cell_type": "code",
   "execution_count": 16,
   "metadata": {},
   "outputs": [],
   "source": [
    "y_true = tf.one_hot(tf.cast(y_true,tf.int64), label_dimensions, dtype=tf.float32)"
   ]
  },
  {
   "cell_type": "code",
   "execution_count": 45,
   "metadata": {},
   "outputs": [
    {
     "data": {
      "text/plain": [
       "<tf.Tensor: shape=(), dtype=float32, numpy=1.6097095>"
      ]
     },
     "execution_count": 45,
     "metadata": {},
     "output_type": "execute_result"
    }
   ],
   "source": [
    "loss"
   ]
  },
  {
   "cell_type": "code",
   "execution_count": 48,
   "metadata": {},
   "outputs": [
    {
     "data": {
      "text/plain": [
       "2.567157"
      ]
     },
     "execution_count": 48,
     "metadata": {},
     "output_type": "execute_result"
    }
   ],
   "source": [
    "np.linalg.norm(val[0]-val[1])"
   ]
  },
  {
   "cell_type": "code",
   "execution_count": null,
   "metadata": {},
   "outputs": [],
   "source": []
  }
 ],
 "metadata": {
  "interpreter": {
   "hash": "6196c5e23c6b2b379c4220643bf9259826535d9ad3f9f06e52707346ee557ded"
  },
  "kernelspec": {
   "display_name": "Python 3.7.0 64-bit ('tf': conda)",
   "name": "python3"
  },
  "language_info": {
   "codemirror_mode": {
    "name": "ipython",
    "version": 3
   },
   "file_extension": ".py",
   "mimetype": "text/x-python",
   "name": "python",
   "nbconvert_exporter": "python",
   "pygments_lexer": "ipython3",
   "version": "3.7.0"
  }
 },
 "nbformat": 4,
 "nbformat_minor": 4
}
