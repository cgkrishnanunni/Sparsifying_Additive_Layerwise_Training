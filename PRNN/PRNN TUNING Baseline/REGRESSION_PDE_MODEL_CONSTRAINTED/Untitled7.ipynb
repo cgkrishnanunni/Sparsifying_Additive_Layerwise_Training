{
 "cells": [
  {
   "cell_type": "code",
   "execution_count": null,
   "id": "87bd896d",
   "metadata": {},
   "outputs": [],
   "source": [
    "import tensorflow as tf\n",
    "import numpy as np\n",
    "\n",
    "def compute_interior_loss_weak(batch_data_train, batch_labels_train, NN,model_constraint,label_dimensions,y_pred_train_add):\n",
    "        '''\n",
    "        compute the weak form loss - problem specific\n",
    "        '''\n",
    "        forcing=tf.constant([200.0])\n",
    "        # break apart input for tracking (to compute gradient)\n",
    "        x = tf.convert_to_tensor(batch_data_train[:,0:1])\n",
    "        y = tf.convert_to_tensor(batch_data_train[:,1:2])\n",
    "\n",
    "        with tf.GradientTape(persistent=True) as tape:\n",
    "            tape.watch(x)\n",
    "            tape.watch(y)\n",
    "\n",
    "            # restack to feed through model\n",
    "            batch = tf.stack([x[:,0], y[:,0]], axis=1)\n",
    "\n",
    "            # make prediction\n",
    "            pred,new = NN(batch)\n",
    "            pred=pred+y_pred_train_add\n",
    "\n",
    "            # compute gradients wrt input\n",
    "        dx = tape.gradient(pred, x)\n",
    "        dy = tape.gradient(pred, y)\n",
    "\n",
    "        grad_u = tf.stack([dx[:,0], dy[:,0]], axis=1)\n",
    "        del tape\n",
    "        \n",
    "        half = tf.constant([0.5], dtype=tf.float32)\n",
    "        weak_form = half * tf.reduce_sum(tf.square(grad_u), axis=1)\n",
    "        weak_form = weak_form - forcing() * pred\n",
    "\n",
    "\n",
    "        interior_loss = tf.reduce_mean(weak_form)\n",
    "        return model_constraint*interior_loss\n",
    "\n"
   ]
  }
 ],
 "metadata": {
  "kernelspec": {
   "display_name": "Python 3",
   "language": "python",
   "name": "python3"
  },
  "language_info": {
   "codemirror_mode": {
    "name": "ipython",
    "version": 3
   },
   "file_extension": ".py",
   "mimetype": "text/x-python",
   "name": "python",
   "nbconvert_exporter": "python",
   "pygments_lexer": "ipython3",
   "version": "3.7.0"
  }
 },
 "nbformat": 4,
 "nbformat_minor": 5
}
