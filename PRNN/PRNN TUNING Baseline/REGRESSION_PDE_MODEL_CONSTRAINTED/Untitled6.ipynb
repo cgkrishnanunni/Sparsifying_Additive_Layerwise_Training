{
 "cells": [
  {
   "cell_type": "code",
   "execution_count": null,
   "id": "e40cd730",
   "metadata": {},
   "outputs": [],
   "source": [
    "import tensorflow as tf\n",
    "import numpy as np\n",
    "\n",
    "def compute_interior_loss(batch_data_train, batch_labels_train, NN,model_constraint,label_dimensions):\n",
    "        '''\n",
    "        compute the weak form loss - problem specific\n",
    "        '''\n",
    "        forcing=tf.constant([1.0])\n",
    "        # break apart input for tracking (to compute gradient)\n",
    "        x = tf.convert_to_tensor(batch_data_train[:,0:1])\n",
    "        y = tf.convert_to_tensor(batch_data_train[:,1:2])\n",
    "\n",
    "        with tf.GradientTape(persistent=True) as tape:\n",
    "            tape.watch(x)\n",
    "            tape.watch(y)\n",
    "\n",
    "            # restack to feed through model\n",
    "            batch = tf.stack([x[:,0], y[:,0]], axis=1)\n",
    "\n",
    "            # make prediction\n",
    "            pred = NN(batch)\n",
    "\n",
    "            # compute gradients wrt input\n",
    "            dx = tape.gradient(pred, x)\n",
    "            dy = tape.gradient(pred, y)\n",
    "\n",
    "        # second derivatives\n",
    "        ddx = tape.gradient(dx, x)\n",
    "        ddy = tape.gradient(dy, y)\n",
    "        \n",
    "        laplace_u = ddx + ddy\n",
    "        del tape\n",
    "        \n",
    "        # pointwise strong form residual\n",
    "        pde_res = laplace_u + forcing\n",
    "\n",
    "        interior_loss = tf.reduce_mean(tf.square(pde_res))\n",
    "        return model_constraint*interior_loss\n"
   ]
  }
 ],
 "metadata": {
  "kernelspec": {
   "display_name": "Python 3",
   "language": "python",
   "name": "python3"
  },
  "language_info": {
   "codemirror_mode": {
    "name": "ipython",
    "version": 3
   },
   "file_extension": ".py",
   "mimetype": "text/x-python",
   "name": "python",
   "nbconvert_exporter": "python",
   "pygments_lexer": "ipython3",
   "version": "3.7.0"
  }
 },
 "nbformat": 4,
 "nbformat_minor": 5
}
