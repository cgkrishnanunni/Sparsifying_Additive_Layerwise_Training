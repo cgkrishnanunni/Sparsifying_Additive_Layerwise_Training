{
 "cells": [
  {
   "cell_type": "code",
   "execution_count": 1,
   "metadata": {},
   "outputs": [],
   "source": [
    "import tensorflow as tf\n",
    "import numpy as np\n",
    "import pandas as pd\n",
    "from Utilities.get_image_data import load_data\n",
    "from Utilities.form_train_val_test_batches import form_train_val_test_batches\n",
    "from Utilities.NN_FC_layerwise import FCLayerwise\n",
    "from Utilities.NN_FC_layerwise_new import FCLayerwise_new\n",
    "from Utilities.Net import Final_Network\n",
    "from Utilities.Net_new import Final_Network_ALGO_II\n",
    "from Utilities.create_data import create_new\n",
    "from Utilities.loss_and_accuracies import data_loss_classification, accuracy_classification\n",
    "from Utilities.manifold_regularization import manifold_classification\n",
    "from Utilities.manifold_regularization_new import manifold_classification_new\n",
    "from Utilities.optimize_layerwise import optimize\n",
    "from Utilities.additive_output import net_output \n",
    "from Utilities.plot_and_save_figures_layerwise import plot_fig\n",
    "from joblib import Parallel, delayed\n",
    "import multiprocessing\n",
    "import random"
   ]
  },
  {
   "cell_type": "code",
   "execution_count": null,
   "metadata": {},
   "outputs": [],
   "source": []
  },
  {
   "cell_type": "code",
   "execution_count": 2,
   "metadata": {},
   "outputs": [],
   "source": [
    "from decimal import Decimal # for filenames\n",
    "\n",
    "import pdb #Equivalent of keyboard in MATLAB, just add \"pdb.set_trace()\"\n",
    "\n",
    "import os\n",
    "import sys"
   ]
  },
  {
   "cell_type": "code",
   "execution_count": 3,
   "metadata": {},
   "outputs": [],
   "source": [
    "###############################################################################\n",
    "#                       HyperParameters and RunOptions                        #\n",
    "###############################################################################\n",
    "class Hyperparameters:\n",
    "    max_hidden_layers = 13 # For this architecture, need at least 2. One for the mapping to the feature space, one as a trainable hidden layer. EXCLUDES MAPPING BACK TO DATA SPACE\n",
    "    num_hidden_nodes  = 50 \n",
    "    activation        = 'elu'\n",
    "    classification_act= 'linear'\n",
    "    regularization    = 0.001\n",
    "    manifold          = 0.003\n",
    "    node_TOL          = 1e-4\n",
    "    error_TOL         = 1e-4\n",
    "    batch_size        = 900\n",
    "    num_epochs        = 100\n",
    "    \n",
    "    num_networks      = 6\n",
    "    "
   ]
  },
  {
   "cell_type": "code",
   "execution_count": null,
   "metadata": {},
   "outputs": [],
   "source": []
  },
  {
   "cell_type": "code",
   "execution_count": 4,
   "metadata": {},
   "outputs": [],
   "source": [
    "class Hyperparameters_new:\n",
    "    max_hidden_layers = 3 # For this architecture, need at least 2. One for the mapping to the feature space, one as a trainable hidden layer. EXCLUDES MAPPING BACK TO DATA SPACE\n",
    "    num_hidden_nodes  = 20\n",
    "    activation        = 'elu'\n",
    "    classification_act= 'linear'\n",
    "    regularization    = 0.000\n",
    "    manifold          = 0.000\n",
    "    node_TOL          = 1e-4\n",
    "    error_TOL         = 1e-4\n",
    "    batch_size        = 1000\n",
    "    num_epochs        = 50"
   ]
  },
  {
   "cell_type": "code",
   "execution_count": 6,
   "metadata": {},
   "outputs": [],
   "source": [
    "class RunOptions:\n",
    "    def __init__(self):    \n",
    "        #=== Choose Which GPU to Use ===#\n",
    "        self.which_gpu = '1'\n",
    "        \n",
    "        #=== Use L_1 Regularization ===#\n",
    "        self.use_L1 = 1\n",
    "        \n",
    "        #=== Choose Data Set ===#\n",
    "        self.data_MNIST = 1\n",
    "        self.data_CIFAR10 = 0 \n",
    "        self.data_CIFAR100 = 0\n",
    "        \n",
    "        #=== Random Seed ===#\n",
    "        self.random_seed = 1234\n"
   ]
  },
  {
   "cell_type": "code",
   "execution_count": 7,
   "metadata": {},
   "outputs": [],
   "source": [
    "###############################################################################\n",
    "#                                 File Paths                                  #\n",
    "###############################################################################         \n",
    "class FilePaths():    \n",
    "    def __init__(self, hyperp, run_options):  \n",
    "        #=== Declaring File Name Components ===# \n",
    "        self.NN_type = 'FC'\n",
    "        if run_options.data_MNIST == 1:\n",
    "            self.dataset = 'MNIST'\n",
    "        if run_options.data_CIFAR10 == 1:\n",
    "            self.dataset = 'CIFAR10'\n",
    "        if run_options.data_CIFAR100 == 1:\n",
    "            self.dataset = 'CIFAR100'\n",
    "        if hyperp.regularization >= 1:\n",
    "            hyperp.regularization = int(hyperp.regularization)\n",
    "            regularization_string = str(hyperp.regularization)\n",
    "        else:\n",
    "            regularization_string = str(hyperp.regularization)\n",
    "            regularization_string = 'pt' + regularization_string[2:]                        \n",
    "        node_TOL_string = str('%.2e' %Decimal(hyperp.node_TOL))\n",
    "        node_TOL_string = node_TOL_string[-1]\n",
    "        error_TOL_string = str('%.2e' %Decimal(hyperp.error_TOL))\n",
    "        error_TOL_string = error_TOL_string[-1]\n",
    "        \n",
    "        #=== File Name ===#\n",
    "        if run_options.use_L1 == 0:\n",
    "            self.filename = self.dataset + '_' + self.NN_type + '_mhl%d_hl%d_eTOL%s_b%d_e%d' %(hyperp.max_hidden_layers, hyperp.num_hidden_nodes, error_TOL_string, hyperp.batch_size, hyperp.num_epochs)\n",
    "        else:\n",
    "            self.filename = self.dataset + '_' + self.NN_type + '_L1_mhl%d_hl%d_r%s_nTOL%s_eTOL%s_b%d_e%d' %(hyperp.max_hidden_layers, hyperp.num_hidden_nodes, regularization_string, node_TOL_string, error_TOL_string, hyperp.batch_size, hyperp.num_epochs)\n",
    "\n",
    "        #=== Saving Trained Neural Network and Tensorboard ===#\n",
    "        #self.NN_savefile_directory = 'C:/Users/Chandradut/Desktop/Sparse training/Trained_NNs/' + self.filename # Since we need to save four different types of files to save a neural network model, we need to create a new folder for each model\n",
    "        self.NN_savefile_directory =  self.filename\n",
    "        self.NN_savefile_name = self.NN_savefile_directory + '/' + self.filename # The file path and name for the four files\n",
    "        #self.tensorboard_directory = 'C:/Users/Chandradut/Desktop/Sparse training/Tensorboard/' + self.filename\n",
    "\n",
    "###############################################################################\n",
    "\n"
   ]
  },
  {
   "cell_type": "code",
   "execution_count": 8,
   "metadata": {},
   "outputs": [
    {
     "name": "stderr",
     "output_type": "stream",
     "text": [
      "2022-03-15 17:15:24.430568: I tensorflow/core/platform/cpu_feature_guard.cc:145] This TensorFlow binary is optimized with Intel(R) MKL-DNN to use the following CPU instructions in performance critical operations:  SSE4.1 SSE4.2 AVX\n",
      "To enable them in non-MKL-DNN operations, rebuild TensorFlow with the appropriate compiler flags.\n",
      "2022-03-15 17:15:24.461474: I tensorflow/core/platform/profile_utils/cpu_utils.cc:94] CPU Frequency: 2593720000 Hz\n",
      "2022-03-15 17:15:24.463232: I tensorflow/compiler/xla/service/service.cc:168] XLA service 0x557ce188c850 executing computations on platform Host. Devices:\n",
      "2022-03-15 17:15:24.463260: I tensorflow/compiler/xla/service/service.cc:175]   StreamExecutor device (0): Host, Default Version\n",
      "2022-03-15 17:15:24.465491: I tensorflow/core/common_runtime/process_util.cc:115] Creating new thread pool with default inter op setting: 2. Tune using inter_op_parallelism_threads for best performance.\n"
     ]
    },
    {
     "name": "stdout",
     "output_type": "stream",
     "text": [
      "WARNING:tensorflow:From /workspace/krish/anaconda/envs/tf/lib/python3.7/site-packages/tensorflow_core/python/ops/image_ops_impl.py:1518: div (from tensorflow.python.ops.math_ops) is deprecated and will be removed in a future version.\n",
      "Instructions for updating:\n",
      "Deprecated in favor of operator or tf.math.divide.\n",
      "ListWrapper([784, 50, 50, 10])\n"
     ]
    },
    {
     "ename": "OSError",
     "evalue": "[Errno 16] Device or resource busy: '.nfs0000000113a8168300000d66'",
     "output_type": "error",
     "traceback": [
      "\u001b[0;31m---------------------------------------------------------------------------\u001b[0m",
      "\u001b[0;31mOSError\u001b[0m                                   Traceback (most recent call last)",
      "\u001b[0;32m/tmp/ipykernel_9398/2648222457.py\u001b[0m in \u001b[0;36m<module>\u001b[0;34m\u001b[0m\n\u001b[1;32m     67\u001b[0m         \u001b[0;32mif\u001b[0m \u001b[0mi\u001b[0m\u001b[0;34m==\u001b[0m\u001b[0;36m1\u001b[0m\u001b[0;34m:\u001b[0m\u001b[0;34m\u001b[0m\u001b[0m\n\u001b[1;32m     68\u001b[0m             \u001b[0mhyperp_n\u001b[0m\u001b[0;34m=\u001b[0m\u001b[0mhyperp\u001b[0m\u001b[0;34m\u001b[0m\u001b[0m\n\u001b[0;32m---> 69\u001b[0;31m             \u001b[0moptimize\u001b[0m\u001b[0;34m(\u001b[0m\u001b[0mhyperp\u001b[0m\u001b[0;34m,\u001b[0m\u001b[0mhyperp_n\u001b[0m\u001b[0;34m,\u001b[0m \u001b[0mrun_options\u001b[0m\u001b[0;34m,\u001b[0m \u001b[0mfile_paths\u001b[0m\u001b[0;34m,\u001b[0m \u001b[0mNN\u001b[0m\u001b[0;34m,\u001b[0m \u001b[0mdata_loss_classification\u001b[0m\u001b[0;34m,\u001b[0m \u001b[0maccuracy_classification\u001b[0m\u001b[0;34m,\u001b[0m \u001b[0mdata_and_labels_train\u001b[0m\u001b[0;34m,\u001b[0m \u001b[0mdata_and_labels_val\u001b[0m\u001b[0;34m,\u001b[0m \u001b[0mdata_and_labels_test\u001b[0m\u001b[0;34m,\u001b[0m \u001b[0mlabel_dimensions\u001b[0m\u001b[0;34m,\u001b[0m \u001b[0mnum_batches_train\u001b[0m\u001b[0;34m,\u001b[0m\u001b[0mdata_and_labels_train_new\u001b[0m\u001b[0;34m,\u001b[0m\u001b[0mmanifold_classification\u001b[0m\u001b[0;34m,\u001b[0m\u001b[0mhyperp\u001b[0m\u001b[0;34m.\u001b[0m\u001b[0mbatch_size\u001b[0m\u001b[0;34m,\u001b[0m\u001b[0mrun_options\u001b[0m\u001b[0;34m.\u001b[0m\u001b[0mrandom_seed\u001b[0m\u001b[0;34m,\u001b[0m\u001b[0mnum_data_train\u001b[0m\u001b[0;34m,\u001b[0m\u001b[0mi\u001b[0m\u001b[0;34m,\u001b[0m\u001b[0mdata_input_shape\u001b[0m\u001b[0;34m)\u001b[0m\u001b[0;34m\u001b[0m\u001b[0m\n\u001b[0m\u001b[1;32m     70\u001b[0m \u001b[0;34m\u001b[0m\u001b[0m\n\u001b[1;32m     71\u001b[0m         \u001b[0;32mif\u001b[0m \u001b[0mi\u001b[0m\u001b[0;34m>\u001b[0m\u001b[0;36m1\u001b[0m\u001b[0;34m:\u001b[0m\u001b[0;34m\u001b[0m\u001b[0m\n",
      "\u001b[0;32m~/Desktop/Sparse training_additive_generalized_MNIST_trial_1/ALGO I (LAYERWISE)/Utilities/optimize_layerwise.py\u001b[0m in \u001b[0;36moptimize\u001b[0;34m(hyperp, hyperp_new, run_options, file_paths, NN, data_loss, accuracy, data_and_labels_train, data_and_labels_val, data_and_labels_test, label_dimensions, num_batches_train, data_and_labels_train_new, manifold_class, batch_size, random_seed, num_data_train, i_val, data_input_shape)\u001b[0m\n\u001b[1;32m     46\u001b[0m     \u001b[0;31m#=== Tensorboard ===# Tensorboard: type \"tensorboard --logdir=Tensorboard\" into terminal and click the link\u001b[0m\u001b[0;34m\u001b[0m\u001b[0;34m\u001b[0m\u001b[0m\n\u001b[1;32m     47\u001b[0m     \u001b[0;32mif\u001b[0m \u001b[0mos\u001b[0m\u001b[0;34m.\u001b[0m\u001b[0mpath\u001b[0m\u001b[0;34m.\u001b[0m\u001b[0mexists\u001b[0m\u001b[0;34m(\u001b[0m\u001b[0;34m'../Tensorboard/'\u001b[0m \u001b[0;34m+\u001b[0m \u001b[0mfile_paths\u001b[0m\u001b[0;34m.\u001b[0m\u001b[0mfilename\u001b[0m\u001b[0;34m)\u001b[0m\u001b[0;34m:\u001b[0m \u001b[0;31m# Remove existing directory because Tensorboard graphs mess up of you write over it\u001b[0m\u001b[0;34m\u001b[0m\u001b[0m\n\u001b[0;32m---> 48\u001b[0;31m         \u001b[0mshutil\u001b[0m\u001b[0;34m.\u001b[0m\u001b[0mrmtree\u001b[0m\u001b[0;34m(\u001b[0m\u001b[0;34m'../Tensorboard/'\u001b[0m \u001b[0;34m+\u001b[0m \u001b[0mfile_paths\u001b[0m\u001b[0;34m.\u001b[0m\u001b[0mfilename\u001b[0m\u001b[0;34m)\u001b[0m\u001b[0;34m\u001b[0m\u001b[0m\n\u001b[0m\u001b[1;32m     49\u001b[0m     \u001b[0msummary_writer\u001b[0m \u001b[0;34m=\u001b[0m \u001b[0mtf\u001b[0m\u001b[0;34m.\u001b[0m\u001b[0msummary\u001b[0m\u001b[0;34m.\u001b[0m\u001b[0mcreate_file_writer\u001b[0m\u001b[0;34m(\u001b[0m\u001b[0;34m'../Tensorboard/'\u001b[0m \u001b[0;34m+\u001b[0m \u001b[0mfile_paths\u001b[0m\u001b[0;34m.\u001b[0m\u001b[0mfilename\u001b[0m\u001b[0;34m)\u001b[0m\u001b[0;34m\u001b[0m\u001b[0m\n\u001b[1;32m     50\u001b[0m \u001b[0;34m\u001b[0m\u001b[0m\n",
      "\u001b[0;32m/workspace/krish/anaconda/envs/tf/lib/python3.7/shutil.py\u001b[0m in \u001b[0;36mrmtree\u001b[0;34m(path, ignore_errors, onerror)\u001b[0m\n\u001b[1;32m    483\u001b[0m         \u001b[0;32mtry\u001b[0m\u001b[0;34m:\u001b[0m\u001b[0;34m\u001b[0m\u001b[0m\n\u001b[1;32m    484\u001b[0m             \u001b[0;32mif\u001b[0m \u001b[0mos\u001b[0m\u001b[0;34m.\u001b[0m\u001b[0mpath\u001b[0m\u001b[0;34m.\u001b[0m\u001b[0msamestat\u001b[0m\u001b[0;34m(\u001b[0m\u001b[0morig_st\u001b[0m\u001b[0;34m,\u001b[0m \u001b[0mos\u001b[0m\u001b[0;34m.\u001b[0m\u001b[0mfstat\u001b[0m\u001b[0;34m(\u001b[0m\u001b[0mfd\u001b[0m\u001b[0;34m)\u001b[0m\u001b[0;34m)\u001b[0m\u001b[0;34m:\u001b[0m\u001b[0;34m\u001b[0m\u001b[0m\n\u001b[0;32m--> 485\u001b[0;31m                 \u001b[0m_rmtree_safe_fd\u001b[0m\u001b[0;34m(\u001b[0m\u001b[0mfd\u001b[0m\u001b[0;34m,\u001b[0m \u001b[0mpath\u001b[0m\u001b[0;34m,\u001b[0m \u001b[0monerror\u001b[0m\u001b[0;34m)\u001b[0m\u001b[0;34m\u001b[0m\u001b[0m\n\u001b[0m\u001b[1;32m    486\u001b[0m                 \u001b[0;32mtry\u001b[0m\u001b[0;34m:\u001b[0m\u001b[0;34m\u001b[0m\u001b[0m\n\u001b[1;32m    487\u001b[0m                     \u001b[0mos\u001b[0m\u001b[0;34m.\u001b[0m\u001b[0mrmdir\u001b[0m\u001b[0;34m(\u001b[0m\u001b[0mpath\u001b[0m\u001b[0;34m)\u001b[0m\u001b[0;34m\u001b[0m\u001b[0m\n",
      "\u001b[0;32m/workspace/krish/anaconda/envs/tf/lib/python3.7/shutil.py\u001b[0m in \u001b[0;36m_rmtree_safe_fd\u001b[0;34m(topfd, path, onerror)\u001b[0m\n\u001b[1;32m    441\u001b[0m                 \u001b[0mos\u001b[0m\u001b[0;34m.\u001b[0m\u001b[0munlink\u001b[0m\u001b[0;34m(\u001b[0m\u001b[0mentry\u001b[0m\u001b[0;34m.\u001b[0m\u001b[0mname\u001b[0m\u001b[0;34m,\u001b[0m \u001b[0mdir_fd\u001b[0m\u001b[0;34m=\u001b[0m\u001b[0mtopfd\u001b[0m\u001b[0;34m)\u001b[0m\u001b[0;34m\u001b[0m\u001b[0m\n\u001b[1;32m    442\u001b[0m             \u001b[0;32mexcept\u001b[0m \u001b[0mOSError\u001b[0m\u001b[0;34m:\u001b[0m\u001b[0;34m\u001b[0m\u001b[0m\n\u001b[0;32m--> 443\u001b[0;31m                 \u001b[0monerror\u001b[0m\u001b[0;34m(\u001b[0m\u001b[0mos\u001b[0m\u001b[0;34m.\u001b[0m\u001b[0munlink\u001b[0m\u001b[0;34m,\u001b[0m \u001b[0mfullname\u001b[0m\u001b[0;34m,\u001b[0m \u001b[0msys\u001b[0m\u001b[0;34m.\u001b[0m\u001b[0mexc_info\u001b[0m\u001b[0;34m(\u001b[0m\u001b[0;34m)\u001b[0m\u001b[0;34m)\u001b[0m\u001b[0;34m\u001b[0m\u001b[0m\n\u001b[0m\u001b[1;32m    444\u001b[0m \u001b[0;34m\u001b[0m\u001b[0m\n\u001b[1;32m    445\u001b[0m _use_fd_functions = ({os.open, os.stat, os.unlink, os.rmdir} <=\n",
      "\u001b[0;32m/workspace/krish/anaconda/envs/tf/lib/python3.7/shutil.py\u001b[0m in \u001b[0;36m_rmtree_safe_fd\u001b[0;34m(topfd, path, onerror)\u001b[0m\n\u001b[1;32m    439\u001b[0m         \u001b[0;32melse\u001b[0m\u001b[0;34m:\u001b[0m\u001b[0;34m\u001b[0m\u001b[0m\n\u001b[1;32m    440\u001b[0m             \u001b[0;32mtry\u001b[0m\u001b[0;34m:\u001b[0m\u001b[0;34m\u001b[0m\u001b[0m\n\u001b[0;32m--> 441\u001b[0;31m                 \u001b[0mos\u001b[0m\u001b[0;34m.\u001b[0m\u001b[0munlink\u001b[0m\u001b[0;34m(\u001b[0m\u001b[0mentry\u001b[0m\u001b[0;34m.\u001b[0m\u001b[0mname\u001b[0m\u001b[0;34m,\u001b[0m \u001b[0mdir_fd\u001b[0m\u001b[0;34m=\u001b[0m\u001b[0mtopfd\u001b[0m\u001b[0;34m)\u001b[0m\u001b[0;34m\u001b[0m\u001b[0m\n\u001b[0m\u001b[1;32m    442\u001b[0m             \u001b[0;32mexcept\u001b[0m \u001b[0mOSError\u001b[0m\u001b[0;34m:\u001b[0m\u001b[0;34m\u001b[0m\u001b[0m\n\u001b[1;32m    443\u001b[0m                 \u001b[0monerror\u001b[0m\u001b[0;34m(\u001b[0m\u001b[0mos\u001b[0m\u001b[0;34m.\u001b[0m\u001b[0munlink\u001b[0m\u001b[0;34m,\u001b[0m \u001b[0mfullname\u001b[0m\u001b[0;34m,\u001b[0m \u001b[0msys\u001b[0m\u001b[0;34m.\u001b[0m\u001b[0mexc_info\u001b[0m\u001b[0;34m(\u001b[0m\u001b[0;34m)\u001b[0m\u001b[0;34m)\u001b[0m\u001b[0;34m\u001b[0m\u001b[0m\n",
      "\u001b[0;31mOSError\u001b[0m: [Errno 16] Device or resource busy: '.nfs0000000113a8168300000d66'"
     ]
    }
   ],
   "source": [
    "if __name__ == \"__main__\":     \n",
    "\n",
    "    #=== Hyperparameters and Run Options ===#    \n",
    "    hyperp = Hyperparameters()\n",
    "    hyperp_new=Hyperparameters_new()\n",
    "    run_options = RunOptions()\n",
    "    \n",
    "\n",
    "    #=== File Names ===#\n",
    "    file_paths = FilePaths(hyperp, run_options)\n",
    "    \n",
    "    #=== Load Data ===#       \n",
    "    data_train, labels_train,\\\n",
    "    data_test, labels_test,\\\n",
    "    data_input_shape, num_channels, label_dimensions\\\n",
    "    = load_data(file_paths.NN_type, file_paths.dataset, run_options.random_seed) \n",
    "    \n",
    "\n",
    "\n",
    "    \n",
    "    #for i in range(1,hyperp.num_networks):\n",
    "    for i in range(1,2):\n",
    "    #=== Initiate training ===#\n",
    "        #trainer(hyperp, run_options, file_paths,i) \n",
    "        \n",
    "\n",
    "    \n",
    "            \n",
    "        \n",
    "        \n",
    "        \n",
    "        \n",
    "            #=== GPU Settings ===#\n",
    "        os.environ[\"CUDA_DEVICE_ORDER\"] = \"PCI_BUS_ID\" \n",
    "        os.environ[\"CUDA_VISIBLE_DEVICES\"] = run_options.which_gpu\n",
    "    \n",
    "            #=== Neural Network ===#\n",
    "        if run_options.use_L1 == 0:\n",
    "            kernel_regularizer = None\n",
    "            bias_regularizer = None  \n",
    "        else:\n",
    "            kernel_regularizer = tf.keras.regularizers.l1(hyperp.regularization)\n",
    "            bias_regularizer = tf.keras.regularizers.l1(hyperp.regularization)\n",
    "\n",
    "        data_train,new_label,labels_train=create_new(data_train, labels_train,hyperp,hyperp_new, run_options, data_input_shape, label_dimensions,i)\n",
    "        \n",
    "        #=== Construct Validation Set and Batches ===# \n",
    "        data_and_labels_train, data_and_labels_val, data_and_labels_test,\\\n",
    "        num_data_train, num_data_val, num_data_test,\\\n",
    "        num_batches_train, num_batches_val, num_batches_test,data_and_labels_train_new\\\n",
    "        = form_train_val_test_batches(data_train, labels_train, \\\n",
    "                                  data_test, labels_test, \\\n",
    "                                  hyperp.batch_size, new_label, run_options.random_seed)\n",
    "        \n",
    "        \n",
    "        if i==1:\n",
    "            NN = FCLayerwise(hyperp, run_options, data_input_shape, label_dimensions,kernel_regularizer, bias_regularizer)    \n",
    "        if i>1:\n",
    "            kernel_regularizer = None\n",
    "            bias_regularizer = None\n",
    "            NN = FCLayerwise_new(hyperp_new, run_options, data_input_shape, label_dimensions,kernel_regularizer, bias_regularizer) \n",
    "    \n",
    "    #=== Training ===#\n",
    "    #                                 Training                                    #\n",
    "###############################################################################\n",
    "\n",
    "        if i==1:\n",
    "            hyperp_n=hyperp\n",
    "            optimize(hyperp,hyperp_n, run_options, file_paths, NN, data_loss_classification, accuracy_classification, data_and_labels_train, data_and_labels_val, data_and_labels_test, label_dimensions, num_batches_train,data_and_labels_train_new,manifold_classification,hyperp.batch_size,run_options.random_seed,num_data_train,i,data_input_shape)   \n",
    "        \n",
    "        if i>1:\n",
    "            hyperp_n=Hyperparameters_new()\n",
    "            optimize(hyperp,hyperp_n, run_options, file_paths, NN, data_loss_classification, accuracy_classification, data_and_labels_train, data_and_labels_val, data_and_labels_test, label_dimensions, num_batches_train,data_and_labels_train_new,manifold_classification_new,hyperp.batch_size,run_options.random_seed,num_data_train,i,data_input_shape)   \n",
    "        \n",
    "        \n",
    "        \n",
    "        if i==1:\n",
    "            plot_fig(hyperp, run_options, file_paths,i)\n",
    "            \n",
    "        if i>1:\n",
    "            plot_fig(hyperp_new, run_options, file_paths,i)\n",
    "        \n",
    "        \n",
    "\n",
    "        \n",
    "        \n",
    "        \n",
    "        \n",
    "        \n",
    "        \n",
    "        \n",
    "        "
   ]
  },
  {
   "cell_type": "code",
   "execution_count": 13,
   "metadata": {},
   "outputs": [
    {
     "data": {
      "image/png": "[encoded data removed]",
      "text/plain": [
       "<Figure size 432x288 with 1 Axes>"
      ]
     },
     "metadata": {
      "needs_background": "light"
     },
     "output_type": "display_data"
    },
    {
     "data": {
      "image/png": "[encoded data removed]",
      "text/plain": [
       "<Figure size 432x288 with 1 Axes>"
      ]
     },
     "metadata": {
      "needs_background": "light"
     },
     "output_type": "display_data"
    }
   ],
   "source": [
    "    import matplotlib.pyplot as plt\n",
    "    storage_loss_array=[]\n",
    "    storage_accuracy_array=[]\n",
    "    max_hidden_layers=hyperp.max_hidden_layers\n",
    "    no_epoch=hyperp.num_epochs\n",
    "    i_val=1\n",
    "    for i in range(2,8):\n",
    "    \n",
    "        trainable_hidden_layer_index=i\n",
    "    \n",
    "    \n",
    "        name=file_paths.NN_savefile_name + \"_metrics_hl\" + str(trainable_hidden_layer_index) +str(1)+ '.csv'\n",
    "\n",
    "\n",
    "        df_metrics =pd.read_csv(name)\n",
    "\n",
    "        array_metrics = df_metrics.to_numpy()\n",
    "\n",
    "        storage_loss_array=np.concatenate((storage_loss_array, array_metrics[:,0]), axis=0)\n",
    " \n",
    "        storage_accuracy_array=np.concatenate((storage_accuracy_array, array_metrics[:,1]), axis=0)\n",
    "    \n",
    "    if not os.path.exists(\"plots\"):\n",
    "        os.makedirs(\"plots\")\n",
    "#=== Plot and Save Losses===#\n",
    "    fig_loss = plt.figure()\n",
    "    x_axis = np.linspace(1, len(storage_loss_array), len(storage_loss_array), endpoint = True)\n",
    "    plt.plot(x_axis, storage_loss_array)\n",
    "    plt.title('Loss plot with layer adaptation' )\n",
    "    plt.xlabel('Epochs')\n",
    "    plt.ylabel('Loss')\n",
    "    fig_loss.savefig(\"plots\"+'/'+\"loss\"+str(i_val)+'.png')\n",
    "\n",
    "    \n",
    "\n",
    "#=== Plot and Save Accuracies===#\n",
    "    fig_accuracy = plt.figure()\n",
    "    x_axis = np.linspace(1, len(storage_accuracy_array), len(storage_accuracy_array), endpoint = True)\n",
    "    plt.plot(x_axis, storage_accuracy_array)\n",
    "#plt.title('Accuracy for: ' + run_options.filename)\n",
    "    plt.title('Accuracy plot with layer adaptation ')\n",
    "    plt.xlabel('Epochs')\n",
    "    plt.ylabel('Accuracy')\n",
    "    fig_accuracy.savefig(\"plots\"+'/'+\"accuracy\"+str(i_val)+'.png')"
   ]
  },
  {
   "cell_type": "code",
   "execution_count": 15,
   "metadata": {},
   "outputs": [
    {
     "name": "stdout",
     "output_type": "stream",
     "text": [
      "Model: \"sequential_6\"\n",
      "_________________________________________________________________\n",
      "Layer (type)                 Output Shape              Param #   \n",
      "=================================================================\n",
      "dense_54 (Dense)             (None, 20)                15700     \n",
      "_________________________________________________________________\n",
      "dense_55 (Dense)             (None, 20)                420       \n",
      "_________________________________________________________________\n",
      "dense_56 (Dense)             (None, 20)                420       \n",
      "_________________________________________________________________\n",
      "dense_57 (Dense)             (None, 20)                420       \n",
      "_________________________________________________________________\n",
      "dense_58 (Dense)             (None, 20)                420       \n",
      "_________________________________________________________________\n",
      "dense_59 (Dense)             (None, 20)                420       \n",
      "_________________________________________________________________\n",
      "dense_60 (Dense)             (None, 20)                420       \n",
      "_________________________________________________________________\n",
      "dense_61 (Dense)             (None, 20)                420       \n",
      "_________________________________________________________________\n",
      "dense_62 (Dense)             (None, 10)                210       \n",
      "=================================================================\n",
      "Total params: 18,850\n",
      "Trainable params: 18,850\n",
      "Non-trainable params: 0\n",
      "_________________________________________________________________\n",
      "Train on 60000 samples\n",
      "Epoch 1/100\n",
      "60000/60000 [==============================] - 2s 39us/sample - loss: 1.3880 - accuracy: 0.6036\n",
      "Epoch 2/100\n",
      "60000/60000 [==============================] - 2s 27us/sample - loss: 0.4759 - accuracy: 0.8681\n",
      "Epoch 3/100\n",
      "60000/60000 [==============================] - 1s 19us/sample - loss: 0.3262 - accuracy: 0.9093\n",
      "Epoch 4/100\n",
      "60000/60000 [==============================] - 1s 23us/sample - loss: 0.2659 - accuracy: 0.9251\n",
      "Epoch 5/100\n",
      "60000/60000 [==============================] - 1s 19us/sample - loss: 0.2307 - accuracy: 0.9346\n",
      "Epoch 6/100\n",
      "60000/60000 [==============================] - 1s 21us/sample - loss: 0.2049 - accuracy: 0.9412\n",
      "Epoch 7/100\n",
      "60000/60000 [==============================] - 1s 24us/sample - loss: 0.1874 - accuracy: 0.9458\n",
      "Epoch 8/100\n",
      "60000/60000 [==============================] - 1s 20us/sample - loss: 0.1719 - accuracy: 0.9497\n",
      "Epoch 9/100\n",
      "60000/60000 [==============================] - 2s 26us/sample - loss: 0.1594 - accuracy: 0.9532\n",
      "Epoch 10/100\n",
      "60000/60000 [==============================] - 1s 23us/sample - loss: 0.1490 - accuracy: 0.9568\n",
      "Epoch 11/100\n",
      "60000/60000 [==============================] - 1s 22us/sample - loss: 0.1406 - accuracy: 0.9592\n",
      "Epoch 12/100\n",
      "60000/60000 [==============================] - 1s 19us/sample - loss: 0.1343 - accuracy: 0.9599\n",
      "Epoch 13/100\n",
      "60000/60000 [==============================] - 2s 26us/sample - loss: 0.1255 - accuracy: 0.9633\n",
      "Epoch 14/100\n",
      "60000/60000 [==============================] - 1s 23us/sample - loss: 0.1212 - accuracy: 0.9646\n",
      "Epoch 15/100\n",
      "60000/60000 [==============================] - 1s 19us/sample - loss: 0.1171 - accuracy: 0.9657\n",
      "Epoch 16/100\n",
      "60000/60000 [==============================] - 1s 22us/sample - loss: 0.1118 - accuracy: 0.9670\n",
      "Epoch 17/100\n",
      "60000/60000 [==============================] - 1s 19us/sample - loss: 0.1063 - accuracy: 0.9690\n",
      "Epoch 18/100\n",
      "60000/60000 [==============================] - 2s 28us/sample - loss: 0.1041 - accuracy: 0.9689\n",
      "Epoch 19/100\n",
      "60000/60000 [==============================] - 1s 24us/sample - loss: 0.1020 - accuracy: 0.9702\n",
      "Epoch 20/100\n",
      "60000/60000 [==============================] - 2s 26us/sample - loss: 0.0967 - accuracy: 0.9710\n",
      "Epoch 21/100\n",
      "60000/60000 [==============================] - 2s 27us/sample - loss: 0.0960 - accuracy: 0.9719\n",
      "Epoch 22/100\n",
      "60000/60000 [==============================] - 2s 26us/sample - loss: 0.0913 - accuracy: 0.9732\n",
      "Epoch 23/100\n",
      "60000/60000 [==============================] - 1s 22us/sample - loss: 0.0894 - accuracy: 0.9735\n",
      "Epoch 24/100\n",
      "60000/60000 [==============================] - 2s 25us/sample - loss: 0.0864 - accuracy: 0.9743\n",
      "Epoch 25/100\n",
      "60000/60000 [==============================] - 1s 21us/sample - loss: 0.0843 - accuracy: 0.9750\n",
      "Epoch 26/100\n",
      "60000/60000 [==============================] - 1s 23us/sample - loss: 0.0805 - accuracy: 0.9760\n",
      "Epoch 27/100\n",
      "60000/60000 [==============================] - 2s 29us/sample - loss: 0.0799 - accuracy: 0.9762\n",
      "Epoch 28/100\n",
      "60000/60000 [==============================] - 1s 24us/sample - loss: 0.0772 - accuracy: 0.9771\n",
      "Epoch 29/100\n",
      "60000/60000 [==============================] - 1s 25us/sample - loss: 0.0753 - accuracy: 0.9774\n",
      "Epoch 30/100\n",
      "60000/60000 [==============================] - 2s 27us/sample - loss: 0.0727 - accuracy: 0.9779\n",
      "Epoch 31/100\n",
      "60000/60000 [==============================] - 2s 25us/sample - loss: 0.0718 - accuracy: 0.9786\n",
      "Epoch 32/100\n",
      "60000/60000 [==============================] - 1s 23us/sample - loss: 0.0693 - accuracy: 0.9795\n",
      "Epoch 33/100\n",
      "60000/60000 [==============================] - 1s 20us/sample - loss: 0.0680 - accuracy: 0.9798\n",
      "Epoch 34/100\n",
      "60000/60000 [==============================] - 2s 25us/sample - loss: 0.0689 - accuracy: 0.9796\n",
      "Epoch 35/100\n",
      "60000/60000 [==============================] - 1s 23us/sample - loss: 0.0634 - accuracy: 0.9809\n",
      "Epoch 36/100\n",
      "60000/60000 [==============================] - 1s 21us/sample - loss: 0.0628 - accuracy: 0.9815\n",
      "Epoch 37/100\n",
      "60000/60000 [==============================] - 1s 22us/sample - loss: 0.0621 - accuracy: 0.9815\n",
      "Epoch 38/100\n",
      "60000/60000 [==============================] - 1s 24us/sample - loss: 0.0621 - accuracy: 0.9815\n",
      "Epoch 39/100\n",
      "60000/60000 [==============================] - 2s 26us/sample - loss: 0.0592 - accuracy: 0.9828\n",
      "Epoch 40/100\n",
      "60000/60000 [==============================] - 1s 22us/sample - loss: 0.0573 - accuracy: 0.9833\n",
      "Epoch 41/100\n",
      "60000/60000 [==============================] - 1s 23us/sample - loss: 0.0534 - accuracy: 0.9844\n",
      "Epoch 42/100\n",
      "60000/60000 [==============================] - 2s 27us/sample - loss: 0.0527 - accuracy: 0.9844\n",
      "Epoch 43/100\n",
      "60000/60000 [==============================] - 1s 24us/sample - loss: 0.0544 - accuracy: 0.9838\n",
      "Epoch 44/100\n",
      "60000/60000 [==============================] - 1s 21us/sample - loss: 0.0530 - accuracy: 0.9839\n",
      "Epoch 45/100\n",
      "60000/60000 [==============================] - 1s 22us/sample - loss: 0.0510 - accuracy: 0.9845\n",
      "Epoch 46/100\n",
      "60000/60000 [==============================] - 2s 25us/sample - loss: 0.0501 - accuracy: 0.9851\n",
      "Epoch 47/100\n",
      "60000/60000 [==============================] - 1s 23us/sample - loss: 0.0482 - accuracy: 0.9856\n",
      "Epoch 48/100\n",
      "60000/60000 [==============================] - 1s 23us/sample - loss: 0.0507 - accuracy: 0.9845\n",
      "Epoch 49/100\n",
      "60000/60000 [==============================] - 1s 24us/sample - loss: 0.0479 - accuracy: 0.9854\n",
      "Epoch 50/100\n",
      "60000/60000 [==============================] - 1s 23us/sample - loss: 0.0472 - accuracy: 0.9860\n",
      "Epoch 51/100\n",
      "60000/60000 [==============================] - 2s 26us/sample - loss: 0.0484 - accuracy: 0.9851\n",
      "Epoch 52/100\n",
      "60000/60000 [==============================] - 1s 23us/sample - loss: 0.0476 - accuracy: 0.9854\n",
      "Epoch 53/100\n",
      "60000/60000 [==============================] - 1s 21us/sample - loss: 0.0437 - accuracy: 0.9870\n",
      "Epoch 54/100\n",
      "60000/60000 [==============================] - 2s 28us/sample - loss: 0.0423 - accuracy: 0.9874\n",
      "Epoch 55/100\n",
      "60000/60000 [==============================] - 2s 28us/sample - loss: 0.0440 - accuracy: 0.9863\n",
      "Epoch 56/100\n",
      "60000/60000 [==============================] - 1s 23us/sample - loss: 0.0407 - accuracy: 0.9878\n",
      "Epoch 57/100\n",
      "60000/60000 [==============================] - 2s 25us/sample - loss: 0.0417 - accuracy: 0.9872\n",
      "Epoch 58/100\n",
      "60000/60000 [==============================] - 2s 28us/sample - loss: 0.0404 - accuracy: 0.9878\n",
      "Epoch 59/100\n",
      "60000/60000 [==============================] - 1s 24us/sample - loss: 0.0387 - accuracy: 0.9883\n",
      "Epoch 60/100\n",
      "60000/60000 [==============================] - 2s 28us/sample - loss: 0.0404 - accuracy: 0.9875\n",
      "Epoch 61/100\n",
      "60000/60000 [==============================] - 1s 20us/sample - loss: 0.0371 - accuracy: 0.9888\n",
      "Epoch 62/100\n",
      "60000/60000 [==============================] - 1s 20us/sample - loss: 0.0378 - accuracy: 0.9886\n",
      "Epoch 63/100\n",
      "60000/60000 [==============================] - 1s 24us/sample - loss: 0.0367 - accuracy: 0.9888\n",
      "Epoch 64/100\n",
      "60000/60000 [==============================] - 2s 27us/sample - loss: 0.0393 - accuracy: 0.9878\n",
      "Epoch 65/100\n",
      "60000/60000 [==============================] - 1s 22us/sample - loss: 0.0357 - accuracy: 0.9894\n",
      "Epoch 66/100\n",
      "60000/60000 [==============================] - 1s 22us/sample - loss: 0.0360 - accuracy: 0.9888\n",
      "Epoch 67/100\n",
      "60000/60000 [==============================] - 1s 24us/sample - loss: 0.0337 - accuracy: 0.9905\n",
      "Epoch 68/100\n",
      "60000/60000 [==============================] - 1s 20us/sample - loss: 0.0303 - accuracy: 0.9912\n",
      "Epoch 69/100\n",
      "60000/60000 [==============================] - 1s 23us/sample - loss: 0.0310 - accuracy: 0.9908\n",
      "Epoch 70/100\n",
      "60000/60000 [==============================] - 1s 25us/sample - loss: 0.0307 - accuracy: 0.9913\n",
      "Epoch 71/100\n",
      "60000/60000 [==============================] - 2s 25us/sample - loss: 0.0307 - accuracy: 0.9909\n",
      "Epoch 72/100\n",
      "60000/60000 [==============================] - 1s 21us/sample - loss: 0.0300 - accuracy: 0.9912\n",
      "Epoch 73/100\n",
      "60000/60000 [==============================] - 1s 21us/sample - loss: 0.0318 - accuracy: 0.9904\n",
      "Epoch 74/100\n",
      "60000/60000 [==============================] - 1s 23us/sample - loss: 0.0280 - accuracy: 0.9917\n",
      "Epoch 75/100\n",
      "60000/60000 [==============================] - 2s 26us/sample - loss: 0.0295 - accuracy: 0.9908\n",
      "Epoch 76/100\n",
      "60000/60000 [==============================] - 2s 26us/sample - loss: 0.0269 - accuracy: 0.9916\n",
      "Epoch 77/100\n",
      "60000/60000 [==============================] - 1s 24us/sample - loss: 0.0354 - accuracy: 0.9884\n",
      "Epoch 78/100\n",
      "60000/60000 [==============================] - 1s 24us/sample - loss: 0.0327 - accuracy: 0.9899\n",
      "Epoch 79/100\n",
      "60000/60000 [==============================] - 1s 24us/sample - loss: 0.0308 - accuracy: 0.9906\n",
      "Epoch 80/100\n",
      "60000/60000 [==============================] - 2s 28us/sample - loss: 0.0325 - accuracy: 0.9897\n",
      "Epoch 81/100\n",
      "60000/60000 [==============================] - 2s 28us/sample - loss: 0.0243 - accuracy: 0.9932\n",
      "Epoch 82/100\n",
      "60000/60000 [==============================] - 2s 26us/sample - loss: 0.0244 - accuracy: 0.9929\n",
      "Epoch 83/100\n",
      "60000/60000 [==============================] - 1s 23us/sample - loss: 0.0272 - accuracy: 0.9915\n",
      "Epoch 84/100\n",
      "60000/60000 [==============================] - 1s 19us/sample - loss: 0.0287 - accuracy: 0.9911\n",
      "Epoch 85/100\n",
      "60000/60000 [==============================] - 1s 21us/sample - loss: 0.0285 - accuracy: 0.9910\n",
      "Epoch 86/100\n",
      "60000/60000 [==============================] - 1s 23us/sample - loss: 0.0265 - accuracy: 0.9917\n",
      "Epoch 87/100\n",
      "60000/60000 [==============================] - 1s 18us/sample - loss: 0.0257 - accuracy: 0.9925\n",
      "Epoch 88/100\n",
      "60000/60000 [==============================] - 1s 22us/sample - loss: 0.0243 - accuracy: 0.9924\n",
      "Epoch 89/100\n",
      "60000/60000 [==============================] - 1s 21us/sample - loss: 0.0232 - accuracy: 0.9931\n",
      "Epoch 90/100\n",
      "60000/60000 [==============================] - 1s 22us/sample - loss: 0.0222 - accuracy: 0.9934\n",
      "Epoch 91/100\n",
      "60000/60000 [==============================] - 1s 19us/sample - loss: 0.0214 - accuracy: 0.9940\n",
      "Epoch 92/100\n",
      "60000/60000 [==============================] - 2s 25us/sample - loss: 0.0244 - accuracy: 0.9926\n",
      "Epoch 93/100\n",
      "60000/60000 [==============================] - 1s 22us/sample - loss: 0.0275 - accuracy: 0.9911\n",
      "Epoch 94/100\n",
      "60000/60000 [==============================] - 1s 23us/sample - loss: 0.0301 - accuracy: 0.9907\n",
      "Epoch 95/100\n",
      "60000/60000 [==============================] - 1s 23us/sample - loss: 0.0231 - accuracy: 0.9930\n",
      "Epoch 96/100\n",
      "60000/60000 [==============================] - 1s 20us/sample - loss: 0.0200 - accuracy: 0.9941\n",
      "Epoch 97/100\n",
      "60000/60000 [==============================] - 1s 20us/sample - loss: 0.0214 - accuracy: 0.9935\n",
      "Epoch 98/100\n",
      "60000/60000 [==============================] - 1s 22us/sample - loss: 0.0223 - accuracy: 0.9931\n",
      "Epoch 99/100\n",
      "60000/60000 [==============================] - 2s 28us/sample - loss: 0.0233 - accuracy: 0.9929\n",
      "Epoch 100/100\n",
      "60000/60000 [==============================] - 2s 33us/sample - loss: 0.0219 - accuracy: 0.9933\n"
     ]
    },
    {
     "data": {
      "text/plain": [
       "<tf.Tensor: id=57799, shape=(), dtype=float32, numpy=0.9581>"
      ]
     },
     "execution_count": 15,
     "metadata": {},
     "output_type": "execute_result"
    }
   ],
   "source": [
    "from tensorflow import keras\n",
    "from tensorflow.keras import layers\n",
    "\n",
    "hyperp = Hyperparameters()\n",
    "hyperp_new=Hyperparameters_new()\n",
    "run_options = RunOptions()\n",
    "    \n",
    "\n",
    "    #=== File Names ===#\n",
    "file_paths = FilePaths(hyperp, run_options)\n",
    "    \n",
    "    #=== Load Data ===#       \n",
    "\n",
    "data_train, labels_train,\\\n",
    "data_test, labels_test,\\\n",
    "data_input_shape, num_channels, label_dimensions\\\n",
    "= load_data(file_paths.NN_type, file_paths.dataset, run_options.random_seed)    \n",
    "    \n",
    "model = keras.Sequential()\n",
    "model.add(layers.Dense(20, activation='elu', input_shape=(784,)))\n",
    "model.add(layers.Dense(20, activation='elu'))\n",
    "model.add(layers.Dense(20, activation='elu'))\n",
    "model.add(layers.Dense(20, activation='elu'))\n",
    "model.add(layers.Dense(20, activation='elu'))\n",
    "model.add(layers.Dense(20, activation='elu'))\n",
    "model.add(layers.Dense(20, activation='elu'))\n",
    "model.add(layers.Dense(20, activation='elu'))\n",
    "model.add(layers.Dense(10, activation='softmax'))\n",
    "model.summary()\n",
    "\n",
    "\n",
    "\n",
    "opt = keras.optimizers.Adam(learning_rate=0.001)\n",
    "model.compile(loss='sparse_categorical_crossentropy', optimizer=opt, metrics=['accuracy'])\n",
    "\n",
    "model.fit(data_train,labels_train,batch_size=1000,epochs=100,verbose=1)\n",
    "    \n",
    "batch_pred_test = model(data_test)\n",
    "mean_accuracy_test = tf.keras.metrics.Mean()\n",
    "            \n",
    "mean_accuracy_test(accuracy_classification(batch_pred_test, labels_test))"
   ]
  },
  {
   "cell_type": "code",
   "execution_count": 19,
   "metadata": {},
   "outputs": [],
   "source": [
    "        data_train,new_label,labels_train=create_new(data_train, labels_train,hyperp,hyperp_new, run_options, data_input_shape, label_dimensions,1)\n",
    "        \n",
    "        #=== Construct Validation Set and Batches ===# \n",
    "        data_and_labels_train, data_and_labels_val, data_and_labels_test,\\\n",
    "        num_data_train, num_data_val, num_data_test,\\\n",
    "        num_batches_train, num_batches_val, num_batches_test,data_and_labels_train_new\\\n",
    "        = form_train_val_test_batches(data_train, labels_train, \\\n",
    "                                  data_test, labels_test, \\\n",
    "                                  hyperp.batch_size, new_label, run_options.random_seed)\n"
   ]
  },
  {
   "cell_type": "code",
   "execution_count": 20,
   "metadata": {},
   "outputs": [],
   "source": [
    "for batch_num_num, (batch_data_val, batch_labels_val,labels_val) in data_and_labels_val.enumerate():\n",
    "    batch_data_val"
   ]
  },
  {
   "cell_type": "code",
   "execution_count": 24,
   "metadata": {},
   "outputs": [
    {
     "data": {
      "text/plain": [
       "<tf.Tensor: id=55, shape=(60000, 784), dtype=float32, numpy=\n",
       "array([[-0.44079024, -0.44079024, -0.44079024, ..., -0.44079024,\n",
       "        -0.44079024, -0.44079024],\n",
       "       [-0.47280213, -0.47280213, -0.47280213, ..., -0.47280213,\n",
       "        -0.47280213, -0.47280213],\n",
       "       [-0.37816134, -0.37816134, -0.37816134, ..., -0.37816134,\n",
       "        -0.37816134, -0.37816134],\n",
       "       ...,\n",
       "       [-0.39482278, -0.39482278, -0.39482278, ..., -0.39482278,\n",
       "        -0.39482278, -0.39482278],\n",
       "       [-0.39232355, -0.39232355, -0.39232355, ..., -0.39232355,\n",
       "        -0.39232355, -0.39232355],\n",
       "       [-0.39491966, -0.39491966, -0.39491966, ..., -0.39491966,\n",
       "        -0.39491966, -0.39491966]], dtype=float32)>"
      ]
     },
     "execution_count": 24,
     "metadata": {},
     "output_type": "execute_result"
    }
   ],
   "source": [
    "data_train"
   ]
  },
  {
   "cell_type": "code",
   "execution_count": 18,
   "metadata": {},
   "outputs": [],
   "source": [
    "new=batch_data_val"
   ]
  },
  {
   "cell_type": "code",
   "execution_count": 21,
   "metadata": {},
   "outputs": [
    {
     "data": {
      "text/plain": [
       "<tf.Tensor: id=987, shape=(), dtype=float32, numpy=0.0>"
      ]
     },
     "execution_count": 21,
     "metadata": {},
     "output_type": "execute_result"
    }
   ],
   "source": [
    "tf.norm(batch_data_val-new)"
   ]
  },
  {
   "cell_type": "code",
   "execution_count": 28,
   "metadata": {},
   "outputs": [
    {
     "data": {
      "text/plain": [
       "array([6, 9, 9, ..., 9, 1, 1], dtype=uint8)"
      ]
     },
     "execution_count": 28,
     "metadata": {},
     "output_type": "execute_result"
    }
   ],
   "source": [
    "labels_train=np.squeeze(labels_train,axis=1)"
   ]
  },
  {
   "cell_type": "code",
   "execution_count": 8,
   "metadata": {},
   "outputs": [
    {
     "name": "stdout",
     "output_type": "stream",
     "text": [
      "ListWrapper([28, 10, 10, 10])\n"
     ]
    }
   ],
   "source": [
    "Network=Final_Network(hyperp, run_options, data_input_shape, label_dimensions,\n",
    "                      kernel_regularizer, bias_regularizer) "
   ]
  },
  {
   "cell_type": "code",
   "execution_count": 9,
   "metadata": {},
   "outputs": [
    {
     "data": {
      "text/plain": [
       "<tensorflow.python.training.tracking.util.CheckpointLoadStatus at 0x22219c575f8>"
      ]
     },
     "execution_count": 9,
     "metadata": {},
     "output_type": "execute_result"
    }
   ],
   "source": [
    "Network.load_weights(\"WEIGHTS\"+'/'+\"model_weights1\")"
   ]
  },
  {
   "cell_type": "code",
   "execution_count": 12,
   "metadata": {},
   "outputs": [
    {
     "data": {
      "text/plain": [
       "<BatchDataset shapes: ((None, 784), (None,), (None, 10)), types: (tf.float32, tf.int32, tf.float32)>"
      ]
     },
     "execution_count": 12,
     "metadata": {},
     "output_type": "execute_result"
    }
   ],
   "source": [
    "data_and_labels_train"
   ]
  },
  {
   "cell_type": "code",
   "execution_count": 37,
   "metadata": {},
   "outputs": [
    {
     "ename": "TypeError",
     "evalue": "'tensorflow.python.framework.ops.EagerTensor' object does not support item assignment",
     "output_type": "error",
     "traceback": [
      "\u001b[0;31m---------------------------------------------------------------------------\u001b[0m",
      "\u001b[0;31mTypeError\u001b[0m                                 Traceback (most recent call last)",
      "\u001b[0;32m/tmp/ipykernel_10929/1984938841.py\u001b[0m in \u001b[0;36m<module>\u001b[0;34m\u001b[0m\n\u001b[1;32m      1\u001b[0m \u001b[0;32mfor\u001b[0m \u001b[0mbatch_num\u001b[0m\u001b[0;34m,\u001b[0m \u001b[0;34m(\u001b[0m\u001b[0mbatch_data_train\u001b[0m\u001b[0;34m,\u001b[0m \u001b[0mbatch_labels_train\u001b[0m\u001b[0;34m,\u001b[0m\u001b[0mlabels\u001b[0m\u001b[0;34m)\u001b[0m \u001b[0;32min\u001b[0m \u001b[0mdata_and_labels_train\u001b[0m\u001b[0;34m.\u001b[0m\u001b[0menumerate\u001b[0m\u001b[0;34m(\u001b[0m\u001b[0;34m)\u001b[0m\u001b[0;34m:\u001b[0m\u001b[0;34m\u001b[0m\u001b[0m\n\u001b[0;32m----> 2\u001b[0;31m     \u001b[0mr\u001b[0m\u001b[0;34m[\u001b[0m\u001b[0mbatch_num\u001b[0m\u001b[0;34m]\u001b[0m\u001b[0;34m=\u001b[0m\u001b[0mbatch_data_train\u001b[0m\u001b[0;34m\u001b[0m\u001b[0m\n\u001b[0m\u001b[1;32m      3\u001b[0m \u001b[0;34m\u001b[0m\u001b[0m\n",
      "\u001b[0;31mTypeError\u001b[0m: 'tensorflow.python.framework.ops.EagerTensor' object does not support item assignment"
     ]
    }
   ],
   "source": [
    "for batch_num, (batch_data_train, batch_labels_train,labels) in data_and_labels_train.enumerate():\n",
    "    r[batch_num]=batch_data_train\n",
    "    "
   ]
  },
  {
   "cell_type": "code",
   "execution_count": 36,
   "metadata": {},
   "outputs": [
    {
     "ename": "TypeError",
     "evalue": "'DatasetV1Adapter' object does not support indexing",
     "output_type": "error",
     "traceback": [
      "\u001b[0;31m---------------------------------------------------------------------------\u001b[0m",
      "\u001b[0;31mTypeError\u001b[0m                                 Traceback (most recent call last)",
      "\u001b[0;32m/tmp/ipykernel_10929/1179804511.py\u001b[0m in \u001b[0;36m<module>\u001b[0;34m\u001b[0m\n\u001b[0;32m----> 1\u001b[0;31m \u001b[0mdata_and_labels_train\u001b[0m\u001b[0;34m.\u001b[0m\u001b[0menumerate\u001b[0m\u001b[0;34m(\u001b[0m\u001b[0;34m)\u001b[0m\u001b[0;34m[\u001b[0m\u001b[0;36m0\u001b[0m\u001b[0;34m]\u001b[0m\u001b[0;34m\u001b[0m\u001b[0m\n\u001b[0m",
      "\u001b[0;31mTypeError\u001b[0m: 'DatasetV1Adapter' object does not support indexing"
     ]
    }
   ],
   "source": []
  },
  {
   "cell_type": "code",
   "execution_count": 33,
   "metadata": {},
   "outputs": [
    {
     "ename": "AttributeError",
     "evalue": "'tensorflow.python.framework.ops.EagerTensor' object has no attribute 'take'",
     "output_type": "error",
     "traceback": [
      "\u001b[0;31m---------------------------------------------------------------------------\u001b[0m",
      "\u001b[0;31mAttributeError\u001b[0m                            Traceback (most recent call last)",
      "\u001b[0;32m/tmp/ipykernel_10929/3096114718.py\u001b[0m in \u001b[0;36m<module>\u001b[0;34m\u001b[0m\n\u001b[0;32m----> 1\u001b[0;31m \u001b[0mdata_and_labels_train_new\u001b[0m \u001b[0;34m=\u001b[0m \u001b[0mdata_train\u001b[0m\u001b[0;34m.\u001b[0m\u001b[0mtake\u001b[0m\u001b[0;34m(\u001b[0m\u001b[0mnum_data_train\u001b[0m\u001b[0;34m)\u001b[0m\u001b[0;34m\u001b[0m\u001b[0m\n\u001b[0m",
      "\u001b[0;31mAttributeError\u001b[0m: 'tensorflow.python.framework.ops.EagerTensor' object has no attribute 'take'"
     ]
    }
   ],
   "source": [
    "data_and_labels_train_new = data_train.take(num_data_train)"
   ]
  },
  {
   "cell_type": "code",
   "execution_count": 10,
   "metadata": {},
   "outputs": [],
   "source": [
    "(data_train, labels_train), (data_test, labels_test) = datasets.mnist.load_data()\n",
    "data_train = data_train.reshape(data_train.shape[0], 28, 28, 1)\n",
    "data_test = data_test.reshape(data_test.shape[0], 28, 28, 1)\n",
    "label_dimensions = 10\n",
    "data_input_shape = data_train.shape[1:]\n",
    "\n",
    "#=== Casting as float32 ===#\n",
    "data_train = tf.cast(data_train,tf.float32)\n",
    "labels_train = tf.cast(labels_train, tf.int32)\n",
    "data_test = tf.cast(data_test, tf.float32)\n",
    "labels_test = tf.cast(labels_test, tf.int32)\n",
    "    \n",
    "#=== Normalize Data ===#\n",
    "data_train, data_test = data_train/255.0, data_test/255.0\n",
    "data_train = tf.image.per_image_standardization(data_train) # Linearly scales each image to have mean 0 and variance 1\n",
    "data_test = tf.image.per_image_standardization(data_test)   # Linearly scales each image to have mean 0 and variance 1\n",
    "\n",
    "data_train = tf.reshape(data_train, (len(data_train), 28*28))\n",
    "data_test = tf.reshape(data_test, (len(data_test), 28*28))\n",
    "\n",
    "num_data_train = len(data_train)\n",
    "num_data_test = len(data_test)\n",
    "random_seed=1234\n",
    "batch_size        = 1000\n",
    "\n",
    "data_and_labels_train_full = tf.data.Dataset.from_tensor_slices((data_train, labels_train)).shuffle(num_data_train, seed=random_seed)\n",
    "data_and_labels_test = tf.data.Dataset.from_tensor_slices((data_test, labels_test)).batch(batch_size)\n",
    "num_batches_test = len(list(data_and_labels_test))\n",
    "\n",
    "#=== Partitioning Out Validation Set and Constructing Batches ===#\n",
    "current_num_data_train = num_data_train\n",
    "num_data_train = int(0.8 * num_data_train)\n",
    "num_data_val = current_num_data_train - num_data_train\n",
    "data_and_labels_train_full = tf.data.Dataset.from_tensor_slices((data_train, labels_train)).shuffle(num_data_train, seed=random_seed)\n",
    "data_and_labels_train = data_and_labels_train_full.take(num_data_train).batch(batch_size)\n",
    "data_and_labels_val = data_and_labels_train_full.skip(num_data_train).batch(batch_size)    \n",
    "num_batches_train = len(list(data_and_labels_train))\n",
    "num_batches_val = len(list(data_and_labels_val))"
   ]
  },
  {
   "cell_type": "code",
   "execution_count": 23,
   "metadata": {},
   "outputs": [],
   "source": [
    "(data_train, labels_train), (data_test, labels_test) = datasets.mnist.load_data()\n",
    "data_train = data_train.reshape(data_train.shape[0], 28, 28, 1)\n",
    "data_test = data_test.reshape(data_test.shape[0], 28, 28, 1)\n",
    "label_dimensions = 10\n",
    "data_input_shape = data_train.shape[1:]\n",
    "\n",
    "#=== Casting as float32 ===#\n",
    "data_train = tf.cast(data_train,tf.float32)\n",
    "labels_train = tf.cast(labels_train, tf.int32)\n",
    "data_test = tf.cast(data_test, tf.float32)\n",
    "labels_test = tf.cast(labels_test, tf.int32)\n",
    "    \n",
    "#=== Normalize Data ===#\n",
    "data_train, data_test = data_train/255.0, data_test/255.0\n",
    "data_train = tf.image.per_image_standardization(data_train) # Linearly scales each image to have mean 0 and variance 1\n",
    "data_test = tf.image.per_image_standardization(data_test)   # Linearly scales each image to have mean 0 and variance 1\n",
    "\n",
    "data_train = tf.reshape(data_train, (len(data_train), 28*28))\n",
    "data_test = tf.reshape(data_test, (len(data_test), 28*28))\n",
    "\n",
    "num_data_train = len(data_train)\n",
    "num_data_test = len(data_test)\n",
    "random_seed=1234\n",
    "batch_size        = 1000"
   ]
  },
  {
   "cell_type": "code",
   "execution_count": 24,
   "metadata": {},
   "outputs": [],
   "source": [
    "labels=tf.one_hot(tf.cast(labels_train,tf.int64), label_dimensions, dtype=tf.float32)"
   ]
  },
  {
   "cell_type": "code",
   "execution_count": 25,
   "metadata": {},
   "outputs": [],
   "source": [
    "data_and_labels_train_full = tf.data.Dataset.from_tensor_slices((data_train, labels_train,labels)).shuffle(num_data_train, seed=random_seed)"
   ]
  },
  {
   "cell_type": "code",
   "execution_count": 26,
   "metadata": {},
   "outputs": [],
   "source": [
    "data_and_labels_train = data_and_labels_train_full.take(num_data_train).batch(batch_size)\n",
    "data_and_labels_val = data_and_labels_train_full.skip(num_data_train).batch(batch_size)    \n",
    "num_batches_train = len(list(data_and_labels_train))\n",
    "num_batches_val = len(list(data_and_labels_val))"
   ]
  },
  {
   "cell_type": "code",
   "execution_count": null,
   "metadata": {},
   "outputs": [],
   "source": []
  },
  {
   "cell_type": "code",
   "execution_count": null,
   "metadata": {},
   "outputs": [],
   "source": []
  },
  {
   "cell_type": "code",
   "execution_count": 32,
   "metadata": {},
   "outputs": [],
   "source": [
    "for batch_num, (batch_data_train, batch_labels_train,labels) in data_and_labels_train.enumerate():\n",
    "    batch=batch_num\n",
    "    batch_data_train = batch_data_train\n",
    "    batch_labels_train=batch_labels_train\n",
    "    lab=labels"
   ]
  },
  {
   "cell_type": "code",
   "execution_count": 36,
   "metadata": {},
   "outputs": [
    {
     "data": {
      "text/plain": [
       "<tf.Tensor: shape=(1000, 10), dtype=float32, numpy=\n",
       "array([[0., 0., 0., ..., 0., 0., 0.],\n",
       "       [0., 0., 0., ..., 0., 1., 0.],\n",
       "       [0., 1., 0., ..., 0., 0., 0.],\n",
       "       ...,\n",
       "       [1., 0., 0., ..., 0., 0., 0.],\n",
       "       [0., 0., 0., ..., 0., 0., 0.],\n",
       "       [0., 0., 0., ..., 0., 0., 0.]], dtype=float32)>"
      ]
     },
     "execution_count": 36,
     "metadata": {},
     "output_type": "execute_result"
    }
   ],
   "source": [
    "lab\n"
   ]
  },
  {
   "cell_type": "code",
   "execution_count": 20,
   "metadata": {},
   "outputs": [],
   "source": [
    "y_true = tf.one_hot(tf.cast(labels_train,tf.int64), label_dimensions, dtype=tf.float32)"
   ]
  },
  {
   "cell_type": "code",
   "execution_count": 21,
   "metadata": {},
   "outputs": [
    {
     "data": {
      "text/plain": [
       "<tf.Tensor: shape=(60000, 10), dtype=float32, numpy=\n",
       "array([[0., 0., 0., ..., 0., 0., 0.],\n",
       "       [1., 0., 0., ..., 0., 0., 0.],\n",
       "       [0., 0., 0., ..., 0., 0., 0.],\n",
       "       ...,\n",
       "       [0., 0., 0., ..., 0., 0., 0.],\n",
       "       [0., 0., 0., ..., 0., 0., 0.],\n",
       "       [0., 0., 0., ..., 0., 1., 0.]], dtype=float32)>"
      ]
     },
     "execution_count": 21,
     "metadata": {},
     "output_type": "execute_result"
    }
   ],
   "source": [
    "y_true"
   ]
  },
  {
   "cell_type": "code",
   "execution_count": 37,
   "metadata": {},
   "outputs": [
    {
     "data": {
      "text/plain": [
       "1.9269863"
      ]
     },
     "execution_count": 37,
     "metadata": {},
     "output_type": "execute_result"
    }
   ],
   "source": [
    "np.mean(tf.keras.losses.mean_squared_error(new_one, val[0:dimension[0]-1]))"
   ]
  },
  {
   "cell_type": "code",
   "execution_count": 24,
   "metadata": {},
   "outputs": [
    {
     "data": {
      "text/plain": [
       "array([4, 6, 6, ..., 7, 2, 5])"
      ]
     },
     "execution_count": 24,
     "metadata": {},
     "output_type": "execute_result"
    }
   ],
   "source": []
  },
  {
   "cell_type": "code",
   "execution_count": 23,
   "metadata": {},
   "outputs": [],
   "source": []
  },
  {
   "cell_type": "code",
   "execution_count": 19,
   "metadata": {},
   "outputs": [],
   "source": [
    "\n",
    "x_train_new = batch_data_train[batch_labels_train == 1]\n",
    "batch_pred_train,val=NN(x_train_new)\n",
    "\n"
   ]
  },
  {
   "cell_type": "code",
   "execution_count": 16,
   "metadata": {},
   "outputs": [],
   "source": [
    "y_true = tf.one_hot(tf.cast(y_true,tf.int64), label_dimensions, dtype=tf.float32)"
   ]
  },
  {
   "cell_type": "code",
   "execution_count": 45,
   "metadata": {},
   "outputs": [
    {
     "data": {
      "text/plain": [
       "<tf.Tensor: shape=(), dtype=float32, numpy=1.6097095>"
      ]
     },
     "execution_count": 45,
     "metadata": {},
     "output_type": "execute_result"
    }
   ],
   "source": [
    "loss"
   ]
  },
  {
   "cell_type": "code",
   "execution_count": 48,
   "metadata": {},
   "outputs": [
    {
     "data": {
      "text/plain": [
       "2.567157"
      ]
     },
     "execution_count": 48,
     "metadata": {},
     "output_type": "execute_result"
    }
   ],
   "source": [
    "np.linalg.norm(val[0]-val[1])"
   ]
  },
  {
   "cell_type": "code",
   "execution_count": null,
   "metadata": {},
   "outputs": [],
   "source": []
  }
 ],
 "metadata": {
  "kernelspec": {
   "display_name": "Python 3",
   "language": "python",
   "name": "python3"
  },
  "language_info": {
   "codemirror_mode": {
    "name": "ipython",
    "version": 3
   },
   "file_extension": ".py",
   "mimetype": "text/x-python",
   "name": "python",
   "nbconvert_exporter": "python",
   "pygments_lexer": "ipython3",
   "version": "3.7.0"
  }
 },
 "nbformat": 4,
 "nbformat_minor": 4
}
