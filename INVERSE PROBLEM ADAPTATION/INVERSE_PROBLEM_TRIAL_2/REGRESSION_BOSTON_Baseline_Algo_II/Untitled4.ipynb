{
 "cells": [
  {
   "cell_type": "code",
   "execution_count": 1,
   "id": "04b2adf8",
   "metadata": {},
   "outputs": [],
   "source": [
    "import sklearn.model_selection as sk\n",
    "from sklearn.datasets import load_boston\n",
    "from sklearn.datasets import make_regression\n",
    "from sklearn.datasets import make_friedman1\n",
    "import tensorflow as tf\n",
    "import numpy as np\n",
    "import matplotlib.pyplot as plt\n",
    "import pandas as pd\n",
    "from sklearn import preprocessing \n",
    "from sklearn.cluster import KMeans\n",
    "from sklearn.metrics import silhouette_samples, silhouette_score\n",
    "from sklearn.preprocessing import StandardScaler\n",
    "from matplotlib import pyplot "
   ]
  },
  {
   "cell_type": "code",
   "execution_count": 56,
   "id": "ae733cf7",
   "metadata": {},
   "outputs": [],
   "source": [
    "#Make regression dataset\n",
    "\n",
    "#X,y=make_regression(n_samples=5000,n_features=2000,n_informative=2000,noise=50)\n",
    "X,y=make_friedman1(n_samples=5000, n_features=2000,  noise=50, random_state=None)"
   ]
  },
  {
   "cell_type": "code",
   "execution_count": 36,
   "id": "bf743d92",
   "metadata": {},
   "outputs": [
    {
     "data": {
      "image/png": "[encoded data removed]",
      "text/plain": [
       "<Figure size 432x288 with 1 Axes>"
      ]
     },
     "metadata": {
      "needs_background": "light"
     },
     "output_type": "display_data"
    }
   ],
   "source": [
    "pyplot.scatter(X,y)\n",
    "pyplot.show()"
   ]
  },
  {
   "cell_type": "code",
   "execution_count": 12,
   "id": "f0ce2556",
   "metadata": {},
   "outputs": [
    {
     "data": {
      "text/html": [
       "<div>\n",
       "<style scoped>\n",
       "    .dataframe tbody tr th:only-of-type {\n",
       "        vertical-align: middle;\n",
       "    }\n",
       "\n",
       "    .dataframe tbody tr th {\n",
       "        vertical-align: top;\n",
       "    }\n",
       "\n",
       "    .dataframe thead th {\n",
       "        text-align: right;\n",
       "    }\n",
       "</style>\n",
       "<table border=\"1\" class=\"dataframe\">\n",
       "  <thead>\n",
       "    <tr style=\"text-align: right;\">\n",
       "      <th></th>\n",
       "      <th>CRIM</th>\n",
       "      <th>ZN</th>\n",
       "      <th>INDUS</th>\n",
       "      <th>CHAS</th>\n",
       "      <th>NOX</th>\n",
       "      <th>RM</th>\n",
       "      <th>AGE</th>\n",
       "      <th>DIS</th>\n",
       "      <th>RAD</th>\n",
       "      <th>TAX</th>\n",
       "      <th>PTRATIO</th>\n",
       "      <th>B</th>\n",
       "      <th>LSTAT</th>\n",
       "      <th>MEDV</th>\n",
       "    </tr>\n",
       "  </thead>\n",
       "  <tbody>\n",
       "    <tr>\n",
       "      <th>0</th>\n",
       "      <td>0.00632</td>\n",
       "      <td>18.0</td>\n",
       "      <td>2.31</td>\n",
       "      <td>0.0</td>\n",
       "      <td>0.538</td>\n",
       "      <td>6.575</td>\n",
       "      <td>65.2</td>\n",
       "      <td>4.0900</td>\n",
       "      <td>1.0</td>\n",
       "      <td>296.0</td>\n",
       "      <td>15.3</td>\n",
       "      <td>396.90</td>\n",
       "      <td>4.98</td>\n",
       "      <td>24.0</td>\n",
       "    </tr>\n",
       "    <tr>\n",
       "      <th>1</th>\n",
       "      <td>0.02731</td>\n",
       "      <td>0.0</td>\n",
       "      <td>7.07</td>\n",
       "      <td>0.0</td>\n",
       "      <td>0.469</td>\n",
       "      <td>6.421</td>\n",
       "      <td>78.9</td>\n",
       "      <td>4.9671</td>\n",
       "      <td>2.0</td>\n",
       "      <td>242.0</td>\n",
       "      <td>17.8</td>\n",
       "      <td>396.90</td>\n",
       "      <td>9.14</td>\n",
       "      <td>21.6</td>\n",
       "    </tr>\n",
       "    <tr>\n",
       "      <th>2</th>\n",
       "      <td>0.02729</td>\n",
       "      <td>0.0</td>\n",
       "      <td>7.07</td>\n",
       "      <td>0.0</td>\n",
       "      <td>0.469</td>\n",
       "      <td>7.185</td>\n",
       "      <td>61.1</td>\n",
       "      <td>4.9671</td>\n",
       "      <td>2.0</td>\n",
       "      <td>242.0</td>\n",
       "      <td>17.8</td>\n",
       "      <td>392.83</td>\n",
       "      <td>4.03</td>\n",
       "      <td>34.7</td>\n",
       "    </tr>\n",
       "    <tr>\n",
       "      <th>3</th>\n",
       "      <td>0.03237</td>\n",
       "      <td>0.0</td>\n",
       "      <td>2.18</td>\n",
       "      <td>0.0</td>\n",
       "      <td>0.458</td>\n",
       "      <td>6.998</td>\n",
       "      <td>45.8</td>\n",
       "      <td>6.0622</td>\n",
       "      <td>3.0</td>\n",
       "      <td>222.0</td>\n",
       "      <td>18.7</td>\n",
       "      <td>394.63</td>\n",
       "      <td>2.94</td>\n",
       "      <td>33.4</td>\n",
       "    </tr>\n",
       "    <tr>\n",
       "      <th>4</th>\n",
       "      <td>0.06905</td>\n",
       "      <td>0.0</td>\n",
       "      <td>2.18</td>\n",
       "      <td>0.0</td>\n",
       "      <td>0.458</td>\n",
       "      <td>7.147</td>\n",
       "      <td>54.2</td>\n",
       "      <td>6.0622</td>\n",
       "      <td>3.0</td>\n",
       "      <td>222.0</td>\n",
       "      <td>18.7</td>\n",
       "      <td>396.90</td>\n",
       "      <td>5.33</td>\n",
       "      <td>36.2</td>\n",
       "    </tr>\n",
       "    <tr>\n",
       "      <th>5</th>\n",
       "      <td>0.02985</td>\n",
       "      <td>0.0</td>\n",
       "      <td>2.18</td>\n",
       "      <td>0.0</td>\n",
       "      <td>0.458</td>\n",
       "      <td>6.430</td>\n",
       "      <td>58.7</td>\n",
       "      <td>6.0622</td>\n",
       "      <td>3.0</td>\n",
       "      <td>222.0</td>\n",
       "      <td>18.7</td>\n",
       "      <td>394.12</td>\n",
       "      <td>5.21</td>\n",
       "      <td>28.7</td>\n",
       "    </tr>\n",
       "    <tr>\n",
       "      <th>6</th>\n",
       "      <td>0.08829</td>\n",
       "      <td>12.5</td>\n",
       "      <td>7.87</td>\n",
       "      <td>0.0</td>\n",
       "      <td>0.524</td>\n",
       "      <td>6.012</td>\n",
       "      <td>66.6</td>\n",
       "      <td>5.5605</td>\n",
       "      <td>5.0</td>\n",
       "      <td>311.0</td>\n",
       "      <td>15.2</td>\n",
       "      <td>395.60</td>\n",
       "      <td>12.43</td>\n",
       "      <td>22.9</td>\n",
       "    </tr>\n",
       "    <tr>\n",
       "      <th>7</th>\n",
       "      <td>0.14455</td>\n",
       "      <td>12.5</td>\n",
       "      <td>7.87</td>\n",
       "      <td>0.0</td>\n",
       "      <td>0.524</td>\n",
       "      <td>6.172</td>\n",
       "      <td>96.1</td>\n",
       "      <td>5.9505</td>\n",
       "      <td>5.0</td>\n",
       "      <td>311.0</td>\n",
       "      <td>15.2</td>\n",
       "      <td>396.90</td>\n",
       "      <td>19.15</td>\n",
       "      <td>27.1</td>\n",
       "    </tr>\n",
       "    <tr>\n",
       "      <th>8</th>\n",
       "      <td>0.21124</td>\n",
       "      <td>12.5</td>\n",
       "      <td>7.87</td>\n",
       "      <td>0.0</td>\n",
       "      <td>0.524</td>\n",
       "      <td>5.631</td>\n",
       "      <td>100.0</td>\n",
       "      <td>6.0821</td>\n",
       "      <td>5.0</td>\n",
       "      <td>311.0</td>\n",
       "      <td>15.2</td>\n",
       "      <td>386.63</td>\n",
       "      <td>29.93</td>\n",
       "      <td>16.5</td>\n",
       "    </tr>\n",
       "    <tr>\n",
       "      <th>9</th>\n",
       "      <td>0.17004</td>\n",
       "      <td>12.5</td>\n",
       "      <td>7.87</td>\n",
       "      <td>0.0</td>\n",
       "      <td>0.524</td>\n",
       "      <td>6.004</td>\n",
       "      <td>85.9</td>\n",
       "      <td>6.5921</td>\n",
       "      <td>5.0</td>\n",
       "      <td>311.0</td>\n",
       "      <td>15.2</td>\n",
       "      <td>386.71</td>\n",
       "      <td>17.10</td>\n",
       "      <td>18.9</td>\n",
       "    </tr>\n",
       "  </tbody>\n",
       "</table>\n",
       "</div>"
      ],
      "text/plain": [
       "      CRIM    ZN  INDUS  CHAS    NOX     RM    AGE     DIS  RAD    TAX  \\\n",
       "0  0.00632  18.0   2.31   0.0  0.538  6.575   65.2  4.0900  1.0  296.0   \n",
       "1  0.02731   0.0   7.07   0.0  0.469  6.421   78.9  4.9671  2.0  242.0   \n",
       "2  0.02729   0.0   7.07   0.0  0.469  7.185   61.1  4.9671  2.0  242.0   \n",
       "3  0.03237   0.0   2.18   0.0  0.458  6.998   45.8  6.0622  3.0  222.0   \n",
       "4  0.06905   0.0   2.18   0.0  0.458  7.147   54.2  6.0622  3.0  222.0   \n",
       "5  0.02985   0.0   2.18   0.0  0.458  6.430   58.7  6.0622  3.0  222.0   \n",
       "6  0.08829  12.5   7.87   0.0  0.524  6.012   66.6  5.5605  5.0  311.0   \n",
       "7  0.14455  12.5   7.87   0.0  0.524  6.172   96.1  5.9505  5.0  311.0   \n",
       "8  0.21124  12.5   7.87   0.0  0.524  5.631  100.0  6.0821  5.0  311.0   \n",
       "9  0.17004  12.5   7.87   0.0  0.524  6.004   85.9  6.5921  5.0  311.0   \n",
       "\n",
       "   PTRATIO       B  LSTAT  MEDV  \n",
       "0     15.3  396.90   4.98  24.0  \n",
       "1     17.8  396.90   9.14  21.6  \n",
       "2     17.8  392.83   4.03  34.7  \n",
       "3     18.7  394.63   2.94  33.4  \n",
       "4     18.7  396.90   5.33  36.2  \n",
       "5     18.7  394.12   5.21  28.7  \n",
       "6     15.2  395.60  12.43  22.9  \n",
       "7     15.2  396.90  19.15  27.1  \n",
       "8     15.2  386.63  29.93  16.5  \n",
       "9     15.2  386.71  17.10  18.9  "
      ]
     },
     "execution_count": 12,
     "metadata": {},
     "output_type": "execute_result"
    }
   ],
   "source": [
    "\n",
    "boston_dataset = load_boston()\n",
    "df = pd.DataFrame(boston_dataset.data, columns=boston_dataset.feature_names)\n",
    "df['MEDV'] = boston_dataset.target\n",
    "df.head(n=10)"
   ]
  },
  {
   "cell_type": "code",
   "execution_count": null,
   "id": "5f282b04",
   "metadata": {},
   "outputs": [],
   "source": []
  },
  {
   "cell_type": "code",
   "execution_count": 14,
   "id": "cb39460b",
   "metadata": {},
   "outputs": [],
   "source": [
    "X = df.loc[:, df.columns != 'MEDV']\n",
    "y = df.loc[:, df.columns == 'MEDV']"
   ]
  },
  {
   "cell_type": "code",
   "execution_count": 15,
   "id": "3c0d2268",
   "metadata": {},
   "outputs": [],
   "source": [
    "X_train, X_test, y_train, y_test = sk.train_test_split(X, y, test_size=0.3, random_state=123)"
   ]
  },
  {
   "cell_type": "code",
   "execution_count": 4,
   "id": "33d42011",
   "metadata": {},
   "outputs": [],
   "source": []
  },
  {
   "cell_type": "code",
   "execution_count": 5,
   "id": "88d10649",
   "metadata": {},
   "outputs": [],
   "source": []
  },
  {
   "cell_type": "code",
   "execution_count": 6,
   "id": "a38ae24a",
   "metadata": {},
   "outputs": [],
   "source": []
  },
  {
   "cell_type": "code",
   "execution_count": 16,
   "id": "56a8a29f",
   "metadata": {},
   "outputs": [],
   "source": [
    "X_train=np.array(X_train)\n",
    "Y_train=np.array(y_train)\n",
    "X_test=np.array(X_test)\n",
    "Y_test=np.array(y_test)"
   ]
  },
  {
   "cell_type": "code",
   "execution_count": 17,
   "id": "cb5217b9",
   "metadata": {},
   "outputs": [],
   "source": [
    "# Normalization\n",
    "\n",
    "mean = X_train.mean(axis=0)\n",
    "std = X_train.std(axis=0)\n",
    "X_train = (X_train - mean) / std\n",
    "X_test = (X_test - mean) / std"
   ]
  },
  {
   "cell_type": "code",
   "execution_count": 48,
   "id": "9cfd8ba5",
   "metadata": {},
   "outputs": [],
   "source": [
    "Y_train=Y_train/100\n",
    "Y_test=Y_test/100"
   ]
  },
  {
   "cell_type": "code",
   "execution_count": 4,
   "id": "01ae0c29",
   "metadata": {},
   "outputs": [
    {
     "ename": "NameError",
     "evalue": "name 'X_train' is not defined",
     "output_type": "error",
     "traceback": [
      "\u001b[0;31m---------------------------------------------------------------------------\u001b[0m",
      "\u001b[0;31mNameError\u001b[0m                                 Traceback (most recent call last)",
      "\u001b[0;32m<ipython-input-4-a0091789dc7f>\u001b[0m in \u001b[0;36m<module>\u001b[0;34m\u001b[0m\n\u001b[0;32m----> 1\u001b[0;31m \u001b[0mdata_train\u001b[0m \u001b[0;34m=\u001b[0m \u001b[0mtf\u001b[0m\u001b[0;34m.\u001b[0m\u001b[0mcast\u001b[0m\u001b[0;34m(\u001b[0m\u001b[0mX_train\u001b[0m\u001b[0;34m,\u001b[0m\u001b[0mtf\u001b[0m\u001b[0;34m.\u001b[0m\u001b[0mfloat32\u001b[0m\u001b[0;34m)\u001b[0m\u001b[0;34m\u001b[0m\u001b[0m\n\u001b[0m",
      "\u001b[0;31mNameError\u001b[0m: name 'X_train' is not defined"
     ]
    }
   ],
   "source": [
    "data_train = tf.cast(X_train,tf.float32)"
   ]
  },
  {
   "cell_type": "code",
   "execution_count": 19,
   "id": "83d68c6b",
   "metadata": {},
   "outputs": [],
   "source": [
    "labels_train = tf.cast(Y_train, tf.float32)"
   ]
  },
  {
   "cell_type": "code",
   "execution_count": 20,
   "id": "b8f5d870",
   "metadata": {},
   "outputs": [],
   "source": [
    "data_test = tf.cast(X_test, tf.float32)\n",
    "labels_test = tf.cast(Y_test, tf.float32)"
   ]
  },
  {
   "cell_type": "code",
   "execution_count": 19,
   "id": "67d3a245",
   "metadata": {},
   "outputs": [
    {
     "data": {
      "text/plain": [
       "<tf.Tensor: id=3, shape=(3500,), dtype=float32, numpy=\n",
       "array([-1259.1865 ,  1063.8015 ,  -925.0276 , ...,  1279.0381 ,\n",
       "         524.08026,  -670.9818 ], dtype=float32)>"
      ]
     },
     "execution_count": 19,
     "metadata": {},
     "output_type": "execute_result"
    }
   ],
   "source": []
  },
  {
   "cell_type": "code",
   "execution_count": null,
   "id": "49a45ef0",
   "metadata": {},
   "outputs": [],
   "source": []
  },
  {
   "cell_type": "code",
   "execution_count": 11,
   "id": "5d398ac7",
   "metadata": {},
   "outputs": [],
   "source": [
    "np.savetxt(\"data_train.data\", data_train)\n",
    "np.savetxt(\"data_test.data\", data_test)\n",
    "np.savetxt(\"labels_test.data\", labels_test)\n",
    "np.savetxt(\"labels_train.data\", labels_train)\n",
    "        "
   ]
  },
  {
   "cell_type": "code",
   "execution_count": 2,
   "id": "25ff7b3d",
   "metadata": {},
   "outputs": [],
   "source": [
    "        data_train=np.loadtxt(\"data_train.data\")\n",
    "        labels_train=np.loadtxt(\"labels_train.data\")\n",
    "        data_test=np.loadtxt(\"data_test.data\")\n",
    "        labels_test=np.loadtxt(\"labels_test.data\")"
   ]
  },
  {
   "cell_type": "code",
   "execution_count": 3,
   "id": "b76dea47",
   "metadata": {},
   "outputs": [],
   "source": [
    "x_train=data_train\n",
    "y_train=labels_train\n",
    "x_test=data_test\n",
    "y_test=labels_test\n"
   ]
  },
  {
   "cell_type": "code",
   "execution_count": 6,
   "id": "6b4c73dc",
   "metadata": {},
   "outputs": [
    {
     "name": "stdout",
     "output_type": "stream",
     "text": [
      "Model: \"sequential_2\"\n",
      "_________________________________________________________________\n",
      "Layer (type)                 Output Shape              Param #   \n",
      "=================================================================\n",
      "dense_20 (Dense)             (None, 100)               1400      \n",
      "_________________________________________________________________\n",
      "dense_21 (Dense)             (None, 100)               10100     \n",
      "_________________________________________________________________\n",
      "dense_22 (Dense)             (None, 100)               10100     \n",
      "_________________________________________________________________\n",
      "dense_23 (Dense)             (None, 100)               10100     \n",
      "_________________________________________________________________\n",
      "dense_24 (Dense)             (None, 100)               10100     \n",
      "_________________________________________________________________\n",
      "dense_25 (Dense)             (None, 100)               10100     \n",
      "_________________________________________________________________\n",
      "dense_26 (Dense)             (None, 100)               10100     \n",
      "_________________________________________________________________\n",
      "dense_27 (Dense)             (None, 100)               10100     \n",
      "_________________________________________________________________\n",
      "dense_28 (Dense)             (None, 100)               10100     \n",
      "_________________________________________________________________\n",
      "dense_29 (Dense)             (None, 1)                 101       \n",
      "=================================================================\n",
      "Total params: 82,301\n",
      "Trainable params: 82,301\n",
      "Non-trainable params: 0\n",
      "_________________________________________________________________\n",
      "Train on 354 samples\n",
      "Epoch 1/100\n",
      "354/354 [==============================] - 1s 3ms/sample - loss: 573.0671 - mean_squared_error: 573.0671\n",
      "Epoch 2/100\n",
      "354/354 [==============================] - 0s 83us/sample - loss: 439.7425 - mean_squared_error: 439.7425\n",
      "Epoch 3/100\n",
      "354/354 [==============================] - 0s 87us/sample - loss: 224.5795 - mean_squared_error: 224.5795\n",
      "Epoch 4/100\n",
      "354/354 [==============================] - 0s 87us/sample - loss: 81.8044 - mean_squared_error: 81.8044\n",
      "Epoch 5/100\n",
      "354/354 [==============================] - 0s 106us/sample - loss: 64.1515 - mean_squared_error: 64.1515\n",
      "Epoch 6/100\n",
      "354/354 [==============================] - 0s 108us/sample - loss: 55.6710 - mean_squared_error: 55.6710\n",
      "Epoch 7/100\n",
      "354/354 [==============================] - 0s 116us/sample - loss: 41.6299 - mean_squared_error: 41.6299\n",
      "Epoch 8/100\n",
      "354/354 [==============================] - 0s 153us/sample - loss: 36.8611 - mean_squared_error: 36.8612\n",
      "Epoch 9/100\n",
      "354/354 [==============================] - 0s 146us/sample - loss: 34.2952 - mean_squared_error: 34.2952\n",
      "Epoch 10/100\n",
      "354/354 [==============================] - 0s 176us/sample - loss: 27.5345 - mean_squared_error: 27.5345\n",
      "Epoch 11/100\n",
      "354/354 [==============================] - 0s 108us/sample - loss: 25.8709 - mean_squared_error: 25.8709\n",
      "Epoch 12/100\n",
      "354/354 [==============================] - 0s 94us/sample - loss: 23.0502 - mean_squared_error: 23.0502\n",
      "Epoch 13/100\n",
      "354/354 [==============================] - 0s 165us/sample - loss: 19.2386 - mean_squared_error: 19.2386\n",
      "Epoch 14/100\n",
      "354/354 [==============================] - 0s 180us/sample - loss: 18.4885 - mean_squared_error: 18.4885\n",
      "Epoch 15/100\n",
      "354/354 [==============================] - 0s 155us/sample - loss: 16.8074 - mean_squared_error: 16.8074\n",
      "Epoch 16/100\n",
      "354/354 [==============================] - 0s 134us/sample - loss: 15.6315 - mean_squared_error: 15.6315\n",
      "Epoch 17/100\n",
      "354/354 [==============================] - 0s 134us/sample - loss: 14.2782 - mean_squared_error: 14.2782\n",
      "Epoch 18/100\n",
      "354/354 [==============================] - 0s 120us/sample - loss: 13.5559 - mean_squared_error: 13.5559\n",
      "Epoch 19/100\n",
      "354/354 [==============================] - 0s 114us/sample - loss: 12.7489 - mean_squared_error: 12.7489\n",
      "Epoch 20/100\n",
      "354/354 [==============================] - 0s 109us/sample - loss: 12.7475 - mean_squared_error: 12.7475\n",
      "Epoch 21/100\n",
      "354/354 [==============================] - 0s 166us/sample - loss: 12.1060 - mean_squared_error: 12.1060\n",
      "Epoch 22/100\n",
      "354/354 [==============================] - 0s 103us/sample - loss: 11.3181 - mean_squared_error: 11.3181\n",
      "Epoch 23/100\n",
      "354/354 [==============================] - 0s 96us/sample - loss: 10.8501 - mean_squared_error: 10.8501\n",
      "Epoch 24/100\n",
      "354/354 [==============================] - 0s 170us/sample - loss: 10.6678 - mean_squared_error: 10.6678\n",
      "Epoch 25/100\n",
      "354/354 [==============================] - 0s 115us/sample - loss: 10.5004 - mean_squared_error: 10.5004\n",
      "Epoch 26/100\n",
      "354/354 [==============================] - 0s 112us/sample - loss: 10.4393 - mean_squared_error: 10.4393\n",
      "Epoch 27/100\n",
      "354/354 [==============================] - 0s 119us/sample - loss: 11.3693 - mean_squared_error: 11.3693\n",
      "Epoch 28/100\n",
      "354/354 [==============================] - 0s 86us/sample - loss: 10.9819 - mean_squared_error: 10.9819\n",
      "Epoch 29/100\n",
      "354/354 [==============================] - 0s 107us/sample - loss: 11.4854 - mean_squared_error: 11.4854\n",
      "Epoch 30/100\n",
      "354/354 [==============================] - 0s 162us/sample - loss: 10.9681 - mean_squared_error: 10.9681\n",
      "Epoch 31/100\n",
      "354/354 [==============================] - 0s 163us/sample - loss: 10.4263 - mean_squared_error: 10.4263\n",
      "Epoch 32/100\n",
      "354/354 [==============================] - 0s 116us/sample - loss: 9.6437 - mean_squared_error: 9.6437\n",
      "Epoch 33/100\n",
      "354/354 [==============================] - 0s 145us/sample - loss: 9.2056 - mean_squared_error: 9.2056\n",
      "Epoch 34/100\n",
      "354/354 [==============================] - 0s 158us/sample - loss: 9.0151 - mean_squared_error: 9.0151\n",
      "Epoch 35/100\n",
      "354/354 [==============================] - 0s 131us/sample - loss: 8.9027 - mean_squared_error: 8.9027\n",
      "Epoch 36/100\n",
      "354/354 [==============================] - 0s 140us/sample - loss: 8.8423 - mean_squared_error: 8.8423\n",
      "Epoch 37/100\n",
      "354/354 [==============================] - 0s 126us/sample - loss: 8.6825 - mean_squared_error: 8.6825\n",
      "Epoch 38/100\n",
      "354/354 [==============================] - 0s 167us/sample - loss: 8.7606 - mean_squared_error: 8.7606\n",
      "Epoch 39/100\n",
      "354/354 [==============================] - 0s 94us/sample - loss: 8.5682 - mean_squared_error: 8.5682\n",
      "Epoch 40/100\n",
      "354/354 [==============================] - 0s 90us/sample - loss: 8.2826 - mean_squared_error: 8.2826\n",
      "Epoch 41/100\n",
      "354/354 [==============================] - 0s 104us/sample - loss: 8.0531 - mean_squared_error: 8.0531\n",
      "Epoch 42/100\n",
      "354/354 [==============================] - 0s 83us/sample - loss: 8.1940 - mean_squared_error: 8.1940\n",
      "Epoch 43/100\n",
      "354/354 [==============================] - 0s 141us/sample - loss: 8.1800 - mean_squared_error: 8.1800\n",
      "Epoch 44/100\n",
      "354/354 [==============================] - 0s 110us/sample - loss: 8.0099 - mean_squared_error: 8.0099\n",
      "Epoch 45/100\n",
      "354/354 [==============================] - 0s 117us/sample - loss: 8.3808 - mean_squared_error: 8.3808\n",
      "Epoch 46/100\n",
      "354/354 [==============================] - 0s 122us/sample - loss: 7.6872 - mean_squared_error: 7.6872\n",
      "Epoch 47/100\n",
      "354/354 [==============================] - 0s 143us/sample - loss: 7.6556 - mean_squared_error: 7.6556\n",
      "Epoch 48/100\n",
      "354/354 [==============================] - 0s 170us/sample - loss: 7.3876 - mean_squared_error: 7.3876\n",
      "Epoch 49/100\n",
      "354/354 [==============================] - 0s 116us/sample - loss: 7.5303 - mean_squared_error: 7.5303\n",
      "Epoch 50/100\n",
      "354/354 [==============================] - 0s 117us/sample - loss: 7.3870 - mean_squared_error: 7.3870\n",
      "Epoch 51/100\n",
      "354/354 [==============================] - 0s 131us/sample - loss: 7.1400 - mean_squared_error: 7.1400\n",
      "Epoch 52/100\n",
      "354/354 [==============================] - 0s 115us/sample - loss: 7.4450 - mean_squared_error: 7.4450\n",
      "Epoch 53/100\n",
      "354/354 [==============================] - 0s 96us/sample - loss: 7.5554 - mean_squared_error: 7.5554\n",
      "Epoch 54/100\n",
      "354/354 [==============================] - 0s 116us/sample - loss: 6.8420 - mean_squared_error: 6.8420\n",
      "Epoch 55/100\n",
      "354/354 [==============================] - 0s 135us/sample - loss: 7.3928 - mean_squared_error: 7.3928\n",
      "Epoch 56/100\n"
     ]
    },
    {
     "name": "stdout",
     "output_type": "stream",
     "text": [
      "354/354 [==============================] - 0s 144us/sample - loss: 7.3138 - mean_squared_error: 7.3138\n",
      "Epoch 57/100\n",
      "354/354 [==============================] - 0s 117us/sample - loss: 7.2244 - mean_squared_error: 7.2244\n",
      "Epoch 58/100\n",
      "354/354 [==============================] - 0s 117us/sample - loss: 7.1432 - mean_squared_error: 7.1432\n",
      "Epoch 59/100\n",
      "354/354 [==============================] - 0s 130us/sample - loss: 6.6728 - mean_squared_error: 6.6728\n",
      "Epoch 60/100\n",
      "354/354 [==============================] - 0s 103us/sample - loss: 7.0874 - mean_squared_error: 7.0874\n",
      "Epoch 61/100\n",
      "354/354 [==============================] - 0s 139us/sample - loss: 6.4086 - mean_squared_error: 6.4086\n",
      "Epoch 62/100\n",
      "354/354 [==============================] - 0s 127us/sample - loss: 6.4900 - mean_squared_error: 6.4900\n",
      "Epoch 63/100\n",
      "354/354 [==============================] - 0s 138us/sample - loss: 6.3628 - mean_squared_error: 6.3628\n",
      "Epoch 64/100\n",
      "354/354 [==============================] - 0s 147us/sample - loss: 6.0554 - mean_squared_error: 6.0554\n",
      "Epoch 65/100\n",
      "354/354 [==============================] - 0s 119us/sample - loss: 6.1186 - mean_squared_error: 6.1186\n",
      "Epoch 66/100\n",
      "354/354 [==============================] - 0s 118us/sample - loss: 6.0216 - mean_squared_error: 6.0216\n",
      "Epoch 67/100\n",
      "354/354 [==============================] - 0s 141us/sample - loss: 5.9789 - mean_squared_error: 5.9789\n",
      "Epoch 68/100\n",
      "354/354 [==============================] - 0s 130us/sample - loss: 5.9354 - mean_squared_error: 5.9354\n",
      "Epoch 69/100\n",
      "354/354 [==============================] - 0s 126us/sample - loss: 5.8991 - mean_squared_error: 5.8991\n",
      "Epoch 70/100\n",
      "354/354 [==============================] - 0s 131us/sample - loss: 5.8957 - mean_squared_error: 5.8957\n",
      "Epoch 71/100\n",
      "354/354 [==============================] - 0s 153us/sample - loss: 6.0529 - mean_squared_error: 6.0529\n",
      "Epoch 72/100\n",
      "354/354 [==============================] - 0s 189us/sample - loss: 5.8997 - mean_squared_error: 5.8997\n",
      "Epoch 73/100\n",
      "354/354 [==============================] - 0s 129us/sample - loss: 6.3294 - mean_squared_error: 6.3294\n",
      "Epoch 74/100\n",
      "354/354 [==============================] - 0s 144us/sample - loss: 5.6911 - mean_squared_error: 5.6911\n",
      "Epoch 75/100\n",
      "354/354 [==============================] - 0s 191us/sample - loss: 6.1733 - mean_squared_error: 6.1733\n",
      "Epoch 76/100\n",
      "354/354 [==============================] - 0s 168us/sample - loss: 5.9872 - mean_squared_error: 5.9872\n",
      "Epoch 77/100\n",
      "354/354 [==============================] - 0s 130us/sample - loss: 5.5364 - mean_squared_error: 5.5364\n",
      "Epoch 78/100\n",
      "354/354 [==============================] - 0s 137us/sample - loss: 5.6197 - mean_squared_error: 5.6197\n",
      "Epoch 79/100\n",
      "354/354 [==============================] - 0s 164us/sample - loss: 5.8600 - mean_squared_error: 5.8600\n",
      "Epoch 80/100\n",
      "354/354 [==============================] - 0s 147us/sample - loss: 5.7571 - mean_squared_error: 5.7571\n",
      "Epoch 81/100\n",
      "354/354 [==============================] - 0s 170us/sample - loss: 5.2263 - mean_squared_error: 5.2263\n",
      "Epoch 82/100\n",
      "354/354 [==============================] - 0s 117us/sample - loss: 5.7469 - mean_squared_error: 5.7469\n",
      "Epoch 83/100\n",
      "354/354 [==============================] - 0s 132us/sample - loss: 5.3546 - mean_squared_error: 5.3546\n",
      "Epoch 84/100\n",
      "354/354 [==============================] - 0s 148us/sample - loss: 5.5109 - mean_squared_error: 5.5109\n",
      "Epoch 85/100\n",
      "354/354 [==============================] - 0s 115us/sample - loss: 5.6117 - mean_squared_error: 5.6117\n",
      "Epoch 86/100\n",
      "354/354 [==============================] - 0s 112us/sample - loss: 5.7390 - mean_squared_error: 5.7390\n",
      "Epoch 87/100\n",
      "354/354 [==============================] - 0s 120us/sample - loss: 5.3967 - mean_squared_error: 5.3967\n",
      "Epoch 88/100\n",
      "354/354 [==============================] - 0s 124us/sample - loss: 5.4227 - mean_squared_error: 5.4227\n",
      "Epoch 89/100\n",
      "354/354 [==============================] - 0s 147us/sample - loss: 4.9538 - mean_squared_error: 4.9538\n",
      "Epoch 90/100\n",
      "354/354 [==============================] - 0s 111us/sample - loss: 5.2389 - mean_squared_error: 5.2389\n",
      "Epoch 91/100\n",
      "354/354 [==============================] - 0s 146us/sample - loss: 5.2078 - mean_squared_error: 5.2078\n",
      "Epoch 92/100\n",
      "354/354 [==============================] - 0s 162us/sample - loss: 4.9441 - mean_squared_error: 4.9441\n",
      "Epoch 93/100\n",
      "354/354 [==============================] - 0s 126us/sample - loss: 5.8050 - mean_squared_error: 5.8050\n",
      "Epoch 94/100\n",
      "354/354 [==============================] - 0s 174us/sample - loss: 5.6877 - mean_squared_error: 5.6877\n",
      "Epoch 95/100\n",
      "354/354 [==============================] - 0s 125us/sample - loss: 5.6284 - mean_squared_error: 5.6284\n",
      "Epoch 96/100\n",
      "354/354 [==============================] - 0s 152us/sample - loss: 5.0372 - mean_squared_error: 5.0372\n",
      "Epoch 97/100\n",
      "354/354 [==============================] - 0s 177us/sample - loss: 5.0055 - mean_squared_error: 5.0055\n",
      "Epoch 98/100\n",
      "354/354 [==============================] - 0s 118us/sample - loss: 5.0715 - mean_squared_error: 5.0715\n",
      "Epoch 99/100\n",
      "354/354 [==============================] - 0s 151us/sample - loss: 4.9301 - mean_squared_error: 4.9301\n",
      "Epoch 100/100\n",
      "354/354 [==============================] - 0s 130us/sample - loss: 4.9109 - mean_squared_error: 4.9109\n",
      "INFO:tensorflow:Assets written to: WEIGHTS/model1/assets\n",
      "152/1 [================================================================================================================================================================================================================================================================================================================================================================================================================================================================================================================================================================================================================================================================================================================================================================================================================================================================================================================================================================================================================================================================================================================================================================================================================================================================================================================================================================================================================================================================================================================================================================================================================================================================================================================================================================================================================================================================================================================================================================================================================================================================================================================================================================================================================================================================================================================================================================================================================================================================================================================================================================================================================================================================================================================================================================================================================================================================================================================================================================================================================================================================================================================================================================================================================================================================================================================================================================================================================================================================================================================================================================================================================================================================================================================================================================================================================================================================================================================================================================================================================================================================================================================================================================================================================================================================================================================================================================================================================================================================================================================================================================================================================================================================================================================================================] - 0s 1ms/sample - loss: 12.7172 - mean_squared_error: 13.2260\n"
     ]
    },
    {
     "data": {
      "text/plain": [
       "[13.226044755232962, 13.226046]"
      ]
     },
     "execution_count": 6,
     "metadata": {},
     "output_type": "execute_result"
    }
   ],
   "source": [
    "import tensorflow as tf\n",
    "from tensorflow import keras\n",
    "from tensorflow.keras import layers\n",
    "\n",
    "model = keras.Sequential()\n",
    "model.add(layers.Dense(100, activation='linear', input_shape=(13,)))\n",
    "model.add(layers.Dense(100, activation='elu'))\n",
    "model.add(layers.Dense(100, activation='elu'))\n",
    "model.add(layers.Dense(100, activation='elu'))\n",
    "model.add(layers.Dense(100, activation='elu'))\n",
    "model.add(layers.Dense(100, activation='elu'))\n",
    "model.add(layers.Dense(100, activation='elu'))\n",
    "model.add(layers.Dense(100, activation='elu'))\n",
    "model.add(layers.Dense(100, activation='elu'))\n",
    "model.add(layers.Dense(1, activation='linear'))\n",
    "model.summary()\n",
    "\n",
    "opt = keras.optimizers.Adam(learning_rate=0.001)\n",
    "model.compile(loss='mean_squared_error', optimizer=opt, metrics=['mean_squared_error'])\n",
    "model.fit(x_train,y_train,batch_size=100,epochs=100,verbose=1)\n",
    "model.save(\"WEIGHTS\"+'/'+\"model\"+str(1))\n",
    "model.evaluate(x_test, y_test)"
   ]
  },
  {
   "cell_type": "code",
   "execution_count": 13,
   "id": "485678d3",
   "metadata": {},
   "outputs": [
    {
     "name": "stdout",
     "output_type": "stream",
     "text": [
      "\r",
      "152/1 [================================================================================================================================================================================================================================================================================================================================================================================================================================================================================================================================================================================================================================================================================================================================================================================================================================================================================================================================================================================================================================================================================================================================================================================================================================================================================================================================================================================================================================================================================================================================================================================================================================================================================================================================================================================================================================================================================================================================================================================================================================================================================================================================================================================================================================================================================================================================================================================================================================================================================================================================================================================================================================================================================================================================================================================================================================================================================================================================================================================================================================================================================================================================================================================================================================================================================================================================================================================================================================================================================================================================================================================================================================================================================================================================================================================================================================================================================================================================================================================================================================================================================================================================================================================================================================================================================================================================================================================================================================================================================================================================================================================================================================================================================================================================================] - 0s 81us/sample - loss: 15.3152 - mean_squared_error: 16.4778\n"
     ]
    }
   ],
   "source": [
    "truncated-----14.30, 22.56, 17.46, 15.51"
   ]
  },
  {
   "cell_type": "code",
   "execution_count": 3,
   "id": "92f9e104",
   "metadata": {},
   "outputs": [],
   "source": [
    "overtrained----13.49, 12.07, 12.55, 13.67, 15.26, 15.86, 13,14.9, 16.47, 15.51, 12.55\n",
    "truncated------18.29,"
   ]
  },
  {
   "cell_type": "code",
   "execution_count": 50,
   "id": "c43b8294",
   "metadata": {},
   "outputs": [],
   "source": [
    "y_pred=model(x_test)"
   ]
  },
  {
   "cell_type": "code",
   "execution_count": 49,
   "id": "cc846512",
   "metadata": {},
   "outputs": [],
   "source": [
    "y_true=tf.reshape(y_test,(len(y_test),1))"
   ]
  },
  {
   "cell_type": "code",
   "execution_count": 53,
   "id": "f30c9807",
   "metadata": {},
   "outputs": [
    {
     "data": {
      "text/plain": [
       "14.306395"
      ]
     },
     "execution_count": 53,
     "metadata": {},
     "output_type": "execute_result"
    }
   ],
   "source": [
    "np.mean(tf.keras.losses.MSE(y_true, y_pred))"
   ]
  },
  {
   "cell_type": "code",
   "execution_count": 38,
   "id": "9d0aaf52",
   "metadata": {},
   "outputs": [
    {
     "data": {
      "text/plain": [
       "array([15.        , 26.60000038, 45.40000153, 20.79999924, 34.90000153,\n",
       "       21.89999962, 28.70000076,  7.19999981, 20.        , 32.20000076,\n",
       "       24.10000038, 18.5       , 13.5       , 27.        , 23.10000038,\n",
       "       18.89999962, 24.5       , 43.09999847, 19.79999924, 13.80000019,\n",
       "       15.60000038, 50.        , 37.20000076, 46.        , 50.        ,\n",
       "       21.20000076, 14.89999962, 19.60000038, 19.39999962, 18.60000038,\n",
       "       26.5       , 32.        , 10.89999962, 20.        , 21.39999962,\n",
       "       31.        , 25.        , 15.39999962, 13.10000038, 37.59999847,\n",
       "       37.        , 18.89999962, 27.89999962, 50.        , 14.39999962,\n",
       "       22.        , 19.89999962, 21.60000038, 15.60000038, 15.        ,\n",
       "       32.40000153, 29.60000038, 20.39999962, 12.30000019, 19.10000038,\n",
       "       14.89999962, 17.79999924,  8.80000019, 35.40000153, 11.5       ,\n",
       "       19.60000038, 20.60000038, 15.60000038, 19.89999962, 23.29999924,\n",
       "       22.29999924, 24.79999924, 16.10000038, 22.79999924, 30.5       ,\n",
       "       20.39999962, 24.39999962, 16.60000038, 26.20000076, 16.39999962,\n",
       "       20.10000038, 13.89999962, 19.39999962, 22.79999924, 13.80000019,\n",
       "       31.60000038, 10.5       , 23.79999924, 22.39999962, 19.29999924,\n",
       "       22.20000076, 12.60000038, 19.39999962, 22.20000076, 29.79999924,\n",
       "        9.60000038, 34.90000153, 21.39999962, 25.29999924, 32.90000153,\n",
       "       26.60000038, 14.60000038, 31.5       , 23.29999924, 33.29999924,\n",
       "       17.5       , 19.10000038, 48.5       , 17.10000038, 23.10000038,\n",
       "       28.39999962, 18.89999962, 13.        , 17.20000076, 24.10000038,\n",
       "       18.5       , 21.79999924, 13.30000019, 23.        , 14.10000038,\n",
       "       23.89999962, 24.        , 17.20000076, 21.5       , 19.10000038,\n",
       "       20.79999924, 36.        , 20.10000038,  8.69999981, 13.60000038,\n",
       "       22.        , 22.20000076, 21.10000038, 13.39999962, 17.39999962,\n",
       "       20.10000038, 10.19999981, 23.10000038, 10.19999981, 13.10000038,\n",
       "       14.30000019, 14.5       ,  7.19999981, 19.60000038, 20.60000038,\n",
       "       22.70000076, 26.39999962,  7.5       , 20.29999924, 50.        ,\n",
       "        8.5       , 20.29999924, 16.10000038, 22.        , 19.60000038,\n",
       "       10.19999981, 23.20000076])"
      ]
     },
     "execution_count": 38,
     "metadata": {},
     "output_type": "execute_result"
    }
   ],
   "source": [
    "y_test"
   ]
  },
  {
   "cell_type": "code",
   "execution_count": 15,
   "id": "24ab2ada",
   "metadata": {},
   "outputs": [
    {
     "data": {
      "text/plain": [
       "KMeans(n_clusters=3)"
      ]
     },
     "execution_count": 15,
     "metadata": {},
     "output_type": "execute_result"
    }
   ],
   "source": [
    "Kmean=KMeans(n_clusters=3)\n",
    "Kmean.fit(data_train)"
   ]
  },
  {
   "cell_type": "code",
   "execution_count": 16,
   "id": "b4a41a23",
   "metadata": {},
   "outputs": [
    {
     "data": {
      "text/plain": [
       "array([0, 2, 0, ..., 0, 2, 0], dtype=int32)"
      ]
     },
     "execution_count": 16,
     "metadata": {},
     "output_type": "execute_result"
    }
   ],
   "source": [
    "Kmean.labels_"
   ]
  },
  {
   "cell_type": "code",
   "execution_count": 22,
   "id": "4817ad1b",
   "metadata": {},
   "outputs": [],
   "source": [
    "\n",
    "sil = []\n",
    "kmax = 50\n",
    "\n",
    "# dissimilarity would not be defined for a single cluster, thus, minimum number of clusters should be 2\n",
    "for k in range(2, kmax+1):\n",
    "  kmeans = KMeans(n_clusters = k).fit(data_train)\n",
    "  labels = kmeans.labels_\n",
    "  sil.append(silhouette_score(data_train, labels, metric = 'euclidean'))"
   ]
  },
  {
   "cell_type": "code",
   "execution_count": 10,
   "id": "a519321a",
   "metadata": {},
   "outputs": [
    {
     "data": {
      "text/plain": [
       "[0.3702484711208639,\n",
       " 0.2632383497160655,\n",
       " 0.2888659398076396,\n",
       " 0.2880088870572478,\n",
       " 0.29884195325892743,\n",
       " 0.2737859540507855,\n",
       " 0.28353360335803107,\n",
       " 0.2846758851445227,\n",
       " 0.2913167214278734,\n",
       " 0.3053912661178809,\n",
       " 0.29101500600394986,\n",
       " 0.2840519801595975,\n",
       " 0.2695282510340254,\n",
       " 0.2903754297114718,\n",
       " 0.2925622278765131,\n",
       " 0.2779338420424268,\n",
       " 0.28319764113941653,\n",
       " 0.27119573416286874,\n",
       " 0.2572006008125852,\n",
       " 0.28163528824684764,\n",
       " 0.2831332221961422,\n",
       " 0.2888016623012743,\n",
       " 0.2909180257513012,\n",
       " 0.290125482435202,\n",
       " 0.29539674519910125,\n",
       " 0.2582800202542239,\n",
       " 0.2752278299091471,\n",
       " 0.274074905890665,\n",
       " 0.2653297895227251,\n",
       " 0.282671841717905,\n",
       " 0.26854262932842776,\n",
       " 0.2718001099508357,\n",
       " 0.27827169734247725,\n",
       " 0.26250621675782426,\n",
       " 0.2819203645164336,\n",
       " 0.2751766326283766,\n",
       " 0.2913236177476869,\n",
       " 0.26844923899517387,\n",
       " 0.26676910319257685,\n",
       " 0.2615434395146003,\n",
       " 0.2638991813234472,\n",
       " 0.28176425027394486,\n",
       " 0.26853250922161653,\n",
       " 0.2628392408986684,\n",
       " 0.2686095121833706,\n",
       " 0.2884776008609961,\n",
       " 0.263525444216967,\n",
       " 0.2895255891578719,\n",
       " 0.26809620267410117]"
      ]
     },
     "execution_count": 10,
     "metadata": {},
     "output_type": "execute_result"
    }
   ],
   "source": [
    "sil"
   ]
  },
  {
   "cell_type": "code",
   "execution_count": 24,
   "id": "554f300d",
   "metadata": {},
   "outputs": [
    {
     "data": {
      "image/png": "[encoded data removed]",
      "text/plain": [
       "<Figure size 432x288 with 1 Axes>"
      ]
     },
     "metadata": {
      "needs_background": "light"
     },
     "output_type": "display_data"
    }
   ],
   "source": [
    "cost =[]\n",
    "for i in range(1, 20):\n",
    "    KM = KMeans(n_clusters = i, max_iter = 500)\n",
    "    KM.fit(X_train)\n",
    "      \n",
    "    # calculates squared error\n",
    "    # for the clustered points\n",
    "    cost.append(KM.inertia_)     \n",
    "  \n",
    "# plot the cost against K values\n",
    "plt.plot(range(1, 20), cost, color ='g', linewidth ='3')\n",
    "plt.xlabel(\"Value of K\")\n",
    "plt.ylabel(\"Sqaured Error (Cost)\")\n",
    "plt.show() # clear the plot"
   ]
  },
  {
   "cell_type": "code",
   "execution_count": null,
   "id": "3adc08e5",
   "metadata": {},
   "outputs": [],
   "source": []
  }
 ],
 "metadata": {
  "kernelspec": {
   "display_name": "Python 3",
   "language": "python",
   "name": "python3"
  },
  "language_info": {
   "codemirror_mode": {
    "name": "ipython",
    "version": 3
   },
   "file_extension": ".py",
   "mimetype": "text/x-python",
   "name": "python",
   "nbconvert_exporter": "python",
   "pygments_lexer": "ipython3",
   "version": "3.7.0"
  }
 },
 "nbformat": 4,
 "nbformat_minor": 5
}
